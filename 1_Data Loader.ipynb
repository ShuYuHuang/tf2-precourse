{
 "cells": [
  {
   "cell_type": "markdown",
   "metadata": {},
   "source": [
    "# Data Loader\n",
    "讀取檔案的function常稱呼為Data Loader。Tensorflow 2.0本身帶有一些程式，可以客製化的讀取檔案，在做Deep Learning時將資料從CPU或硬碟讀取到GPU，使資料能夠與Model參數在GPU上運算。\n",
    "TF2.0中 tf.data這個庫中的各種class和function就是來幫助各位客製化data loader。\n",
    "\n",
    "**Data Loader要件:**\n",
    "1. Dataset物件- 抽取data的來源，可以用各種方式形成，\n",
    "\n",
    "   可以被iterate(e.g. for x in Dataset)，但不可以被index (e.g. Dataset[3])\n",
    "2. Dataset操作- 對Dataset以特定方式抽取、分割、合併、加速、映射等等動作，來行程最後訓練、測試用的Data Loader"
   ]
  },
  {
   "cell_type": "markdown",
   "metadata": {},
   "source": [
    "# Dataset Types"
   ]
  },
  {
   "cell_type": "markdown",
   "metadata": {},
   "source": [
    "這邊我們先從各種Dataset type開始介紹起\n",
    "\n",
    "**內容**:\n",
    "1. From Tensors\n",
    "2. From Tensor Slices\n",
    "3. List Files\n",
    "4. From Generator"
   ]
  },
  {
   "cell_type": "code",
   "execution_count": null,
   "metadata": {},
   "outputs": [],
   "source": [
    "!gdown -q https://drive.google.com/u/0/uc?id=1v8wOZmhcAeZj8ggqq7ZTvK7djNrI1yBM&export=download\n",
    "!unzip -q example_data.zip"
   ]
  },
  {
   "cell_type": "code",
   "execution_count": 1,
   "metadata": {},
   "outputs": [],
   "source": [
    "import tensorflow as tf\n",
    "from tensorflow import data\n",
    "import numpy as np"
   ]
  },
  {
   "cell_type": "markdown",
   "metadata": {},
   "source": [
    "## From Tensors"
   ]
  },
  {
   "cell_type": "markdown",
   "metadata": {},
   "source": [
    "從tensor建立只有一單位資料的Dataset: .from_tensors"
   ]
  },
  {
   "cell_type": "code",
   "execution_count": 2,
   "metadata": {},
   "outputs": [
    {
     "name": "stdout",
     "output_type": "stream",
     "text": [
      "tf.Tensor([0 1 2], shape=(3,), dtype=int32)\n"
     ]
    }
   ],
   "source": [
    "dataset=data.Dataset.from_tensors([0,1,2])\n",
    "for i in dataset:\n",
    "    print(i)"
   ]
  },
  {
   "cell_type": "markdown",
   "metadata": {},
   "source": [
    "該Dataset只有一個項目，要透過後續操作把項目依照指定方式分開才能後續使用，實際上有點冗贅\n",
    "\n",
    "使用起來跟tf.constant沒什麼差別"
   ]
  },
  {
   "cell_type": "markdown",
   "metadata": {},
   "source": [
    "## From Tensor Slices"
   ]
  },
  {
   "cell_type": "markdown",
   "metadata": {},
   "source": [
    "從tensor建立有數個單位資料的Dataset: .from_tensor_slices"
   ]
  },
  {
   "cell_type": "code",
   "execution_count": 3,
   "metadata": {},
   "outputs": [
    {
     "name": "stdout",
     "output_type": "stream",
     "text": [
      "tf.Tensor(0, shape=(), dtype=int32)\n",
      "tf.Tensor(1, shape=(), dtype=int32)\n",
      "tf.Tensor(2, shape=(), dtype=int32)\n"
     ]
    }
   ],
   "source": [
    "dataset=data.Dataset.from_tensor_slices([0,1,2])\n",
    "for i in dataset:\n",
    "    print(i)"
   ]
  },
  {
   "cell_type": "markdown",
   "metadata": {},
   "source": [
    "會依照輸入項目轉成Tensor，再由第0 rank分裂成數個單位，在iterate時會一個個輸出"
   ]
  },
  {
   "cell_type": "markdown",
   "metadata": {},
   "source": [
    "## List Files"
   ]
  },
  {
   "cell_type": "markdown",
   "metadata": {},
   "source": [
    "用一列檔案名稱建立Dataset: .list_files"
   ]
  },
  {
   "cell_type": "code",
   "execution_count": 4,
   "metadata": {},
   "outputs": [
    {
     "name": "stdout",
     "output_type": "stream",
     "text": [
      "tf.Tensor(b'example_data/1.txt', shape=(), dtype=string)\n",
      "tf.Tensor(b'example_data/2.txt', shape=(), dtype=string)\n",
      "tf.Tensor(b'example_data/0.txt', shape=(), dtype=string)\n",
      "tf.Tensor(b'example_data/3.txt', shape=(), dtype=string)\n"
     ]
    }
   ],
   "source": [
    "dataset=data.Dataset.list_files(\"example_data/*.txt\")\n",
    "for i in dataset:\n",
    "    print(i)"
   ]
  },
  {
   "cell_type": "markdown",
   "metadata": {},
   "source": [
    "這種Dataset要求輸入的是file_pattern，可以包含萬用符。\n",
    "若將檔案化為一個List來做.list_files會變慢\n",
    "\n",
    "要注意的是，若列舉檔案時要保持檔案順訊，記得要加shuffle=False"
   ]
  },
  {
   "cell_type": "code",
   "execution_count": 5,
   "metadata": {},
   "outputs": [
    {
     "name": "stdout",
     "output_type": "stream",
     "text": [
      "tf.Tensor(b'example_data/0.txt', shape=(), dtype=string)\n",
      "tf.Tensor(b'example_data/1.txt', shape=(), dtype=string)\n",
      "tf.Tensor(b'example_data/2.txt', shape=(), dtype=string)\n",
      "tf.Tensor(b'example_data/3.txt', shape=(), dtype=string)\n"
     ]
    }
   ],
   "source": [
    "dataset=data.Dataset.list_files(\"example_data/*.txt\",shuffle=False)\n",
    "for i in dataset:\n",
    "    print(i)"
   ]
  },
  {
   "cell_type": "code",
   "execution_count": 6,
   "metadata": {},
   "outputs": [
    {
     "data": {
      "text/plain": [
       "tf.string"
      ]
     },
     "execution_count": 6,
     "metadata": {},
     "output_type": "execute_result"
    }
   ],
   "source": [
    "i.dtype"
   ]
  },
  {
   "cell_type": "markdown",
   "metadata": {},
   "source": [
    "## From Generator"
   ]
  },
  {
   "cell_type": "markdown",
   "metadata": {},
   "source": [
    "從function建立Dataset: .from_generator"
   ]
  },
  {
   "cell_type": "markdown",
   "metadata": {},
   "source": [
    "要先建立一個function，且必須要是能iterate的funciton"
   ]
  },
  {
   "cell_type": "code",
   "execution_count": 7,
   "metadata": {},
   "outputs": [],
   "source": [
    "def f(rng):\n",
    "    for i in range(rng):\n",
    "        yield i"
   ]
  },
  {
   "cell_type": "code",
   "execution_count": 8,
   "metadata": {},
   "outputs": [
    {
     "name": "stdout",
     "output_type": "stream",
     "text": [
      "tf.Tensor(0.0, shape=(), dtype=float32)\n",
      "tf.Tensor(1.0, shape=(), dtype=float32)\n",
      "tf.Tensor(2.0, shape=(), dtype=float32)\n"
     ]
    }
   ],
   "source": [
    "dataset=data.Dataset.from_generator(f,output_types=tf.float32,args=[3])\n",
    "for i in dataset:\n",
    "    print(i)"
   ]
  },
  {
   "cell_type": "markdown",
   "metadata": {},
   "source": [
    "非常活的一種Dataset，可以指定:\n",
    "1. generator: 使用的funciton，input是什麼output是什麼都可以自己訂，只要是一個iterable function\n",
    "2. output_types: 輸出的資料型別，會是tensor\n",
    "3. (optional)args: 代入的arguement\n",
    "4. (optional)output_shape: output應該什麼形狀，可供檢查用"
   ]
  },
  {
   "cell_type": "markdown",
   "metadata": {},
   "source": [
    "就算輸出是string也可以，只要output_type有對上就好"
   ]
  },
  {
   "cell_type": "code",
   "execution_count": 9,
   "metadata": {},
   "outputs": [],
   "source": [
    "def f(rng):\n",
    "    for i in range(rng):\n",
    "        yield str(i)"
   ]
  },
  {
   "cell_type": "code",
   "execution_count": 10,
   "metadata": {},
   "outputs": [
    {
     "name": "stdout",
     "output_type": "stream",
     "text": [
      "tf.Tensor(b'0', shape=(), dtype=string)\n",
      "tf.Tensor(b'1', shape=(), dtype=string)\n",
      "tf.Tensor(b'2', shape=(), dtype=string)\n"
     ]
    }
   ],
   "source": [
    "dataset=data.Dataset.from_generator(f,output_types=tf.string,args=[3])\n",
    "for i in dataset:\n",
    "    print(i)"
   ]
  },
  {
   "cell_type": "markdown",
   "metadata": {},
   "source": [
    "如果function是無窮迴圈也可以，但要在後續操作設立停止條件"
   ]
  },
  {
   "cell_type": "code",
   "execution_count": 11,
   "metadata": {},
   "outputs": [],
   "source": [
    "def f():\n",
    "    i=0\n",
    "    while 1:\n",
    "        i+=1\n",
    "        yield i"
   ]
  },
  {
   "cell_type": "code",
   "execution_count": 12,
   "metadata": {},
   "outputs": [
    {
     "name": "stdout",
     "output_type": "stream",
     "text": [
      "0 tf.Tensor(1.0, shape=(), dtype=float32)\n",
      "1 tf.Tensor(2.0, shape=(), dtype=float32)\n",
      "2 tf.Tensor(3.0, shape=(), dtype=float32)\n",
      "3 tf.Tensor(4.0, shape=(), dtype=float32)\n",
      "4 tf.Tensor(5.0, shape=(), dtype=float32)\n",
      "5 tf.Tensor(6.0, shape=(), dtype=float32)\n",
      "6 tf.Tensor(7.0, shape=(), dtype=float32)\n",
      "7 tf.Tensor(8.0, shape=(), dtype=float32)\n",
      "8 tf.Tensor(9.0, shape=(), dtype=float32)\n",
      "9 tf.Tensor(10.0, shape=(), dtype=float32)\n",
      "10 tf.Tensor(11.0, shape=(), dtype=float32)\n"
     ]
    }
   ],
   "source": [
    "dataset=data.Dataset.from_generator(f,output_types=tf.float32)\n",
    "for e,i in enumerate(dataset):\n",
    "    print(e,i)\n",
    "    if e>=10:\n",
    "        break"
   ]
  },
  {
   "cell_type": "markdown",
   "metadata": {},
   "source": [
    "---"
   ]
  },
  {
   "cell_type": "markdown",
   "metadata": {},
   "source": [
    "# Data Loader- Speedup"
   ]
  },
  {
   "cell_type": "markdown",
   "metadata": {},
   "source": [
    "剛剛提到Data Loader本身作用是將資料讀取到GPU的記憶體裡。\n",
    "\n",
    "為後續課程速度，以下會先介紹一些方式將資料被取用的速度加快"
   ]
  },
  {
   "cell_type": "markdown",
   "metadata": {},
   "source": [
    "**內容**:\n",
    "* cache\n",
    "* prefetch"
   ]
  },
  {
   "cell_type": "markdown",
   "metadata": {},
   "source": [
    "**以tf.data.Dataset.from_generator這種loader類型示範**\n",
    "\n",
    "先準備好一個data generator，會yield指定數量的數字"
   ]
  },
  {
   "cell_type": "code",
   "execution_count": 2,
   "metadata": {},
   "outputs": [],
   "source": [
    "def f(rng):\n",
    "    for i in range(rng):\n",
    "        yield i"
   ]
  },
  {
   "cell_type": "code",
   "execution_count": 3,
   "metadata": {},
   "outputs": [
    {
     "data": {
      "text/plain": [
       "[0, 1, 2]"
      ]
     },
     "execution_count": 3,
     "metadata": {},
     "output_type": "execute_result"
    }
   ],
   "source": [
    "list(f(3))"
   ]
  },
  {
   "cell_type": "markdown",
   "metadata": {},
   "source": [
    "## Cache\n",
    "當資料變多的時候，一次次將資料丟進GPU就顯得越來越慢，這時我們可以使用.cache()\n",
    "\n",
    "這樣會在每次使用到時，將資料扣留在GPU中，下次再用到時就不用重新丟進GPU"
   ]
  },
  {
   "cell_type": "code",
   "execution_count": 6,
   "metadata": {},
   "outputs": [],
   "source": [
    "d=tf.data.Dataset.from_generator(f,args=[1000],output_types=tf.float32).cache()"
   ]
  },
  {
   "cell_type": "code",
   "execution_count": 7,
   "metadata": {},
   "outputs": [
    {
     "name": "stdout",
     "output_type": "stream",
     "text": [
      "tf.Tensor(0.0, shape=(), dtype=float32)\n",
      "tf.Tensor(1.0, shape=(), dtype=float32)\n",
      "tf.Tensor(2.0, shape=(), dtype=float32)\n",
      "CPU times: user 178 ms, sys: 58.2 ms, total: 236 ms\n",
      "Wall time: 202 ms\n"
     ]
    }
   ],
   "source": [
    "%%time\n",
    "for i,x in enumerate(d):\n",
    "    if i<3:\n",
    "        print(x)"
   ]
  },
  {
   "cell_type": "code",
   "execution_count": 8,
   "metadata": {},
   "outputs": [
    {
     "name": "stdout",
     "output_type": "stream",
     "text": [
      "tf.Tensor(0.0, shape=(), dtype=float32)\n",
      "tf.Tensor(1.0, shape=(), dtype=float32)\n",
      "tf.Tensor(2.0, shape=(), dtype=float32)\n",
      "CPU times: user 87.7 ms, sys: 0 ns, total: 87.7 ms\n",
      "Wall time: 85.5 ms\n"
     ]
    }
   ],
   "source": [
    "%%time\n",
    "'''因為第一次跑完存進記憶體，第二次會變快(但因為存起來，有隨機型preprocess的話就不隨機了)'''\n",
    "for i,x in enumerate(d):\n",
    "    if i<3:\n",
    "        print(x)"
   ]
  },
  {
   "cell_type": "markdown",
   "metadata": {},
   "source": [
    "---"
   ]
  },
  {
   "cell_type": "markdown",
   "metadata": {},
   "source": [
    "## Prefetch\n",
    "cache是針對已跑過資料，那如果需要不斷的更新資料(例如使用random augmentation)，那樣就無法使用cache\n",
    "\n",
    "這時可以用prefetch，將資料分時多工地丟進GPU，這樣在準備下一筆資料時，上筆資料正準備丟進GPU，不會浪費時間。"
   ]
  },
  {
   "cell_type": "markdown",
   "metadata": {},
   "source": [
    "未使用prefetch:"
   ]
  },
  {
   "cell_type": "markdown",
   "metadata": {},
   "source": [
    "![image.png](data:image/png;base64,iVBORw0KGgoAAAANSUhEUgAABRAAAAEJCAIAAABjaJyTAAAgAElEQVR4nOzdV5ckx5UgaLtm5tpDR6SszNJQBUU0m6pnWs1MTz/M7J6zD/uyP3Cf9+yZPtPbu9OSbDbZIECoQunKzEoRWrh2U/vgEVlZhSyAxWmwCqz7HYBEZkZEeka4u9k1u3YNjDEEIYQQQgghhBBCT6Iv+gAQQgghhBBCCKGXEQbMCCGEEEIIIYTQOTBgRgghhBBCCCGEzoEBM0IIIYQQQgghdA4MmBFCCCGEEEIIoXNgwIwQQgghhBBCCJ0DA2aEEEIIIYQQQugcGDAjhBBCCCGEEELnwIAZIYQQQgghhBA6BwbMCCGEEEIIIYTQOTBgRgghhBBCCCGEzoEBM0IIIYQQQgghdA4MmBFCCCGEEEIIoXNgwIwQQgghhBBCCJ0DA2aEEEIIIYQQQugcGDAjhBBCCCGEEELnwIAZIYQQQgghhBA6BwbMCCGEEEIIIYTQOTBgRgghhBBCCCGEzoEBM0IIIYQQQgghdA4MmBFCCCGEEEIIoXNgwIwQQgghhBBCCJ0DA2aEEEIIIYQQQugcGDAjhBBCCCGEEELnwIAZIYQQQgghhBA6BwbMCCGEEEIIIYTQOTBgRgghhBBCCCGEzoEBM0IIIYQQQgghdA7+og8AoW+dMUavGGNe9OEghBBCCCGEfktACAEghDDGGGMA8K3+OgyY0e+/OI4PDg7u3L1384ubcZoCUEIIwcgZPS+o/jXEGGI0NRoIoQCEEDyZXjbaGGUIoRSAvehjQd9l1VVvNDGKEgLVN9DLBAjRhmhiNAEDlFK6ulG/6CND3zlV0GU0IRqMocYAAGAT//KhjFm2bdm2ZVlv3bjxk5/8xPf9b/U3YsCMfv8lSXLv3v1/+Id/+uu//pvxdE4tixgMmNHzAwJAtVFalqAEU8Km4DBuCNEv+tDQY8YYQgqlc62p5VLuAGCYg/4nAGiZa5E7ADYQAPi2pzLQb666tkulSm0EUM0sbjmMcmM0RjnouQEQAlqVRpVMCU60wzgFMBgzv2Qo58x1Ldf1XPe//Nf/+sEHH2DAjND/LCllFMdpVmjm2XXXr3eMIVqpF31c6DsGAChjosyi+YikU0smHdfdCENtjNQYMr8sDCHEmOM0W2SZ53e99jalbJlXgtBzqrL+kulRGu+3PWfDtTlljNLqNHvRR4cIp5QCjJJonBVz5ike1lobjhdqqXAFFnpelDICJIkmRTzl5dg3YssPfNsWuKDv5QEAhKRKHS8W8/mcWdZ0OtXffh8MA2b0+08plWVZqYgVdBvtenv7MjFUlgpvfui5UArcZkk8y/fvglL1YnbRc95a6xFDSilf9NGhFWMMMXQ0PlgsvPpG5+IHjDPGGPZ20G8BgADAyT0y7e+vO+47zZrDbYtzg93nl4PFGKVwb6BAlJnlq9p6a/etRmtNFFJr/IjQ8+EWI2AGR3uqv+cVi64Rb7Ya3aBWSqnxin85VEvhjpNktFiM09RQmiYJBswI/Rsx2vHrne03wu0rl9/7wBgnTzDFBj0fxsHxYTg8ypw2Y7CrR9/fWPuPN962jNF5/qKPDj1mjLb5g08n883L71/5yf9u2dSyqDEEL3n0vACAUkKpHj789O219f91dyNwfcd2iNY4w/wyoI6jKP2FBY5Rmb8937px/Sf/YfPC1Tw2SuIHhJ6P7VKg4svPPmU3P2rJyesa/vzq1WvdNV0UBtMSXxIAwNjn4/FhHMdSSgDr26/4RTBgRq8Objl+PWyuXVy7dMMYN4sU9nbQc2EWeDWmnJp3/5D1mw3b2gn8G72urY3Mshd9dGjJEGOM+Xl/aDEeNNbbF95yHGbZtPrBiz469B1DKVAKYeunlFu9IHit2az5oe+4BgPmlwNzXc1Y/yR84Dq+V8saa63t6+uXb6QLJUv8gNDzcQNGqDgcxtOjw9D1uyq63m7eWFuTWWYwj+wlAQCcZ1LWbdtiDCjljP0OqkpgwIxeCZRSY7Qs8yIrs8hoLfIYpwTR82GcGeMWsZJ5bkRRKi2kJFmeGxMVxYs+OkRIVRvXaG1MIoQ2WpRpHk+McJVlG4NJJei5AVBKWVkIo3UmxKwoNOVSG20M1i14GQTGWJyJUuRKSSlUWRaxThcqi3IlcEoQPR+jXUJNmZayyISSQmmTFzLLojwXOMP8cqCEcMaysqwWXQClv5sqjN9WwGwIiTKd5BqrEaNvxCgEDjgWcAb02zvtjdFaKaFESYzWshTf2m9Cv5+MNqw0ShijlNFKGWOUNkpKbQoce345ACHaGG200MoQopVUopCUAqHG4JQgem5AGaVES02MkVoXSpVKcaW0Mbim8WXgMMaJUUpLbbRWRmkpjCyMKqUUeFtGz4dxm1DQUhkttNbaGKOUlrKUssSA+eVAATQhUildVSkAIN/tgNmQ46ncGwpdbVlqcEc8dC4ghPg23enybo2FLqG/i8QKhBBCCCGEEPpm32LAPFzoOyfyNFrGoVj0DNDwaeDS0KWeDZy96MNBCCGEEEIIIULItxkwm0msHwwwgQF9s6QwWy291jC4BwRCCCGEEELo5fEtFv0yxmhtNFmmZCP0LELhGYIQQgghhBB66XxrATMQRonFiNSmmmXGiAg9AwAhQMm3WO4LIYQQQgghhJ4f/XZfHghUZZ0Q+lp4kiCEEEIIIYReNt9ywIwQQgghhBBCCH03YcCMEEIIIYQQQgidAwNmhBBCCCGEEELoHBgwI4QQQgghhBBC58CAGSGEEEIIIYQQOgcGzAghhBBCCCGE0DkwYEYIIYQQQgghhM6BATNCCCGEEEIIIXQODJh/C/Cc3//tXg29gvBkQOgVAXi9nwffE/R7DE/vr/rqe4LvEnoZ8Rd9AN8tQAgBWF7Mxpgz33z8gNX3yVd++syXNYSQJ55FAODJ13nWwZBvehh6OQCQb24HYPVh4mf6tOq6w7P9N/Eb3D0IOT0bVw8+/ZLg+/xvBL7p1n9ek/HqWr1d1XtSfWf5I3yLnuXsGfaN79HyHTbm9MGnT8f399/CN/b3YNXC4/tNTnvU5uzXhBBCjAE8Jb/Gc3WHvvrg37CHgJ6CAfNvbtnSaC1FmYo8kWUmRQFAKeOWE1iOz22XMgugCnuMVkJJoWWpZPHEK61aKsosZjmM25TbQCkxRGullVQi16pk3KHcpsyilD51cmsltRRaS6Mls1xuud8YlKMXBYAaY1SZS5ErWRqtnuhGG0IAACizXW45QDkA5n2cAqiuOS1lmRutCADjjmV7BIeKzqj6HUproXWplNDaYcxhjFFKn9HvUFpLrUutlTG+ZTmUVs8ttaYAHuecUryn/NaMMUrkski1UeRxeLL6fwqUWYzb3HKBMUKwd7js0mlZijKVolCipIwxbnPb45YLlBKgGGacZQjRxhRSSq0JIZxSz7LoeV1hWD04FUJqbVFqUeowJrVOhDCEMEptSm3GXsTf8Z0HAASoEoUShZKFkiUQ+MroODBuM8ul3KKM4yVf0UpoJUSZyjKjlFFmWbbPLBcoxaDuKdUbIrUulcqV4pQ6jHFKOaXndoa0McoYoVSptUWpb1l69XShtce5wxgFwBPxN4cB829kOUJDQGupZZkuRvHkMF0M83hKGbccP2htBc11v75muxyAAhitiRRFmS6KdF4kszMvZowxQIBQsBzfDVpO0LCZBZQBJUqVSuRZNC7TuRO2nKBpU0bAIkSd6SuAkqLMIlkkokj8xhrjDhBC4Fl9Y/TiAABlRCuRx1k8yZOpliUAXY2lGkIIAAPGvXrHDVqW41NuYzNROZ0PUWWeLkZK5JRxN2hajgeUGSVf9AG+NAAoQGFMJuU0z6Oy7Hhe03E8AHhGa1pqnQgRl2Wm1FYYuo6TS7koy6gsGWPrvh9QSnG2+bcAYIwxRpdZFE+OlCyN0YSY07DZEEIps9zQCRpurW1RDwAIeaV7hwBgiDFal0WazE7yeFJkc265jlf362t+o0fBpvScVKxXFgBorYVSs7JMhCCEBJblcG5Rqr6S5LbsahszzfNEiMCy6rbtci60HmSZMcbhvG7bVcCMHejnBUCBcZFHRTLL4nGRzgHoauDbGEKAAFBqezW31rHc0GbBakXGq/1OG6NEUWSLdN5PFwNmuZYbhI0Nr9ZlYBHA4ZvHgBBKiCSkUGpeFJM8dzlvu25gWTZj5rxmWhuTSxmX5awo6o7jcS61ToWYFUUixJrvc9cFAADAm+pvCAPmb1bN/4kizZNZNNqfDx6ki2EWjbUSWklCCABjh7fcoNVYu9joXWz0LnEnIMbk8WR2cnfWfzAf3AfKKGXkTDIUAFBmcccL29utjWuN3m6ts22UyOLJYO/j2cndzoUb7a3Xece1mKWUMUadHlKZLeaDB/HkMJkdb177oRM0KeM4HfQSAkK4zUVRLsb744Mv58OHZRFTtpxGroZhqlPB9mpO2GptXK13d72gzR3/TPL/6rWe+Hr1G54cyz6TbXf2KJY/fCpL9Nl9dHjieef83ide+TTd/Cs92icO77xjexYAAKBUK5nFk8Vof7j3qZJlrbPT2rwWtDYoZVqpV73DsUIJsQBmUo7S9MvJZD+K3ul2X2u1bMZcAEmIMebsehJjTFSWh3G8t1iM0vRPd3c7rjvJ8/vz+YP53LesH21ueoxZjBFCTu87T58Ov8M/8LsDgIAxWisxHz48+PzvyzyuLgJYXe6kuuIt2/EbYWur3t1trl22/TpjliHEGL0Mq5+8UM/+iq+k4T7zwnzqP5/x4NWBP5Wg+zV3kq/ccZ7z8M48mjJCSDVMPDu5txgfJLMTKfLlKxvjN9bD1lZz81qjd5EyizJujH7Fe3gAANWMsZQP5/PjJDGEbAZB1YHWxpxdZMGqyTqtMyE+H40O43g7DC83Gi3XXZTlv56cKK07nnel2Ww6ThVdVw3DV3sUr/Sb/myUM+5Yi+F0fHhzcnwnGu1TxoGy5SW8XFwAzHYtJ6j3LrY2rvn1nlfrnrkhE0K+5rL6TZrR0yH4J9LCv7bN/co0+Nd2Hr6yGvH0IfD8TbwpsyhdjBbDvenJXVGkSuQEgFLuhe2gudHevB60t7jtAWVGazz1AIBRKqSMyvLhYvH5aNTxvDfb7a0wbDqO0FqfXVdFCCFEaD3J8735/PZ0erXZXPP9VIiTJLk1mRxE0Q82Nvxul1kWpVSvPlNs4r8eBsy/AaCUclVm0Wj/8NZP9z/72yJdSFl4Ydvx60oKWeZ5MmXM6lx4c/PaD2y/EVgOEJItRsP9z47v/MvxvV8y7jDuEHL2lDRGa61Ve+u1nTf/mNJ/19zY0brIFqOTu7989OU/Slk6QStobjBuay3NsuMKAFAk08nR7dGjz8aPvnBrne7u24QyoPA8AQn6XQAAZnEp5Hxw/9Gtn/YffJQnU2Y5lK4mmU+X6gF1/MbFd/7D9us/Zts2d3yynBk403OukpTgiQa26o2fBkJfyWOCVX6EIatee5WGY4x5VtbTsvN8ph0kxpAnH1xNi5HV37BciVQd7unhwfK3w/LYftMGtUpyA2BGl+liMNz/7MGv/9ootfX6T7xaB4AB5QRKPNkrFMCitJCyn6YfD4cfDwYOY+tB0HQcRqlSClbnQfUxASHzongwm33Y79+fz9/odG50u8Ms+3w0+pfj45brXms0Nnyfck4I0VXv+cznTVbtK779T4PlMgKtxPTk7t1//b+zeAKUUsrgiQkTY4y23LCxdmnz2g9sN7Qcn1quIUQrQ8A8efWdHYdaXlCnPzVn5q7J6hGrQyHLDvTjB+vzPzM4PUHOxsxPP7j6uSHm8WEsD82c+dVP3DdWkdczo3TKuCFaptlitPfw1//PcP/TdDFkluPVeyKLk/kgqPfCzoXL7/+lV+s6fh0oI9q8yrPxZDU7WaVY353Nbo7HhpA32u13u12LUqHU6WMAgAEwSrXWqZQfDwafDodv93oO5291u/Oy/OnhoVDqUr3ucf5aqwUAFGDZgX7yFo/T+89CGbVdO0/Gg71PDm/9bLj/KeMO45ycrq6qrlBjjDEbV7+/e+PPepffc2sdCsvE4ye7Ass3/6lm9EwT/9Vm9LSVXz2BLHsLz25zn76TEGPIUw9e9QPOPmX1mo8THs/2QJ66IZyjerIheTIdH948uvMvh1/+lHHbdmuyzLUsmeXU2ltXPvgvlldjlssoOx0AepUBIRzAGLMoyzvT6d8fHFys1xu23XJdmzFtjFzd+U+v2VKpYZp+MR7/w6NHmZQ/3tpKhHgURb84Ofmo3286ztVm0+Wcra7up5t4gtllT8OA+etUc8taiTSdDw8+P/j87xbjA2a5a5ev1HsXHb9hu6FWUhRpPDlMZid5PB3s/doN2+3tN2qdba1EmUdKScqszes/XL/0PbKKVwghxJh0MRwf3VIiP777C9v1691dWRaMW1orUaRaFEYrYp6caiDVU7VWQolClqlWEs/plxlAlXkUyyKljDc3rqxf/sCrdRizqw6lVlIrMT2+E0+Ppyd3CBDbDW2vxm2XADtzz9JGr25rAKfNmNaqmnKpTlcAuszCNea0kV62aABGa6O1MXr1YACgq35tdbSUABBdrX/Ry3FHSilQAvQ00ibLe+npPITRWq1uuqsbL1RTbbL6K6ski2X2aRWBP5vWSqs8iybReP/47i8GDz6aD/bcoKlP07AxoeIMQ4gwxua863lvdTo+55cbjZptUwBdnRirRYxaa0IIXS1wKpXKpVRak+pLrTMpfSlPszqrDnT1ScvVMDYFYKuP+dxksFfZssOrtVZKyTJobrS3rgeNda/eWw4tEapkmcz7ybyfzk6Ge594tQ4heu3i2wBMSb2c5NN6dYlVPSEKdNlwGK11leZNYBWKm9Nr6sy1XD1caalWFyYDyh7fHJYjU1VCuNZKGmOI0VXLt7qTkNUrr6Lf5YiAOnNsj+9IxhijZHWHIUApXa7QPu+SByCUMibLYvzo5vGdX84GDxi3d976k7CzHTTWyzxOZ/3Z4MFi8HB6dMuvd1ub18P21nLo7xU+66q/vKo1cKle55QaQrbDkFNarWemqyloqbUmhBmjjDHGCK0LpUqlqodpY6ovC6WU1mR1W63WYujVs8gqw5gBVLeRF/WHv5yqS0vJvMjmWgnbDTeufr+19Rq3HEq5MVWba+LJ4fT4dpkt9j//W+A8bG3ZXmg5PtHqdBx8OZsKp1HomWuTGGLMsolftubLq5gYbQwhq/BbG0WMNsZQyqrFwGS54uP0kl/2EIzRRqvqb6BAn37w43xIQgghRmllYDkmuDyGqnE3SpllD+TMfcPoc98uY7Qs82h8eHz3F3k8aW1ea/QuNzeuijwukvn05G6Rzgd7HwMlF978d7a3uexavNoMIcoYAKjZ9qVG44dbW13PWw8Cl3OhlCFk2UyvrlkKUHXghNaZlKXW1ZUrjSmUyqSUWp/p8y1pY5TWVa+Orrpr5GwH8dWGAfPXAmCcS5El85Ph/qcPP/kbxp3G+pXN6z+69O6fW7bPbU9rLYpkdnKvf//Dex/+t8mjL92gxSwnaKxprWSREWIsJ7zw+h+99e//DwAgdBVOGD05un3vV391fOdf+vd/5fiNtUvfs9yQWQ4hREuhlSLPvOOYqjyYVnJ5v0Mvp1U4KctMyYI7Xnvrjdd+9L+11q9ZTlCNfChZiiJ98NFf7X/+t4vhXhaNO9tv1tcuAeOMwOmgiVZSKUGZRZlFKSMUSNVvlYWWQhtNKWPcYdyilFetbNX9rZZQUsoJwLIQnRJVmTHGLKCUkDNTBwBAQGmllVBKGK2AAGWMcAcYp5QbYkgVS2t9OptljFGyJMZQxim3KFgEwIAxUkpRGCW1VtxyiGUDswAYGG2APKvLCwBKliKPZv17g4cfH3z+d6ODL2SZcdtbtcFnR0LRsmfsMtbz/RsAF2q1dd+v2TalVGpdfUhVSTChddXxrdpLVXWpV4FWVQlMLkM1QqqGE0AZo4wplCqUqqJll3Or6icao84MnCCyHKbS1d273t3ZvfFn3Z0b7a3XqjMegIkiHT/64vDWz+6e3Bs/+sJ2Qy9srl96i1CmtQQCBKhWUmtV9Z4ZsyijALQKf7UslSwJIYQAt1xmV0tPqxQPbbQ2xAABQwAAlBKqzKt1H9xyKHOWB7mqQ11VJTRaSVFoJYxSQBllnFk2Y87qlbXR2mhlCKGUE2OUKonRhABlnDIOhAJQraVWUolCawnAKONgOcA4IQCrqfBT1elDgWpZTA6/7N//VTI9bq5fufTeX6xdfNdvrIsiSaPhzX/6P4/v/Hx6cscJGk7Q9Bvry4JA5JWe8Ky6yL5lXW40ur5vCKlZlsWY1Pr0SpRa50otA6wqlNJaGaO01lUyEiHV9f542fOZnCCpVKl1FUjbjFl0FU5hasl5tCxFHhNC3LC989YfX3r/Lx2/zrhdNX9G6/79Dx98/N8He58M9j4OO9vrVz6gjFu2p402SlUBs1aCEEIZJ9X48vKVhRRFdTeg3GbcZswCoAS0WcW9RGugFCg3WioltSyNVsxymOVQWs11r9Z6EAAAXU26KKGlINXAKLeXnQegQJQxxqxiqiojvCphSxmnzKIMCDAAYoxWslBSGCWBMmbZjFmUW9XzvnKRAhDQWssyjydHgwcfe7XO+tU/2Lr+o83rPyyzRTI9ufPL/+vo1s+H+59qLdYuv1tjFwDAvPInXVWDoAqYLzcagWX5nK95nsd5uRojq67lUillDKdUKFV1/uTqKjarroLQWp1p4qt/lDFC61zKqjV3GKOc06o/Rlarul5tGDB/HQBKGRN5NNz7ZHZy1xhd7+7uvPXH3Z233KBVzcVRyrjtha0tsZ3Gk+MsGgFlWpaPE2yAAlDKLGbZVTRiiAFKOedhe72782YyOxkfflnmcTIfBEAdr04pO223nnlop1N5WB/7u6IagGWMMYtxm3GHGA1aMGZxy2muX0nn/Tyeijwu03kejUWeGKNFnlRdZ5HHRTYPW9u19gUnaFi2l8XjbDFMZv0imWklmeU4QStoroWtTcsJuO2UeVJmUR5Py2zBLAcIiCIus7jMI6Dcq7X9+lrQXF+2qYQYYmSRiiJJZv0sGosiUaIgxFi279Rafn0taG5yy6GM5/E0i8ayzKQsKGVKiWRyTAhprF2qtbf9Rk+KIl0Mk1k/mZ0okSsp3KDhBK2wuenVOtSyKeWGPL0WEQCIIUbrZHo8Hzw8efCrydEtbvutzevJfGC7AbzaM0tfAwCqmHZRFOMsCyyr4ThVuFuVCTlOkllRRGXJAQLLGud5XJZC6zPpfo/TOKv/ZgCakEKpUZb103SSZbOiqKLlNd/v+X7bdX3OT8e2X+gb8PKpMkEopYwzbjHuVMM91frGenc3XQxq3Z1k3s/jSTof5UksRRmNj6rpnTyZizyumpfG2mUv7BCtynQRTQ/zaFKk82oGyW+sBY11J2zZXo0Yo6TIk2mZRVqWxhigTGRRGo2IMZRbQXMjbG7aXs1yAzBgjCHGiDLJ40m6GKXRUOSJFiVQziw7bG0G7S3Ha9huQAhIWS5G+yKPLbemlcjmQ6VKAFprbzfWLxNCjVbJ/CSdD4pkLsuMMm65od9Yr8oZsjP7R5x9i5QUsiiM1rZX6+y81d56o9G75PgNYgy33Vp7o9ba8OtrRqt03i+zhVYlA5sAe8U70BWldSLELM8JIYwQYwyj9PSbJ2l6FMcUwAJouW6hVCIlJYQu5ygJOe1JnHnNqsDBvChO0nSa54WUFCCwrLbrbgRBVVoM8Hp/Bli28lUTbzNuawLVJV/rbK9dfC+NRqODz0QeF/EECMgyLdNIFCkhRoqiSGfccoLWll/vumFLFEmRzOJZP5n1tSyN0bbf8MJ22N50wza3PaKJyJMimeXRmAAwbssyF0VapDNZZk7Q9GqdsLnpBE1aDY4bo5VQRZFG43Q2KLOozOMqqcQNmm7YDlubjt+kjGsl82RWposyiwilzHKS6UkyPa73duvdnaC5YVlOthili2E8PS7SmRIF447t14LGetja5I7PLbcaNDxzqlSZKtoY5QTN7u7bYXNz/eL7tfYFxi3bCVTY8sKO7dfyeFKkc1nkulpfgM3+Kp+rKtw1yTJh23XbDoyxKK0yxU7SdJim86IolfI4V8ZEZZkJ8Xhm40x4fJpLAgBS66gsh2k6yrJRlkmtKUDb89Z8v+t5Lcepbhr6lb/mMWD+GstMszJbjA++WAz3KeX17u7mtR+E7S3bq2kptJIEgHPHb/QIMUUyjSaHWimg/MyrAAAFxiizYTkrqCmj3HHdsFXv7fqNHgGQRZYnUzdoQtA+Tbn5pmkbnGf7TllOqTDKLMotyi1iNJGk2mQibG3VexfZvQ+zaCSKJE9mxhiRx9liJMpMa1kk8zwed3ffYZYLjBKjF6P92cndaHSQxROjFLNcN2w11i4RYsLWluWFRssyXSyGDxfjQ8YtACqLtMyjPJkCZW7Qaq5fJoRUiwMJIUbrLBpHk6PF8GE8PRZ5LEVOtOKO79W7zfWrlFlereP4tbKIo/FBMh/kyZTbrlZiengHKCUAlhs6YbNI59PjO/PBw8VwT8lCK+n4DTfsiO3EGOXVutQJgMCT88xVtrY2RufxdDHcq+bb690dv7FmiOGOBwDLmsPojCqDVhmTCjHOssM4bjhOz/MIIdqYeVEcRNGt6XSQJIuytBmr2XahVCpEJiV9csRtGS2vFEJM8vzhfH5nOh1l2TTPKaUu59thuFuvX200qO9Xu1Nga/pVVRY0pby65KuCXpRblNlBY63W3vbqvSKdl3lcJPMiTbJ4PH50U6lSK5EuRkUy544ftjYcv2k5gRJ5NDkcHXyezE6KZE6IAWC19nbe3WmuX2HMAsqULNP5IJ4eF8ncaEmZVWZRMu8brYBCvXtR5HG9d5HbLqUMgJRFli6Gs5N7i9F+Mu+LLFaiBABgrLF+pZUnzbXLlu0SQrUU8/6DaHroBm0l8mj8SImCMni5ZFsAACAASURBVK6VCNtbSooyj6dHd2b9e0U6F0VKKbf9Wq1zod67RNep4zcos55c/UiAGK2kUpLZftDa9Otr7e3Xw/aW5YZKlpxblhu6Qct2a0brKg43ShFmzlZQezVVIavUel4UwzQlhLDVlSuNGWfZ/fm8quHHARzGNoKAASyKQj8VMJPHy8SAEK21NGaQpgdRtLdY9NO0lBIAQsvaDMNSqY0gWAsCisP054PlzZjyqomn3KpWSzFue7VeY/2K9/BjrZUsszKLjNZFMounx3k8McaIIs2ioRM0ukpSSi3HyxbD6cn9xXBvMTrQShhjHL/hN9akyJuEBK1NAqBEnsz6s+M7WktgXItSijyPx2UWOX7Tb66r7bJBjBO0GHUIIaJIknl/MdyfDR5U8bDRigBxg1bQ2jBKQo86QVMrmceTxXB/MTqgnNtebXpyd3Z0d+Pa97llO36DcjuaHFatfB5PlCyZZVterbl2WSsZNDdYo0pmAXh6D0gDhHi19trF98LWZmf7TSdoAgGgjDGL2w63XHKaZVnlor3yETOsFkqUq+HvQqm267Zc16I0Ksthlt2dzR7M57M8L5UKLMuiVBszKwp9ZjKZPDHbthxnj8vyOI7vzGaHUTRMU2EMBeh53mYYXms2bUo9zm1KcVgcA+ZnAaCUECOLIo/nyexEySJobQWtTcdvMG5pJZcpr0CIIUDA8Rtrl95vb71mDLHdgHHn8blV7SpAKQAlQDQhhIBWWhR5Fk2LdKGVBMq47QO1jNHmle4J/J5bzjoBo5QZXd2vtNaqyBZZNFGyAGCU28boZHYyHzwcH34p8gQoBcoo5Xk0yeOJKlOtxMHNf5oe3bLc0LJ9brtSZIO9/fngwbR/d/u1H+2Ef6xlKYt0cnT7+N4vlSgAaNjadIIms9wyW5yc3J3378fjo96ld3sX36vyxg9v/ezozs+1EgSo49YoY1KW8fRodHhz1n+QLoYbVz/YvPY9VSaL0X7/wUfT47t+c91yvHQ+cLyGyOM8HmslJke39z/9H7LMKLdsL3S8ejrvT4/vROP9+fqVzWs/aK5f5bZHKdP67JZpy0XXtlev9y65tbYUObfdZNaPp4daqVf8fv0slBAOUEg5yrIvxuNPRyOXsfUgaLluIcSH/f6no9HBYqGNaTiO1Dopy2GWnSRJJqX1lf2WKUC1CXOp1IP5/BcnJ/dms735vON5LdctlYqK4hdR9Nlo9MHa2tvd7pVmM7QsgjHzOZZpx1XdL6PBEAOEaCNFkRTJvEwXSpZO0GKWo7WKRo+Obv88i8dltiAAVVxt2V6RLcjk0fjgi+nJ3fngAQFwgzYAaFUOH31+8uBXW9d/uH7lg6C5QQhJpsejvU+nJ3elyG2v5vgNJ2iKvMjmo2h8dHznFztv/9n26z+utdaAwuTw5sn9j/r3PyzzyKt1bbfm+PU8mSaTw2hyeHz3l5fe/Y8X2B95tY7Wanp85+T+h5RZBIAYBZQxboftbVEk05N7o73Poulhthi5QZM7niyzfDidHt8JW5v59R92tl5vrF2mlK2SyQkh1Yp6YznB1vUfdHfe4pZr+w2gVCtBGVdKyWieLsbpYtDoXXLDtuUEdFlL6ZU+0ZZFvwhJpdxbLG5NJoSQQuv3NzaE1vtR9Mvj43989EgoxShtOI7N2MP5fFYUDxeLao2GzU7XJy5VSy1mRTFI058fH382GhFCqnQSo/VBnh/F8e3J5J1e78dbWzXbtiklr/jHcI7Hie1VE08pM5RWyfCiTLN4XOaR0Zoyzi1X5HGeTIcPP5kP907H00O5lTXH3LJlmQ33Pn108x+BMma5lu0xbkeTR7PB/fngQefCmxff+XM3bCtZJrPjk3v/mswHZRFXE7yMW5YbzgYPRo8+j0YH3Z0bG1f/IGhuEGOmx3f3Pv1/k/lAFKntho5XV1rJMh9Pvxg/+iKZHq9den/r+g8NIVk0Hh58fnT7Z8xyw9ZGFk2yaFQk0yKL4smRHj96+Ou/mRzdAkot23eChiyyyeHNaHQwfnRz89ofbl3/oeUE3Pa0VuR0kxdjKOW2V2v0LrpBm9sed3wli3SRZdEonhxNT+5m8dhvrLW3XneDBmVUqVc9TqswgCr74+F8/vOjowu1WtNxer7vcP5gPv/n4+N7s1k/SZqO43Neap0JMc7zcZalqyzrs6qVWVrrqRC/6vc/H43uzmbKmK7nWZRKre/NZh/2++92u6Ne781OZ7dep1q/4jEzBszPAKQqOq3KokijLBprpfzGml/v2m5AmXVaD4msVoJZjm97NQBa1QmTZV4tPzPVKo8yrXbnI7Cq0kRMNDqY9e9lixFj3PZqXtjitmu0MvrVPSN/b8EyuUCJQuRxkc61VkYrJUqthSzzxWg/nhwarW2/brkhAC2S2WLwcLT/qTHar/e8Ws8NW8yytSzm834yPRnu/TqeHq9dfDdorTt+LYsm8fRoPtqLJo9sN+zuvCWKVCsZTx4N936tpLDdmlfvukHD9hvJlE4Ov8zjaZ7OqeU01q8Qo0UWT49v9+//Kmxvh+0tv97hjl9mkSjTaHxYJDOtRNjqMesPlMyT+XByeGvw8OPu7tv13q7t+l69ySy7SBeL0cHw4SeDvU+8sN3efi1orHthRxRJPD0eP7qZzgdereuGHZ9ZnDqwrLtLzq6Edfw60B3LCSjjZZFQ9gWzXC3j03Kt6KxqHlNoHVWTyZPJO91uJmUmZVSWnwyHnwyHQuuu53U8DwhJpcykPIxjm9K25z39aoRwShUhs6K4O5v99PBwkmWFUtu12sV6PZNynOd7i8XD+bxK2267rsd5VRZIvcKt6VdUK/yELNIyj4t0XtXbI0BkmcfjR4vRfpFMgYBf7zpBkxidzPvD/U/zeCyKpNbdrXV2HL9mu54skjyeHN/9xXy4p2QRNjeDxjqlTKlyfHhzenzHdkNuuVVPNIvGi9He8OAzrWRj7bIbtMLWZpHMRJHO+vej0YFbawfNNdf3LcdbDPeGe5+MDr7gttNY2611Nh2vsRjxNBovhg/j6VHY2mxtXLe9OjGmun4JgOM3ap1ty/aZ5RBi8mQ2Pbp9eOunVVKo7de9erdMF8nsZN5/lEVjoJxxu9bZYYxXS6ZXdWQMIYTZbmvzOqmWYxhNVkVr8myRTI6jyWGRLbjthe1tx29QbgGBV7xuLqxmmEutB2m6v1gQgLbnKa1jIe5Op78eDj/s97eC4M1Op+v7dcd5OJ9P8nxRltUd9ulweXUPGWXZzcnk0+Hwy8nkYr2+GQQt15Va51KOsuzebAYAO7XahVqt57rnV1h5dUF1ZmotZZmW2YIQQrmlRFGVwav6e0U6txzfdmuWVyvSeTrrT45vTY/vumHbq3W8es9yAwDIokk8PRnsfTJ4+Elz42rnwpYbNBl3yjxKZ/101i/zuLl+BYBqJfJ4Onp0M54elnnMrnzQWr/q1VuUW9HkMJ6elFksRRa2Ny0nAKDx5Ojk3odKCTds225Q62zJMi/SRTx+FM9OpCgos3oX3+GWV6SLaLQ/ePCxG7YoY5SxoNm1vYAYsxjtJ/NB/8FHyfS4tXndr3fD1mYWT9JoFE8OJ4e3ueXWOju19rblhvBkjxaqNSpOEDQ2tFZKiSwapfPBYrg3G9ybntwr87i99Xpr45rt16oSg6/49DJZrZAyxuRCDNP09nSqCVmUZSalUOr+fP7PR0dRURhjNoKg6/tVkvY4y8Z5Ls6baagqEmRSnqRpVTx/VhRrvr/u+y7npVJfjMf3ZzNiTCFlaNvrvs8o5QDqFS77hwHz16jyxUolciVLoOB4NcsNGbeXTf6T54wxhGhNqtoKVW3hqkao0VJks8GD47u/qMoYaiWVyMs8mg8enNz7VRaN/MZaa/Nqa/OqUTpPF0bL848IfUcBUMqAgBR51SfOkqll+1Wp86ozPXjw0fToNne8eu9i2Nyw3XBZjMeY5tqVy+/9RWP9ctja0FqJIh/ufdq//yHj9tZrP7r83p93tt9g3MqicXvr9ZN7Hx7e+tnk8Nbx3X/1a2uWGyglRZ40epe6Ozcuvfefujs3uGMn0xO/vjZ4+PFg75NaeyuevkeBKlEwy22uX9l9+8/WL3/PDWqUsSJLhvtfGG3SxSAaP8riIYCpOgYEgNte98KNnRv/vrm+5oZNo93x4b1HN/8pWwzr3Z3Na3946d0/t9yQMbtz4c1p//7Dj//7Yrg3Obrt1bqW43PLWe6NdVrgFwAos/265Qbcco0xUuRVqe0X/Sm+7FbpgFBNFhmtB2l6nCQPFwtlzA83N9/sdK40Ggwgl/KfDg/jskzkOTX2KYBNaSbEg8Xii/H49mRyvdX64dbWjU7ntVZLGTPJ86bj/HowOIqijwC2wtC1rK7nMQCtFH5OsNyhw1SLC6b9e9roPJkRrY1WSokinc9O7k2P76SLYdDc6O3caKxfoozLMsvjMbf9enf38vt/ceHNP3J8zxg1Pd6bHH45O7lHmbXz1p92L7zV3rxGGddaHd3etGyvzKLD2//shK3G+mWtpSGEUho0ti+/+596u2/Xe7uiSNNovP/p/xB5HE+Ojm79zKu1692dMk8Ydzav/mFr69Kl934cNNYJsefDo9bGa/c/+qtZ/36RzrJ4VJc71YILym3brVWzW7XONrMckSfR+HA+3IsnRzs3/nTr9R9XyyCVLKLxo8Pwp/P+/eHDX1uOv3bxXcZ6AHS1VdmKMUarZWowpZTbhBCt5PT4zv5nfzs+/JJSFna2e7vvBM11xuyqhBIOnFUoAKs6vwCFlPOi+Ggw6CdJ1/N+sr39v1y7Ftg2Z+z2ePzJYFBNIFc1/J6IYQiplik+XCx+dnSUCHGp0fh329tvdTqhZUljRln26XD49wcHx3H8q36fELLu+1Vp/Rf1h79sgFJgljGqzKPZyf2Tex9ablBVtJFlJopkenS7/+AjUaatzev13kW/3sujsTFGK8Vtb/v1H69f+aDe27XcmtF6fHjz+M7Pi2TR2ry28/afXnz7z7hlE2I6F94YP/ry4OY/xONH/fsfKSXqnR0AKLI5t7167+LOjT+58v5/tlwPKPHrayf3Pj6++4vJ0Z354CFf1qmVTtCs9y5eeOOPwtaa32iLvMiimeUG/Qcfl9kinh4rkXPbrYangULY3t5+7Sft7YvN9S1iXJGLvc/+bvDgI6LV2qV3r3zvL1tb1y3bK7J449oP9j/7u/u/+m+z/v3Bw48p416jV7VLpwNk5HSLDaiK14r5cK9//1fjw5uz47uizBy/Xmtv13uXGHMxreys0+VSFIADWJTGQjxcLKoUsHd7vRvd7pvt9kYQlFo/nM8tSm9NJsdJQp68XVbhNwD0s+z2dPrFeLwoy+9vbLzX673X6wWWpQnZPTkJLOs4jn95crIeBBu+vxGGddsulMKAGT3hdHFwtVWy1ooQoNxh3K76DUR/JWJ+/OQz5TQoM1rJMpv17x3eDgEoIWC0UiIvskU678fTI9urtTau9Xbeqnc208UknQ/1aeHrZywUqlZX/xv/zehbAwSA8eVyo+nJYO+TaHzIuK210qoUeVLmcTw51ErUe2+sXXo/bG3SZRlMwpgVtjY3r/+wtXnNb65F48PZyb103p8c3e5ceCtorHm1jhs0CCFKyrC1ZTlf5slsMToYPfqyt8Mdv1GtGQham93dG72L73QvvAlA3KBNmZsn00df/jSZ9ZPZsRu2LdtvrF3iltu5cKO5foUyMFoSsBy/zh3fGF1mC1kkyxpPWlHKbDdsrl/ZuPr97s6u5diTo2ORR5OjW0oU7a3X/XrXb6xRyrXWXr2nlACg6WK4GO3XuzvV3myrahZnVjYCcMut6ulpJQHo44QO9E1glV1pCBll2WEULYrCZez1dvu9Xu9CrcYAhFKjPH8wn+9HUVSWZ996srqBJUIcRNFBFA2y7PV2e7dW67iuxzkAGEK6nudb1r3ZTGp9nCQX6vWe51FKiX66kNsrarmfqs7j8fT4TpEuovGjqvCskqXI43hyWKRzN2i1t673Lr5d62wZYpQsZJn59V5j/fLG1T/YfftPGCfpoj94+MV88DCZ94PGul/r+o2e7YbAuDHGDVtu2Bod3MzjyfrVD4LWhtYKKOW2F7Y21y6/39u54dbaWqlGmSfT48nRrSJdjPY/37z2w1pn16t3WlvXbLfWXN+p93ZtN5RCO37Dr/eY5SpZVjWEtJaUWYQQxm2/0WtvXt+4/EG9t0u5NXj46+HDT5LZSZFH3PHC1qbjNyzbtxxPlbkXtuf9B/PBA7+5ni1GthNabkj001vOmOXWd1WaAhTpLJ4e9x98dHj7n42S7c3X2puvNdavVLeL6hkv4DN9WVWTw8SYTMphmj6Yz1MpN4PgzU7nB5ublFJtjAOgjflVvz8rimrx8xOLyQG0MaVSR3H85XjccJytMGw4TtN1HUqrjWpqtm0IGWfZl5PJhVqNUmrwYj8DgDFmGa3LLJ6e3CEA3HIJpVoJVeaiSJLZSboYhK2t9vYbrc3rVb6YIboq/NHefmPrtR/Vu7sEIJn1Bw8/Hj/6kltOvXfJr3W8WgeAGC39ei9tjI3WyWIwOb5t+/WwuUkAjJaO32hvvdbbfXvt8vuUEq0lgEMMG+5/ksxOosmR31gP21terdPdebuxfqlz4U3b87ltUVZoZWy3xixHzLMim2stCan2uALK7aC50dt9d+Pqm92dy/PBYHRwPxo/Gh/dCpubbtDyG2te2DFGO0AZdxy/Loo0mR5Nj2411i5pJc4MID5+t6qaiASWG9EpURilDCHVvlmyzIpsURYps11CCABgB+CsKqGaMxaXZS7lIE1TIdaD4Htra9darTXPE1r7nJ8kyaIsJ3n+1WgBCJFaj7PsIIqO4lgb03bd9SAIbdu3LADouO6a7z+cz+/P5wdR1E/TjudVBcZewB/8csCA+Rsst5Vb7quhtFbP3EAFCIHlQtPl3qdAKePGaFlms+O7ZRaRxyWtjTGEcbvRu9Taem3z6vfXLt1wa/U8malq+2VCqgyf84tgw+NbEPYcvgMAKOUAVImizKLBA8NtD4ARQozR1QJHJ2i2t17beu3Hvd13vHqvSGbVsyw3tP2mE7SZ5WmllShEkRbZokimZR5li9HR7V9Oju4aY7QsRZHPh3tFOs+TaTLv1zs7VU/X8RpBcyNsbdleQICIsgDgtc5O2N623VCrMp31w+ZmZ/sNr9bN46mS5XD/M1mmokjKPJn1788H9/NkBkAJUFINJCnJuFO1l35jDahbpHky7SfzvigSLUWZLiZHt4HSKkiglMsyz6KxEmW2GCWzkzKLlBKMV0sin3jDjDFktWU0nuK/haoHPM6yUZY5jLVdt6porVd1ituu+0ankwixKIrHz1pt5yi0joWYZFkihDGmys0+jmOPc0pptbZ5mufzomCULsoyl7KapEKELCcCqkGlajnPYvyI2/5yXGjVNoTt7c72G+tX3lu7fIMQlkxHWgnKLdtv+I112/MpJwBESZFF43Qx1FVhrZO7okhGblAVwIsnR2k0SReDLJoUyUyWqdGKc8cN235jza91me1JUQBlluMHzY3WxrXR/mfV1Wc7/s5bf1RmURbNRREf37mpZSlFmUaTZDaIxo+M1gSAMg7LjVsV5VatvRW2t5jtGq1VmWfReD7cK9IFpSyeHJ7c++Wqzhkvi6hKOxd5XMTTeHLohi0naGhCyFeyqAAo544hRsl8cnx7/9P/b7D3yXz4cPPqH+6++Sfdi+94tQ4AaCkNwVzgJ8BqZ/WqunVcljalF+v1rudRQkopC6UCy9oOw57vV9NNQj/Okq0mrAqtZ2U5L4p5UVSLmT8fjcZZVtXzK7XeWywSIbQxx3G8KEsKoLH01xmUsqqwn8jjyfGdLBpXWzmS5WwqWLbX2ri2dun9zes/qvd2LScAyo02zHJsIG7Ysr06IaBFqUQhsjhbjCwv9EU+PvxyucTPaCmKeHqSzgdFukgXgywayTIDINzxvVqn3t31ai1mMVmWsiydoNVY2/Xr3TwaFclEFolf74XtrXrvoiiSeHIoy0yUqSiyIpkNDz6PJ0eyzE43VK+G3izH92udenfHchqiJFm0iKfHeTITeSLKNJn3j+78cnp8V8kCgFLuRKN9o0SRLaLJUR5PZJEyy6WME3U6w7xcrk0pN1RTxuu9XWbZ3Z0b6bx/8uCj+eD+0d1/yeMpt7xlGhqlZrXxO6oAAAeIy3JRFKVSLdftuG7LdTmA0Fpp7TB2qV4/SZJqJcXjJ5LlJlLV9hnTPK82Zj+O40+Gw/uzmUUpo/Q4jgdJMi+KamHXoiylMfTpmvqvFgyYz2dW2aGM29x2mWWLIimzSBapUYpQDgDEwJmuPBitpcx1tXUtUMbtavUyAKXM9hvrrY3rhCx3tAO6HIrz673G2uX21uthax2YTarVWVrpaux2Waj7cYy+2jWekFd6E8rvGmOqwXjKrCrf0vbrlFZ7FRJuOdx2g+ZGrb3dvvBmrbNDKSvSOSHVch+bWQ6zbKCsSt/SUihRSJHLIs3jqVaCcUdXtaMNEUXihW2v1nX9JmVcljkAtZzA8eu2V2PcrtbUA1A3bLpBg1mO0brMYyUFAapEkceTxWgvmfVlmSlZGqPTxbDIFloKZjnLc9FoYzRl3HJ8x6vbbg3AUiIu81hksZalEmWZx/HkyFT7PYqSWS4QAoyFrU03aDDuEFItWTx3CMo8/l88z59fNQ+cSplKaTMWWpbHOaf0dO1nYFnrQRBYlvnKEwkh1ebMiRDVxsuplCdJUj23GuxPhCCEtFy353m+ZbGqhObv/M98SZ3Z79Ryw6C57oZtO2hUbxBlnFuO7YVBc6O99Xpr44pX65VZopU02gBlzHIsx6fcqvYRMVqLIhVForWUZZZMj2WZVtunG2OqFUOWE1BmcdsjVf0Nxm03tL06d3zKuJIlo4xZdtXiAGMiT5UotJIATCsZTR5Fo0f/P3tv1iXXceR5mvl299gzMnIFEhvBTRS1Uip1dXVXV9VLnzOnp/ttPuO8dM+ZU9VTNdNLldaSRImUuIDYM5F7ZuxxF3e3efCIRAIESEJdIEHCf+ABmJE3bty41zczN/ubEx0EIq0LXeVlPoKzKg+LeuuM8SCuB3GNcUkAZI0upvnkVFczAJiNj0/3PnHpyZwLa3UxHTAh09ZalLXJGms0wKf7OzLOEZk1ejY+Pt3/ZO+TX+1+8ktdFc3ly92L3165+sMoa3OhrNU+GPuJuF5ZGlMYUxpTV6oVhokQAGCsLY0JOG8EQU0pFyRiz2WBu1QOpwU40zo3JjdmUlXbo9GgKMCVbwUYlWUspWAslTLg3NUk+yq/8wsGkZ2v/WSY1JdrnU0uJCInsIxxLoMwbSa1bnP1WmvtugoTnKstEuMcIOAiYFwCoLXWGm10URUTYKjL6ehkp5yNgMgVw63yCeMirrWjtCWD2NrKWitkoKIsSBpCRYhIxlhjZBCFWUOFCXKhy1yXM3eRupyNju73D25XxaQqpkDWVOVksF85FfqHX8m6KjAySoO0yWVkDVVlXs5Gbm2gy1k+Pu3vfTJWkalyZFyoqJyNolo3zjpBXGNMWKMZt486U13EmCWrCYBzGWUdFabWmqoYI+cIcLzz4dH2H5cuvhXXu1lrlXNB1of/P4Lzbs+0djEjiZSxlOGiYoUlkow1w7ARBOJRGxfPRZRMq2pWVa4C80me40It3515WlWRECtpWg8CxdjLXgvbG8yfAREhQxGEKkpkEJez0Wx0WEz6VldcBMg4zINE5kGMRlfT4WE+Os4n/TCp17tb1mijS2Q8SBsX3vzLaz/8D2fGLnIuZOCKvCMTjAkmQlOStYCMkSWrKxe0houNGwJXSwNxHsdifJzq1wUia3Rhyai41uxdvfbOf6wvXRQqRiAiI2QgVMC4Yly5eCQiC2SBCBGAISCQtUB2EYxIAGDJ6mpWzAauEjJZ47J/hVSdjddba690L35LBklVTACAq5AJiVwAoZt2gTEhFZeKcQ4AZEwxHYyO729/+I97n/xyMjgopgPGOJdhENeMLl24xGP1OpFxJhSTAReBS1KyRlujicgYXZXTfNoHBs7Id0LfUdauL13I2hu1pU0ZxO7roG/Fzwc3RgjGFOfnfcMMUTLmTOjH3oKLNxqiyhhL5EK4+0WhrdWLjSnJWE2peru9lqbraZpJSQDGh2ieYQkBGJeN5Usbr/9Fa/VaffnS3JIUkgsplOJSIiouArLCaOt0L1xMspO5IYKFoeq8qEZXeTHtW1s5pWgiy5jkQjZXrgZxPWuvcxEgY4icy8AlA7sNLkRgnHGpeBAxLmhu6g6Hh3cO77+//eFPx8c7RMSlkkEsw1SGCQC46Kq50J6rB4GMCcVEgIw7pwxZa3VJxhDZMh/PRkdkae7tBUDG4nq30bvSWL6kkgbjwpI9H49NRMgYlwEQ5ePT4/t//OTX/+V4+4/j/u7y1ncuvvXXSxtvNJa3nJYS+JJyT8GtZa21LrpNMBZyzp0+M5Grzxxwrjh3qviPrRwQwFhbaO30gZzK17AsS2vP3GScsZU0bQRBJ4p6SfLIU/QAGFNVxQwZT+rdrbf+ZvONv5Bhyrgkq5ExqUIuFBOSMel2XMjqxS1E5+94LMvXqcVWxYQAdJnPlwSMAWDaWgmTVmfzjVpnAwDIaMYlEwHjCpGDndc75oIJJZmYR4joMs9HJ9Phwc6H/9Q/uDU83gEgRBZENaFiq0vGuHXjzxxCROSCcyVkiFwAAJGxtiIyYLXVRZWPZ6NDLpTRFZBT6eHtjVfT5kqttR7XOnA2gJyd1FprtTWarOYyVEGCjAsZCiWdh5ALNT55MB0c9vduZa21tNlDLsFUfnL5NBbAEDHEgHPJmCs95e43YywQQn5KD985xa17kMZU1roBYVpVHLGy1jVKVyxjPcsuNRpXm82lOHbx2C9tAjN4iICpmgAAIABJREFUg/mpEBFYBC6kDOJa2lwtpsPx6e7wZHs6PEwFj9KmsRyNQUDnZy9nw6N77/f3b+bjk0bvStLouYw1RMa5iuvdxvIVZ+u6dRDjgjEGMDcnAMAay7hScY0JaY0pZsN8fGJ1wTgKKZExdPY5gtHlbHRsqpwLhYy7lclXer88nwNZAwSMyyCp1zobjd4lGaRuh4gJwbhwBZWMqazR8+XyoydYbLbOVdm5UGlrdenC62mzpcLQGmstAnJTVlWRp631tLlKZHUxs6bSxcxUhTUVMGKCCamsMboq3OuAIFQ0Gx2V+ejo/h8Gh/eSxnKjdymMExUlMsimw+ODu++7aGp4GA9JCwcO4jymmjE+X0wHca2xvNVc2WyurFlDprLu6m1lEUVUW0oaPRHE6AK8/SL4XxwiAAgYk4wVWk+qyliLAJIxtlhGT6qqtI8vet2T4POkD+SIkvPNWu3Hq6vWKWQCAABaS9Zqa+tB0ApDxfnLPI9+inn3dcEdSWO51tls9q7M6zAzjowxzgDIGAvk9PPPOsG5rB0CnHd3YEwIGSaN5d7l7yWNNpc439OyjIgDERMqqS8LGSIya7UuC6sLAGCcIwaMCQDQZV5MB0QgVGh0OT7dfXDjl4f3/1BM+nG93Vi+ENcaKg6JpDVyNjw6vv8BAbm0CDwX5jT32gIAABNCBrEMYhmk7dVrSxdfRyAEckJ+1iARY4wn9eUobXHpykA8bHUu3tvoMh+dHN753d7t3wwObnMVrl//V6vXvrfx2vfjWk/Fqakqo0tr4WF9Gs85iAgB5MIeLq0dVVVpLeNcLTaT3f5zYQwRPbaGJiKOGHDOGUOAdhRdrNc3sqwVRWfeEktkjAmFyJRqBsH5PWoPgIu6mssHxI1uvbsVxDUmlDUVAHAh3T03Whtd4hOlhuksrooAEbmI0lZj+XJtaTltdchYsgDArCFdFFzF9aULQdJAxq01pipMmZuqADJMoJACQJGlqsx1mVuruQysqU73bg4P7xze/T0w3ly5GqZZmGQqSJGJkwc3+wd3Z8Ojxcy+8Hmd5RsTkgWGgouAMcFlGDd6rdVLnfULQZzp0lpLiGQ06cqGcSNKW0Hc5Fy45JEzo9mYqpwOpsPDyelu2lptr73KZYAikIFEBkFcD+I649yaUldTowuCx5urx0FEkrFYSiIaV1VhjAXgiIoxg4hVlWv9BI0uIlqIBXLGOCJHbIbhG53Oaq1mnRsUAInQWucyW0nTVEqGaOxLvUvnDeanQ4QEjPMwqTWWt0bHOycPPh7s3x4e3Q+StNbpMUPWzs3lqpjkk9PdT36xf/M3xWyoy3z12o8WJ0JcRFKf3y7QLjgNyP1hCMiMkEGUtYWKiEw+Oh6d7OhqwjnHIBQE84ob1uoyH588KPMJV9G8KqYfT158cGFdLqJinPffVKWuykVLgMcT058Y6opMqKi99trWt/9q9eqlrNXWFekKjYbRyeHpg7tchkHSNGVudaXLopj0y9nYVDmikQFHFpazWT7u5+N+MRsnACquTQcHw+Pt4cFta8rVaz+6+K1/k7UbQZyQZfu336+KmdFlXh0/4uWleWsma4kYIpdBIoOYcxnVOitXfnDhW9+58OYb1vAqBwDQVXW8fW98cuxqsEkVMcaf801/SSEABhBLGQkxKkvBWGktQwyE4IiaqDDmaDqdVdXjbyQCAMk5AnDG3O70m53O/3H9OgsCWAR5TqbT08lkZzw2RJlSgrGz7GjPuWXvWdgrLrJ4rDUaDOlq3teRC8b4uQUhne/z87ULci5UENXaa9ev/fA/dDa3wgQBwBrIx8V0lI9PdvPJaZS2CcjZn+V0UOVjt13jpAfIYjkbT052rTUyTHWVD4/ubX/008H+7c7m65uv/fjq9/+q0esFMY5Oxie7g8HBnXt/+G/g8iaAFlPMvFL62RjFZRCkzTKfWGs2XvuzV378v3EOjAEy0pWZDovJ6fHoeFuFSZR1pIoe5iISAAITEhHL8aC/d/P27/7ueOdDa83KlR+88qP/1F67WOs0rBVWMwABgKAL6+OqnoRbAYecK84RYFpV+9Pp2BghJWdMMjYqy0lVjYpiUpaWiD0UJ523McV5LQhcfeb1LPvhysoP1tYuN5s0z8KF0+n0/mCQaw0AmVL+KTwRl5uLi2y6+ZLPmqrU80wNmtsrn5GJBECMMS5V1t5YvfrD9dfeWL32iqnAarIai1l+urtdTMcyTBkXZA1YKqejcjqs8hFRIRQAKOS8mE3z0SifDE1ViCCx1hxt/6G/d3N4dHfl2o9eeec/NVfW60tdQFbl0xu/+q+6LKp8PHf2Pbwk57+3QAQWGFcySIQMZJg2V65uvvHjq9/7ftbulTm46lGDw8Pj7W0EZEI6l8FiR3OewGyqYjY6Prr/x71Pfrm89XatvcGFWujpGrLG6sqtrZ1v0a9tnwgBWCLFeTMMNdHRdDopS2OtYCyS0pVbH5blsCge0xmf+8QZU5xLziXngrFekvzVxYtvrazIIEDGgCgvitlsdn843J1MlqIoEMJlPr/M3d4bzJ+FU+8TKutsvDkdHPf3b00G+3ff+4dielyVYy4ixkMgo8vZ6GTn8N77J9sfVOWksbzVWN6SKgIAssaayujKGld7GQGcmWQJHslCnqsoyTCuLdWWNutLF/NJf++TX8W1ti4LFTW4UGRsWUyKyWD/9m9O9z4J4npr9Xpc6zAmcB6T9TI35heUeQFmMtZUVlfWaLfmIxftRnZhpCz2khbrbSJjjbamcqk+rolwGURpK2304lp33N/bv/27uBZxEQOofDoZHe8fb3+0f+u9pLnS3nhNBalUCWNcV/ng4PbB7d9FWZ0sMRZMBkfH2x+c7H7EuIjSdtZeK/OxLmZGl07qgzFpDStmeT4anO7d7u/fmvb35wVdCIisKwhhTOkaszUWkUe1TtpaiWodUxVH995PGml9qSdUhhjm49Nx/2Dnw38eHu40elcay5eDuPF5O8zzIHTXO4ypyBeZeDrOfaHPxVl1oyjXWnJ+mucfHB9Lxi4uykp9cHz82/393cnE+YxdTKC21ul/MIAsCC7Wag9Go8qYu8PhTx882Gg2V+t1IpqU5fv7+zeOj/em00yp7/V6mVL80WXRyw4BWWt05VQtyJr5sE+u+zwcq5HOFqdE1hhdkqnIzq1KawhRZZ0Lte79w7u/n/T3j7b/yAXVl3vImNX26P7No3s3psNDXRV47Z241iEAa6rZ+KS/f3vv1m90mce1JaOLYjo8vPfeye7HQVyvdTaiWsep0VbFBIAYl0xE1op8UgwP94/u3pic7rrdYDdSIZG12mhtzaKqEwIihkmj3t2aDY9mw6P+3u3Dux8kjU4QZ2T1bHRyePdGf//epL/bWL6SttaQcWRILtyEISJDgCofH9x9d+ejnx/cfa+cDevdi0FSt0aPT/dn4z2ryWhgIuA8FCrgXC1UPV72hubakMs/dP0uUaoTx2tpujMe3zg9/eDo6MN2O+ZcIN4dDN4/OtoZj6daEwBfZCRWi+GCMZYq1YvjjSwbl+Ufjo46cRwLEUkJROOy/OT09Nd7ewKxlySKsZU09X39DEQ3S2mrK6Mr+7C/LxzK57xnADCPK1lMo/PjgYgsMCZUHGWd+tJFsmb/9rtRPcnaPcZCIjbpHw4Otvdv/r6YjRu9y2lrLc46XCoCmg4PD++9l7W7aWuF8YgsHj+4sX/rt/nkVIZp2loNk2Y+6RtdaF0CERMSgBuN5WwwPt0/3bs9OLhTTAZJY3m+OLHWGm3nXwestQBGhWnaXEkavf7BnfHxzuGd91srKwAxskSXRTEd7N96b/vDf46yTtZal0ESN7qLEQ9gEXcDiFU+6u/fAoIgrjd6V+rdiwBWV9P9W+8e3H63zMeu2HtSX0bGrdUvfXcHWEzxrsuXxpTGdINgJUkaQWCI7o5G7x4c5Fp3k6Q05t5w+PuDg09OT4dlqe0ixA+gstaFmSjOu3G8mqahEP2i+N3hoZRyq9VyXf7O6ekHh4d3B4OD6fR7vV6qFAAIxqxXyfY8ESIyZSVk0r3wVj4+2b/z7vh05+Zv/q/pcL+YjaOsEyZNo8ticnp0/w9H994/2b0R15ZWr73Tu/xdFWUAYEzlKjlb43xmCIt9xU99lrW6EioUSb25fKm19srBnd/1928h47PRaX35UhDVra6mw4PB4d29m/988uDj1WvvdC+8lTR6i+RSP6K8kLiZ0WijK61Lo0symqxZ2MxPTgRz+l6u/bgqxLQo2BjXl2qdjaSxfPrgo8npA8ZVMWMqyCb9/d2bv3rw8c93Pvrp8qXvMC6aK9ey5hoT0ujydO+GtUbFdashiOuDw7t33/v7/v4toYKk0at1Lkz6B3MlIWt0PpmNTspiqstZf//Wg49/tnfzN1U+iWoda62bO63RxpRGly7A0hgDKJJ6t9bZSBq9o/vv333vH3SVM9FImyth0jrd/fjo/h9u/fZvB4d3t976ay7DtLUWMkZk8WkWMz68F9aUVpd2nvdFfsn8GGe5x9rawpjKGADoJQkCxELcmU5/u7/vVsYccVSWvz04+PnuLhGlSrkmaF3uojGlMQTQCIJrzeYnp6e51r89OCi0/lcbG++srlqio9nsP9+48dOdnUFRXG0219J0LU1dXUf9qRjvlxNnL5uqcP33nOX5lP4OAARO7Mc5WIEsAFhjAYPGyrVx/+Dgzrsnux/f+u3fTgcHvcvfZULaqrrz+7+/8+7/U5UTEURxfSlI6k4yYTY+0VW+/cH/qPJxZ/31YtIfHt3Zv/mrk+0/br75l8tbb6etNV1MGOME1pqqKvLZcKQryif9vZvvbn/wTycPPiZriIwLeSEio6uHfZDIqXeESbO5cuXwzu9Gx/d3PvqFtbaz+WbW3jDlrL9/6/a7f3e882E5G1741r9be+VHiICMAVgygMiQcSJbTPsPbvziznt/f7r7cZA04npXyHB4fG9woKt87IzBKGs7gd846yByX2bG4VbPpTFu8ydRqoe41WjsT6d/ODjoxfGlLOsmSabU7w4Pf7W3d380mmkNAIIxJ/xTGeNCtRliIuVall1pND46OblxesoQp2XZjWMi2hmPf7m397e3b3fj+J2VlWYYvoYIT4wrfglBAGcwm8roUleFNZWlhc381F5PZC1ZbU3lhggnDsoYl2GaNHutlasnD27cevdvAUHIZhA3GFOH936/f/vX997/b7oqXJ9K6stchcj4ZHhQ5MMwawXpcpy1GZM7H/7Tgxs/z8cnaXOl1tlQUW14sg3ON6qLYjqYnKoqL4ZH90/2bjz46JeH937PubLLW2SMNc6Y104d0OnaWiIV1bL2etpeV1F6vP3H8ckDGTSnA0rqy8V02N+/eee9f7j5z/9l6eK316//JGn2GONnQn0Pq8fIwOhqfLpbTAa6mq5cfQcZ11VejE93Pvzp3q1fl7NhbelCvXspba8DMquNz9tyWCc3sEivyJS60mx2oggAbvX7AFBZe6Esc61vnJ7+cnf3k35/UBSVMW4N6YztXGtDpBhbTZJBUURC3BkM/u/btw9ns39bVa0wRID/ee/ef755c2c0GpZlIMTlZhMQJWPavrzya95g/ixc+DMyVFHWXH1l69t/c3jv98fbH0yHh9sf/KOKaypIramqcjYdHOiqWNp8s7V2ffnSd2udC4wLzqWKsjBtVvnY6Ru5kz71w5zD0Zr68qWN1/+CcXF0/4+TwcHORz893bspg5isLWej2fjY6LJ78a3e5e91t76dNJYBkT7jzJ6vEHLrXi6CNEwaQBRENcaFm2A/432McRlEQVQP05YMU6cEZo1mXAZxY2nzTWuqvVu/nQ7292+9O+kfqDAtpsP+3k1TFUubb6xc+X7v8nc5V1UxRkQZxABYzoYnOx86jc18fDw63lZRrbPxxtKFbwVJs750sdgaktX9vZsnezeM1VJFRJRP+lUxy9obupwxLgBEMSmAeBDXw7TFueRSkbVuT4wJlbXXNl7/cxnE+7d/Oxud3Hv/v0dZO0yao6N7o5MdGSS9S9/tbr3dXLmqwnR+i5585+Zuaaf5G8RNLgIZpJwrmCd4eh5iAZzyRy0I2lEUSSk5rwWBZOx7vV4oxLSqPjg5GZYlZ0xbe5rnnSgiothp3gJIzhMpW2FYU8qFaK5l2Vvd7oPx+CTPdyaTX+/vnxaFsXZUFNujUaLU1WbzzaWlrXo9U8p61dxzIDKpoqjWCZOGkCEy8fSbQ0SEgMiYDJM4WwqThgxjZJKsNVUFgFlztXvxrfHJTn/vZj4+2b/9bj4+RS7Imv7eLUDWXn+t2bvS6F4SImSMIzIhlDXV6OQBIp/098vZaDrc11XRWn+1e/Gt5a23VZjmk/7ShTetNdVsfHDn9wAogsjVfuNChWkrba4KGRldmKpgQgVRFmVtFaauFJzrnSqq1ZcuLF381qS/j4hH9/9YziZhesOUs9noqJj0k8Zy7/L3V6++E6ZtZNIa68ZEZJwxVs5Gs+FxMRtZq12Gc3//Vj45lXcjV47OWk2WGsuXGr0rQoZh0uSMzzeZX+b25iQGGEuEqAcBADix+nYUfWd5OV9Ugvl/791rRVFNqcPZbFJViZSREDWlFGMAIBirh2FlTCalq0azkWU/XltDxI9PT3fH419YWwsCIjqezQ6n0/Use6XZ/F6vt5ambv/0q74LLwYEZIDzIIhqYdoSciZUtFDLe/otIuBCySAN4gZZM69AQRaQCxnW2ptr13/CRVgV0/HJg9u//a9BXGM8GB7dHZ8+iGqdpN5bu/ZOa+Wqc2UJGWo+JWtHxzu7N34lZABExw8+rIppe/3V9vprtc6mUFFn7XqVj6eDg3I6fPDRz4KkEURZPhnMxsciiBvLl60uhYp0VZqqFCII4rqTsHbxLwSAjMso7V78lqnyB/Lns9Hx4b338vFpXFsq88no+H4x6bfWr/cufWfl6g+S5oqLoVlImgEAcKGitN1ev37hzX87Pt2dDo8O771XFRNd5lU+Hh7eZVwub73dufCteveiClIiItIvdWcHgIWUgEtabkdRTSnJWCRlPQhe73T+9cbGSZ7vjse/2d+/PRgQUb8oELEZhpLzTCk3XISc15RqR5FijAAaYXi50fiztbV6EJwWxcenp87Dbok+6ffHZXmx0VhJkreWlpbj2CV2vcy93hvMnw1Za7mQIogavctCRSpMq3w8Pn0wOLzLRcC5smScdGFSX16+/N2VKz/oXvy2CtOqmHCpwqQZ15bIaCc6+vkfRxoNq3cvyiglq63RJw8+Gh7eESpizk6wxljdXL7Uu/SdlSvf71540y0dvGLliwnB3GBWURbXljhXYdJkXAG6XdWnDj2McRWkUdqsim4Y1512OqBhXIoo7Gy+oaKsKibFtH+y88Hx9h9FEJM1xXSYttZWtt5ef/Unq1d/MDreOX1wAxBlmCAyq8vB4d1Jf9/owujS6nLp4lsbr/15c/VaENVq3QsoRD48mpzuDg/vjo53ZBgLGSJyZKy5elUXeTkbIqp8WgDIKG2WtaVSRUKGRMZajQicqaS5uvHqv2Zc5ZP+5HRv9+OfyzBVUS0fH5sq72y83t369sqVHzRXriwSmJ9uaBE5LW6h4qi2ZMpZENe5DOizFyIvHy5agSOGQjTDcCVNM6UU56lSzTD8wcoKIv5sZ+f2YLA9HkvGJGOCsY0s00QB5yHnRBRwXg+Cbhw3gwAAJGOdKPrW0pK29he7uz/b3f3D8fGtwaAyxmlld+P4zzc2vrO8fKlej4U4E9R9qaF5OQNkTEZp1lyJso6r7TT/9ZPfRYDAhAjiWtpajWpLQVRjXFpLTns2afQYl9VsLETw4MYvTnY+Gh7enYshIAZxrXf5e+vX/yyuda2pnJKLUKGu8nx8osvZ6d4nupxV+TjrbHa33u5ufXtp801rtVBh9+K3TVUc3P390fYHs9EJVxEiqLgWpa20tQpAMkysrowukIswaSSN5TCuCRniQspbhpmKa8sX37ZG79/6zenOR7PhCZeBqXKyhnHeXH3l4lt/3dl4w6VYV+XURaEzZIiszCez8anRJeMyTBqmykdH9wb7t6wTxUW0RltrqnyMjNeXNufFI8Ar6wMCSMRMqXYYWoBUKY7YiqK3u91C65M8vzMY/NPOThYEmVKplK7MTMh5IwwDzgFAMdaJosqYZhgqzktj1rKsHgSTqppU1XGeb4/HinMimlVVLQheaTZ/sLLyw5WVREpzrpLzSw5ZsAa4iKK0VeUTXRYyiM8qsT2l1xMCcBEEUS2uLVlrhIwQgYgYIhNB1t5Qcc0aPT7dnY2Ohgd3ZZhwocp8hMhaa9dXLn9//dWfhEljdHh/HpyoQiI7Gx4f3v291aWp8qqcqbi2tPnm6tUfZu11xiUyXs5Gw4O7+fh495NfyTBRUea2faO0HSat2fAwCGumqnRVCRVHaStt9lRUAwBrDRAJzqWKlzbflEGsi+n+rd/09272926FaVNXxWx0nDZXVi5/f/WVH61e+xEXi1Kp84REAAAulVBhe/01RPbg45/f/+B/nu7eGB1vuwp5gCyuLa1c+cHKtR/WOheEiqpiYq3xul9zeRHGakotx3ErDAMhIiFSKV/vdCpr/3F7+/eHh4OicLIFAeeRlCucT6qqHoZOPD8Woh2GK0kSSgkAdaVSKf9sbS0U4n9sb2+PRsfTKQEYa7W1gPhGp/OTtbXrrVYvjktry5c7J84bzJ8DopPAzhFZXO+uXP1BVF8an+yMTx9YXRpduTIbUdpMGr1m73LaWuNCugiWqLa0dOFbtfZGMR3UuxcXeWv49PaGZIyxBeMyzjqrV3+UNFcHB7eng31TFi6zlMtABkmts9FYvpI2e66WD4H14SovKES60kSyuXyNsdBUs7jWDeI6Ap6lKT52PAAgoQySendLBnG9u5W21oRULuqeyFhjZRDXljYvvPnvGt3L49MH+bQPrshzEGft9WbvSmP5IuPcZVGaqgCi1urVRu9yXF9mXObjY0QWpq368lZ77XoQN4CsCrN658Laqz9Jmr18fFoVUy6UDNO41lFRxkVQzoaT/n6jd4lsFabNzsbrSaOndZ40ll2UJlmoyhkQRLV279J3gigbHW+PT3atNUTEhVRh3Fy5Wu9uJY0VRFfJ8+lJry6ACEioKGuvrb3yjtVV2lyNso7LFvM28xmWqLI2FKKXJN9ZXu4lySutVj0InDP4Qq0mGGuH4cF0OixLyVgiZT0ImkEwLMvSmG4cW6JOFL3abmdKRUK4oKzK2mYYvt3t1oNgq9EYFsW4LAlAILajaDVNrzabvSQRiNpby3Pmwjacq0Z36+Jbfx3XlrL2hgqzp4kKu0hORKaCtL16nYyJap20uSLDmi5Law2QMVUpZNDZeF1FWdbZnA0PnTYPYzxMO3G92+xdqXU2kYl8cmLJIuNBXK+nF1df+TPO5XR0BESMi9rSxUbvUq29SWQAQIZp98JbQVyvLV3MR8eumquM0qy1WlvamA6OJv19FWZh2hAyEjLobr1d616sdTajrIOcE5n5fEZY62zIIM5aa4PNN3Ux1VUJAEKFca1T62w2V6+FadOYchHIDQBgrUGynMsoa/cufTdtLOsynxdqJrJk3IEuojVtrWXt9aTRc162ef32lxVL5GqlJlJebTbrQUAAy3HMALTWIeevtFqhEHcGA7fXxBlbT9NWFLny6Utx3I4ia21NqXdWVgxRIwiWk4SIBGNZEHy31+vG8c54fJznpTEAIBlbiqILtdpaliVScvQOi4cYY6q8jLLu8tZ3at0tq3Wts8m4cLIjT5yn3GtRbam1dj1Mm0SUNnuMCdfgAYlxHsT15a23g6g2Ot4enz4gawBAqDBIGo3lK43lS3GtTcZYq40uTJVHWaexvJV1NrP26rR/mE+HYVJPGr32+qtZe8OVfozS9tLmm1yoSX9/OjxCxriQYdoKk5aKUgAcn+xwLoOkLlSYdda5kEm92+hdRWfNA5mqRMaEiutLWxe//TfN1VdGx9vlbGiJGDLGRNZZb/Qu19rrQiogMqY6by0TEQIQUBg3OuuvCRUlzZViOqhmYwBCxt3o11p7JWutIYCrHe2tZQLQRIhYD8NrrRYANMJwLU0lY4OiqAfBm51OwPnlRqNfFLnWkZQ1pTpRZIlOi+JSvc4RYylX0/Q7vd5Kml6u1yXnBCAY26rXA86X4nhvMnHx25aoHgTNMLzabF5uNDKlSmvNy729DN5g/gIgWattwbkM40aYNFpr1yf9vcnpg2I6KGdjxoUI4qy1Gte7YdxAxnWZG1MBYJS2uQitKclUQdJ8OFY8faonay1prkIVJEsXGq3VVyb9vclwvxid6CoHxlRUi7NOXF9O6l1rjaly8JGQLzBEYCoNwGtLW1GtS1YLGaowQ2SfXR9FqCjrbMT1JaMroSIu1NzbYg0BcBnKMAvTdnvt1f7BrUl/X5dTqeK0tZY0V9LmipDKqXBbo01VkjW1zsbqlR9knXUm5Phkl4ug3r0U1doqzIiMqUqp4iCuSRU5Tfh8dAzIVJTVljajrC1VUkz7o+MdIQMiEyZ1FSa6ysmaMG2RMS7N0VaacamiWmstayxfGh3vDA7uFLNBlU/iejdpLGft9ShtGVNZpx70mXOh00oRKkwaPRkkZK1QkQxi10+ew+P6uuIMZjfnRVK6GS6V0gXC9ZKkHUVrabo/ne6Ox4KxTKluHPfi+DjPB0XRjiJD1AzDQIjVLOOIjSAAxMraTClXdvV6q3V/NHowHiNiJMTFWm0lTTMpGWK+2HMGX93OLYWRcSFr7U0VZlwGKky5DOlpe01E1mgElEHSWL4cZR0uA6kiGaS6LJ36jjUl47KxvJU2VxrdS5P+7vjkAZFlXNQ6F2pLF0QQcRFUxQTGRGQBUQZJfWlr87W/4EL1D24yLoO4XutsZp0NqyuyGhBlEDekflJ+AAAgAElEQVRXr6at1Vpnc9Lfmw0PmVBR2qovX2z2LhWT4XR0qsup1ZU7f2fjDWsqGcRChYzxuY4RotsDry1dyNrrk7X9yelePulzoYKkPh89goSsqYopnStoRNYQIhMyytrdi2+1Vq+d5TrCIv7Q3R/nNZMqVlGGzmB+uRUuXQaWk8G/VK+vpikABJwzosoYyfmFWu1Cvb5Vr1/o96dVVVp7pdFYTdPCGG2tBVCMWWszKd9eXnbyP7EQzhcWCPFqu32l0bg/Gu1Pp8OiAIB6ECzH8XqWScYMkXmJ8xg/jdWmslWYtDubbxhdEdkgabhq52CftiNHABClLanCrL0OAEFcR85dLjQRMC6kjFqrrzR7V4aHdweHd8tibHWZ1JeTxkrWXg/TJmMwGx2T0UaXupwljV5n443OxvXm6pXBwb3p4KTevZi114OkwYUyVQEAQVwT6mraXB33d4fH204eJWuvp83VIKkzZKPjnaqYqDjjXInmapS2690tFWbuwgDA2goMijBSUS+qL7XXXxsc3J7094vpQKgwzpay9lrW2QQgMsaayppqURhk8c2JEKwM06jWiWqdxvKl0cmD8ckO41KoqLa0mTZXVZQyxqt8YnTprWVYyHkiYk2pS/X6UhRJzlMpJeejqkqkbAZBK4quNpsu6ziWshWGa2lKACd5HnDOGIuFWE6SVMqrjUY9CBRjRMQY6yXJUhxfrNf3JpO7g8HMGABYS9MLtVo9CDKlZlo7nTB6uad4bzB/AeZF5Y2pcqfaFcY1IQNrKms1AnNV1+el26Fygn6IIFTIZTDfM2QMAD5/jkdAYGSModwNE2HalGFsW2vOS4dccBFwLk1VOMlir4XwYkNuzySIMxUlrkQMIgOEz9qQQ2BcqCiDMHVLTGTs/EhljdO+AhFEje6ltLlGtmJccBkJGRhdAgIX0omOGJ2XxURXOSAlzWbS6KbNZbJMBDHn0ujSbfNaq6myTMgoaUuVmKUSABgXQoWMSSLjbHh0KpcAgKCoBgTI2LmMACQyupy5QmdR2hIqsqYiW3ERchlwEeiqcLrB8Hn1Fd0tYozLIBEqOrt75J1Ej+KSxDhjEWIohKvxxRARQBPlxgBRKqVM06UoQkSB6OrH1IMgkZIhEpGrSVNXChbvtdaWAMZad2TA+XqWAQBHjIRQjFXWwkL452WeRx+FEME5m2QYAzJEtqhi8KSjnSGNyLgIkoaKM1f4dKEN64wjslbrKiegIKmLIEyaKwCEyISKuNvJqXKy2il4mSqviok1WgZR0lwJkzogY1wKFZqqJKvnlZARERnnMm2tRlnbVLkLmBIqqoockIdJw0YpWYOMI7K41qGFbg8sqg25Tmp0SWS5DJLmSpg03Z45E1KoEJGZqnCfeL6/u17MuFRRpoLkcwIUEBEZMjYffF767u/GQgFQC4LMdUBEFxViiRCRITaD4NV222lPxUKEQji1grMKcJLzbhSdvRec680Y1/27cVwPAifjJxlzBau0E1r5Cr/5iweRNabgUkWis9DdYIjsYaXIp+CWiIosoBt02cNzWmuhdE8mrndVlFmriQwXoZAhMqbLnAvp5NGNrsp8XBUTXeUqDpsrK2GSFZNcBLGQoSt86jaojSYgECrKWmtR1iZLAMRlOE+yAIhq7cA0EOc1MBcrkHMjmKsmXZXWGETkQtU6m0l92ZoSGeciEDK0pgI7Fzx7zFpe3DGwVutyhsjDpOWCyJwKoFARF9LqykJJZP204qDFhpvi3Lm8AcD1UyIqjXEFpdpRlEjppD0lY6EQANCNYwRgAMgYZyw6t0IgAOfsRoCQ8zPBbQAIhYiEcDXq9CI+6iV/HN5g/mIgEpExpevSXEYqzJAxcEVxyFqjnf7++VxiziXj0g2dRpdGl1/kk+YuRm2QcTd8qChjc5kTcKpg1mijy6duWXheJIgMIhMyRC4Q0JWRmGvPPn38QcY5F26daq02uny0CJkhaxnnjKuoljAmFmUtXNuo3ErYWbOMS84lImech0maNrtBbHVlrNbWVMYsFuXWEBjGpQjCubd7LkJX2vnHyVDFZLULynLX5lbD1lSufbrx2x3gDN0gaSDD+Re31urS6orAfvbXP7t3MFfVFFxIALRWzwVFPY9CAAzRJS9xxqrFVtLZClhxnkgpGKOFILYmioRgiIUxlbWCMfefBXATsCUiYwyiYMxpBXGno05UWVtZq1/6GK2ngci4EkwERJZc2ZinWxkLpxjnQnIuyVrXzq3VZ8tNstZQ9XBG4Ny9/rBy1aJyITKOTCATTAgugzBpRmlrfgZdGlOSJVcyFREBiXERxA3GOWPolPtNVeqycMFT4N6pKyLiMnDDERlj6WGsKRE55X8mpFARS5tu8CEyxhXSczPj494xInKlVhXnEjl3F/SpSQ0BwFpDRlurnxbj+nLCGQsWVbwNkYulPFsNx1I2wtAZw+VCIR9ceKe17sdEKXADAtG8OxMRIkfMpGwGAVuoYbu3+LDMJ0DW5RwxIRE5IFinjU+LEIynwLhEzl3QhNXl+bZNZMlYRAaMqyiLsjbMSzpba4xbTyIysgDIkHEmJDKOiDII41pDyHqUWmO0cb3P6vlpjUXGXfZW5MRHgRbVKw0RqTAFQOf/cpM4MmFNZaryfMe0RqM1iJxxEaUtxufC9U5Lf147Y97ln/j1iawx1jIuZBAHcYZcgPMMLqpvkjVug+pf6CF97XHTBEcMOJeMuS7pwj20tXqhB1ZXiiFaIlcyAwAiIVzBSDcsuBWCGxCcbrY1hi0M7E4UOe+ZXkzxhTFwPuTnJcYbzM8EEhFY47bt8CwZy41u9PhmL5E1pkI7X+4840edfZa1Rp9zzNMZ3lr+WuCenbUarXUby4sEvM/ZXLVGgzXzAipPWKPQojbVmR7GXGl9XsrCGGRCBknW2Wivv5a2VmVQs1qUs6oqKjedk7WPnZmsMURmHkZ1drXOv2nnn0gu0szivK64eWxWm+c7WWuosIupetF07cLt/gWG3/k1AFhjKnp49zyfYl68DICMQRfHu/BJwyKgyxCxecVWcL+1AIhoiHCxJnYRhHaxZwUwr/VqjdH2Yfz8WY3Rr+jrvugQuZ6UL/RhP+tGLe4zuWXr2Rj/+ObMI7PPI1PPYicLGZdh2q51NrgMksYKAJoqp8VW8KKiIcG5IcOFq1iNLrh60cWIrLHVQl6PLBG48Mj5gPCEyohkjSZr7ZmRvxApIHiy2TDPi7TGkAUzj1t56g0lAnp8vHrJmffrs7Ea5o2JAJzb66zPug575mh0y18iKqzFxVBw/rQGgKytFm+nxbDgu/wTmG/0WasrQA3zxPuH+7FPg8iQITQGEOhJniAX1G30PE5t/goRWesKZyCCkCqud9trr6bNlSjrIIuKqa2KUhfVWSHoRz/UWqupMlazs1fO1himKgHnyVBgyFiLqD+92lwMWdZ5/3FxKpgPMq5O++dO8W6UtIuYhsXFuLvnTeVHOeuJelF3/dw0AXA2TZ8FxS7EDhaLtsUKwVp0Zzi3aeyc4K7oFCxesefqxvmHAd5g/hNwTjSAz9/jIiIg878wvZw1c7+f9rVm7jEheCZLb77O/Iz2s2hgT2geRJaMZlyouN5aucaFavSuBEmTiFdFZarSPmWTdjHbPe3zzgbTRSzmZ12edbbuZx71RSBvJ38RzmbEJy28wDwtjv1sT+Ppx7hZ02ctPhNuj+iZ3kDnuhgAPCmU8WmzjzsSuQzSRo+sievLSX2ZcWkejXt68qc+6To/PRQ4AYXP+gbPPMqBn+b+V6CFl/TslfOedfN5fZYAzJNc+Qv/qO/vX5j5/uqzteHPXyK6p/uUYYSsBgShoqy93rv8/TBpZK11IZIq17qsnhrSSERP/9DzXZ4+N6b8My/vi7BoZb7vf1E+o2+68JAnLgfP3gtETxwTfJf/IniD2eP5BkLWGii5VHGtvbz1dnPlahDXg7iGXHzeAtrj8XztmG8uChXVli5EWceYSqpIqNBvCXo83zxoLo+CIkwbvSth0uRSqTCTUU2XxdMc4h6P50/GG8wezzcQIgt2IZclI5eP5FKO54rWHo/nGwfnIkwaQVx3yZOMcZ+54/F8AyFywWVcqChrh4lT6mKI3Gjte73H8y+ON5g9nm8mLguIIUOhXL4TkYV5dtBXfXEej+e5wJgQi+Rnaz8lUuDxeL4ZEDnlPsa4YIwvRAqcNvVXfXEezzcO9vmHeDyebwZfWGzL4/F8/fFd3eP5BjOvTPGpfu59ZB7Pvzx+h9nj+aaCc0lNYwANzEtvejyebzBE1hCclWfyXd7j+SYzFxtzuiQEAIR+f9njeQ54g9nj+cbjc5Y9npcK3+U9npcJn3nh8TxnfEi2x+PxeDwej8fj8Xg8T8AbzB6Px+PxeDwej8fj8TwBbzB7PB6Px+PxeDwej8fzBJ67wUwut8KnV3g8Ho/H4/F4PB6P52vF8xT9crUgERG9uez5LLymo8fj8Xg8Ho/H43kBeX4GMwoGgWTckrFIBOSLQnoexbUKIhIcOAOG3nL2eDwej8fj8Xg8LxDPy2BGgCxiyw1uLRgCIiDyBrPnEWheQpDqMUtDJsWXUj4QAQEAARB9JQbPs/FoC8Vz/+MHtxcHfMITcZ0efbUlz58IzueNRVsC8L3+xQDPP5LFK4+/5PF8Ic63m/Mz/CM/e75yFr3+S30mz8tgZghbXZlGjOZW0Xyd4hucx3G2biWCQOBSjWcRE+x5NhBERERARCBAlzHwHD/O841j0YDcMH1u8YzwpTh7PJ8POk/cmcmMCMgQGSIjsOh1Lj3PiGs8Z92bITAABGAA1vf6FwAEwLMRGXHxMwJDRN/fPc/Gw2Wim9lhvr/C3C88LwDsK1q+P7cdZoROjTUSPDOMvGPf8zQYoBDoorKfI0REZK01VpMlY8zz/DDPNxEDxhhjDZElIAKwloy1xpIx9qu+OA8AAAJYIEvWuvAVstYaYzWz3I0AX/UFer5mOBeMJQIAIjDWzru8b04vBsZag2gtne/y1mhrjLF+lvc8G8ZqBLBuliewBMZabaw21s/yLwgWkQEYuxiBXQzz8+c5in4Jhtz7YzxfDPb8/UVE1uiqqooiz4lYWcy8G8fzTHAjUGBVFEZXaIyxVBo7K6vK0rSqvuqr88yHECKyZCttCEDrqixmAEDWElmfheF5VpBxxoTRJRBV1uSVVlwjVIbI+hnkBUAgGm4LbbSdm8pVWRTFrCimptJf9dV5vmYgA2Coq9Iaba3V1haVnpXVrKxK7395MWCAmrNcV8baL9Nt+RwN5i/BBPJ4vgguFtsU08nJblFZxYGIlXn+VV+X52sG41wGwXBwmO9+xIcHR2X14XD0/z3Y1pYmVflVX50HwO0HElmiTwb9QpfDg9sHH/1PIQIupK9w6PkTcCHZw92PwZTbo+EvDnmsgkAIS+BT4l8EYiElZ7/r9+/P8pE9Lg5uH3z0M3OyXc4K6+PIPM+IVAEwHNz5Q350Zzgb71D5i8PD+0U1rkpt/Q7zCwECCoZ3hsPDfFYYw4X4ch7M8ywr5fG8MCBAOT09vfu7Wf7r4w/+OwFYY/1ix/NMICLnrKrKybhPxXiiZyeHh7/JZ5bIT6UvFARwOJqMi9n+J7+YHt5myBgy3989fwIuM3Y6PMJi8rvD6s7khDPGkIEPV3gxEIwxxOPxuD+dTSmn06PbRzd3w9gaa/0j8jwjjDFEnE2HxWw0LUcDprdvfxJKqa1vTi8KLsd8UlQPhsOSKJTSfCn7zN5g9rwsxEhrwkZKb0aaAApj/PaA55ngDBXnY6zuUHEsadiIxWqjttW1xlalj/17USAAIhjdPhQfzTalva4qwRlnjMBvMHueGURAwE9m+kOwwUoaX2gJKYRg5NvTi4GQggk22j5mD04bJ2WjKq8r3Y50YYz3inueFcU5IjzIy12sjlNBzSS+tJzWoqrQ1rvFXxSQcaSTifiwqkYF8C9JzdMbzJ6XAkvUUOrNVuu1MPg3mxuWYFgWfi71PBOKsZpS908Gf/fhzfdwcnuZXf7xlT//67eMttPh7Ku+Og+AE/0ispbe/fs/Hu+c/nBl+X+/cCmSQgnxJQmDeL5ZMECG7P+88fGt/unFb21c/8vrSRoGoaQvNXvO81SiJBSB+OefffTRr26lHwwuj8V/vHb1lW5nUBQ+6dTzrKRSccB/vHX35/t772WVudJ4599/d22zMxnOtE+JfzFARC74g5v701m5d+tIMM4YfgkpwN5g9nzzccsazlgsRTMMe0liiULB/WrH80wozhpBMJuVmZABcq54WAsb3ZopjZR+LH0xQCAiaylKA84wUXIpimIlAyEseAPH88wwRM5YphQiBJHKmklai8JIOZnsr/rqPBBloQxEXI9UpAIhEiE6UdRLk1DwQnuD2fNs1ALFgTVVEAshpWWRTFtJY6kmFNelb04vBMhQSD48HstAML6oH/n88Ys8z8sCAjBExhhjHIgYMi9K53kmOOPuP1cFEBEYMs4YcOLcF/x8IUAEawmBGCI4awcZQ8YYQyLyXd7zjDDERZcHRGScceYi/L3B/EIgOOOcMcZwUYGZMc4ZZ8i4Fy7wPCOccY7I0LUnQATOkHPGGSfum9MLASJyxjjD51uJ9lM8R4N5pqeFzufCGD7bx/N0OOOKh5JJhvz5lYb/tEKub5GeP5lFM503Ir90fhFAfELU9Xkj2T8kz5/C+Va1kMb2BvMLwlz8/tFn9Oi/Hs8XYj5X0Nlf53/y/f1FARG/kooXz8tgJqBpOR7kpwR2UVja43kcNzxJJmtBE2UiOSLw5/uRviV6/lTo8ZkUwJnKvlG9GBA5m/nxlQ2d+9vjeSbo8X8IiJ7gf/V8ZXy6Xpy3bTx/CnOzGB+b4+c93vOCQItH8iU/lOdmMBPtj7Zvn350bufFtzfPE0CAWGUb9UuY9Bhyxp+zwezxeDwej8fj8Xg8X4znZzDbk+nBneMPP70h4/GcBwFqYTNT9SxoRDL9qi/H4/F4PB6Px+PxeOY8P6EaZMg5EwwZIgMvr+T5TBABn1/6ssfj8Xg8Ho/H4/E8O89R2dVpSzJk+OUIfnu+tiDg3KXiG4rH4/F4PB6Px+N5YfClUDwej8fj8Xg8Ho/H43kC3mD2eDwej8fj8Xg8Ho/nCXiD2ePxeDwej8fj8Xg8nifgDWaPx+PxeDwej8fj8XiegDeYPR6Px+PxeDwej8fjeQLeYPZ4PB6Px+PxeDwej+cJeIPZ4/F4PB6Px+PxeDyeJ+ANZo/H4/F4PB6Px+PxeJ6AN5g9Ho/H4/F4PB6Px+N5AuKrvoDnCOOMMUREQAAAILCWyBKRJXr0UAScA+COpvnrAABEREBE9OjbFscvDnnsnGeHuWtYnOT8mZEhY+zs8gDcb/HJJ5of9fDP/LLhiW95yjWzxTvcXfj8a37q9/K8yLBF26R5+/2cgxni/8/ee3ZJclxZgs+Uaw8dGalLQ5PsbvZMTx/OfNm/vWfPnN5ebguyKUAABRRKpYzM0BGuTc4H88hKFAqigIKoQlzwJMBMD3cPNzezJ+67T68nBkIIAyCE9Gb8f2R81UL0pcMA1rPTAHz/IUL2ygAIGf0DjjlCCGEEAEbbF/MHus4vDvaVsVNef4v5frU42Cn/5d9s8CPhW0759R+s/fJqroyv7RGv6JzXT44RAowQgDFg9MaYeMWw2zTY4fumxRQBYIwBntl0Vx+3830zMD8a6tlu//m64+CZGf8KpzxC9SvwSofcfiOMEVw5Oz+kIfFT4c10mK8GD1NsnWa7TiBlNNJaodrhBLhyOzFGmGCAF7zE9vXSGkB/YVVC+NoapF9stiKEMEKYYK0NGPPsDKaeNhgjhBEgAFP/6StnUf05o3XtMdf3bNYfQc+WvXqWaQAF12cGQogQbOcLUkYb88zpv37PGGGCtdKgYWPXvkYwAGi9IhO7MgIoAGPMV63N9hUlGIPWV8EcbN9sAAWvwh/b4NsBAUIY2TDf1++mdRxEa63ryNeXJ/JLXRcQIIwRAvsS/BBz3nrLhGADRoMxGm3stFcF9KUY2dcdjBBBCACuYmQ2ZGZ/8waaOT9PfAvb49mRNlaOwEj9/U1dYwyyQ44QAtBfEzt/eSAAWJs99hJaGw0aNBh4xWb6LxZ24OwA1mmg9e7/goOvTXlljEEIjMEABGM71zcxsh8Tdh/EGD2z278CBozRRmtjEBj9Alv9Za+7dka0ftWTsf5SBCGM7D0/S+y9QXjTHGaMMSYYU4wxqgqeJ6WohBQKIUQo8QLH8R3mMTAghdSq3ieMNkobKRWsVx37KlvLA2NEGKGMWB9SCmW00VorCRpUfeGv2umMUcpIqZ6Fk9aRZANGcVVwaaNHhBHq0PqqX4F1AhoBGECgFEih6h2qPqC+F4QRoZgygj2spRZcWkNISaWkujKuXzgDjTFKru95g9cKV5QIZYy89suvGUhjjDRGav3sNwBaqa/+xAY/FIw2RhsFYJehrxo1u4/COmD8jaHqbwCqmS9Kqa+76vdDnVs2hlfCaIPWcZ0f5GK/PGhj1FcHxZ6D0lpdBdcAAOD69N/gR4JNJ2utNHzZ9ngOV5HwbzSyv9WVEQIDWmp45mV9lbf1rWEAEGCCCcWEEi01L4XgUgrpeMwNHEIJwlQKpYTeRMq+J+pQ+NrRRdd+vuBgAGNMpdT1Y5QxUqnN+vvjQ2sNCuQzY/7FsBb7FSf0+++V1hmx9v/3nu3PgAmmjNgcXVVwUQrqMOpQ6hCGqBRKyTfHmHyzHGZUh2yN0kLqZJ4tRqsiraqCY4yZS5vdKO6EUSukjNSUFANaaS01r6SohFJaK/1szzKgjSEUuwHzAtcLHDAIIWSQQQjZ/cB6p8xllJHnbsYGWkQleCkoI5RR6lBCMUDt0/BSpPOMV0JrQxl1fIYAmTUt1k6TmnO5TvsQgplDCSOUYVEp+1lTb3y1S40QEEocn3mB4wWuTbYrZYwBXnJeSYwRocT1HcrIdeJEHQzWmpeCF5y5jLmMUowJ3qSZf/5A9QhqaUwhZS4lw9ghxCPEJeSFRE3LwCykLITwKA0oBQBtTC6l1Nqj1CWEbBybHwcGpFCiEoJLIRSs2R/140fI6JqFYozRSmOKvcB1PcZcamfud7koAgDQSiupq5IbbRyPUYcSgi236pV8s5qEZoyoZJ4UxoDjM8ro82vmBt8VlVKVUtbvDRlzCPmaGVtIWUlpAAhCseNghDIhuFIGwME4YAxv5vsPDIQAIWTj77wSvBRaGa01egYAS+5ZV13Yj3iB44cewPcweBFghJVSVc6VVAaAOsR1GcLf56RrbjlGAKCkKrMqmWVFVlU5D5t+oxt6gev4DkIIYTAa2UznBi8LhJAB0FpzpXIptTEMY48Qn1JA6LlcsX3AyhihdSYEAPiUMowxQqVSmRAuxi6lFGOyGYwfBcYYUQrOpeRSSb3e4sGyMp5VbgJoZYwxjs9c33E9Rr5oq78cUB2Lt4Y99RhzGSEYE/QKIlcIAEBwWZU8nWf5qvBCz4+8oOk7HgP7xr4p3sOb4zDbemDJZb7IR2fzi6fj2eVyMVrZAg3LZ3B81uhEO7e3tg67vZ2WG7gYQ5FW2aoYPh0PH4+LtCwzrqTSqn6VtdaEES90mr24t9vu7bZ7e23KKKLo8mhy8XQCAK7vDG50m70YE1xnfxHCBHEhyry6eDoZPh43+3F7q9HdbTe7ERgQQpY5X06S6fl8MU6SWVYVXAhptAEDCCNMsOMyQrHgUgmlpLJLYdwKe7ut1laj2Y8nZ/Pzx+Mqr6pcaK1tmsg6zJQRN3Q6g9b2jV5vr93ZbgICWfDzx6Ph47EbOHE7vPHObhg3eCWUXFeuEiyFKLLy7OHl8f3znVtbO7d6jU4UNHwltdlkIX7ewAhRjAutl1V1fzr9y3i8HYaHzeZbrVbb8yop+bURtN51JWUm5eez2UeTydudznu9HgCUUv5tPJ6W5TudzkEcN1zXQegNWfB+lsAYGQNSqtUsPX94OT6bz0crySUAEEosvYVQLCopuNRKG2200XE73Ls72Lsz2L29hQnmpfgO25KtWCmSajlZnTy4LPPq4K3t3l47bASUIP2N5bDfAjUN25gi5dPh4vj+OXXo7t2tZjei1Ef4zdlNfxIgAA0wTNOj1WpUFADw28HgsNGgCF2nvF8FvZTWR6vVk+VSaR277m93dnxKP53Pz5OEK7Ufx7/q9ULGsLXLN0PzwwBhTCnOS7GapqefXx5/NhSVEJUEAEyQ49WxbKWU5EopbQwQggnD935z453/fhtTjBH+boxHjLHjstWsOrp/tpplxpjuTnvv7pbrO4Ti71wwSShGCEmh5rN0+Hg8Pp3NL5eWTsJc5vps985g986g0QnDhq8syWGTZ35JIACKkAFYSXmaJH8Zj0spt8Pwbqv1XreLECqlvP5Mra/ClRpm2V9HIwTwXq/X832f0kfz+Z9Ho/04vt1sdjyv6bqbwfjhYHlgWmlRyYunk4ujyfR8kSwy+ydCCWWEuVRJLSqhpNZKG2MwwYMbvZ3b/cO3d9otvyqEEi+drbVhLCFEmVVnD0dHn57v3Opv3+zH7cCPvO/shBsDmCBCSZlVs/ni4unk7NFllXNeckKpF7j9/Xb/oNPbawexp9UbknF7UxxmVFf3Zst8fDJ7ev/s8d9Os1VRZpXjMeZSLbUSSkrlBs58vEqXOaWku0vChp+nVZ6W549H9//9UZlxXvJrcVZjADAGQkncDjvbrdu/2vcCN2oFXuguJ8nxp+cAEDT8qBU0OhEQQIAMGOvxam2qnI+Opp/+4fHunS2tdNyJKCPGgBSySMvFeDU6nc0vlsk8S5dFtsqNqgUY0FqT45lWhgEAaA+aWmkDgCk+e3j5yb8/ElxKLm2Uas3JMzaH3B4056PVneogagcAYIyZnM4e/OlJ1Az7+52dW33HY1IoBRpquxYZrau8Gj/h438AACAASURBVD4ef/T7z5VUUcsPGj4mRGsDG3/55w2EEMHYZoxP0/TPl5d32m2HkBtx7BIirhhZqNYHskJfuRCPFot/OTlBCN1sNg1AwvlHk8nT1cojpOW6AWMOIVAX2D/PDdpUPL4KIATGaFPlfHaxPH80ujya8ErU5EsE61JAfaXVYYxpD5pe4HYGLUIwYcRa2/YTAM80Ea7O8bzQganrTRBCSshsWVwcjbNl0eiGjW4UNgwiGNULj3l2J8/UCb+VsV7fuTFVzqfn85PPLj77r6dh0487YRB5EL2i5/eLx5Lz0zR9slwCwJ1W68AYs87qo6vqNYS0MQrgPE3/Oh4LpfpB8O7WFmPs8XL5yXicCVFK+Xa7HTGG19mqzZT/IYAQWAuhzPl0uDi6f17lFS8FXNVsratr1j+AUMIc2t1u1Rw0jOqp+Ex69AVT/lmtlj2TqQ10rfTsYjk5n2ttCCXbN3rGA4QRaFiXo127jedO/sKvg7FWOl3kw8fj+//5aHQyK9ISAVBGpVSSi2Selzm/8e5uzXojyOg3xIz+MWEnptR6XpafzWapEIWUPd8nGBOESgC40jGxBwNIrcd5/seLC4xQx/M8QghCx0ny/56e/rrfjxzHo7TpuleXQF+c8esXZ4PvhboOQulkno+OZ2ePLueXS4B6v7ZaBte1sowBQrHRJoh9fVczh4pKabS2wr+0y1+tG9envBU+QBi0NoLL2eXy6P45dWizFwexhzF+Ji6wnu0IfcFC+OqvY48xySw7+ez8+NPh0f1z+y20Npjg+WiZzDPKCHUoJvjNIDC8IQ4zAiSl4oU4ezT6+P//fHI+T+d5qx8fvr3jh67rO1prXsrZaLmcJMf3h8ksAwP3zI1GNyIE81IsRsn5o1HY9KNW0N1tx61QCqW1JgTxUqxmWbYqHv7lSArl+u7e3a1B0CvSajFaGQAhVGXTO9cqA6yxIoVK5tn4eBbEXmuroaTCBCOESoB0mc8ulvOLpTGwc3tLS10WlX1Vq4IXaXl5NF3Ns852o9lvNDohc5mSOmoG3d2WH7lSqNUsvTyadLab/f2OH3mu71ytcmXBV9NkNUvnlytRiagZNHtR0PDzpByfzKtcuL6jpCaUoPWbjNbxSClUushGp7O9u4Mq51oZTBDILz/1DX5eMMZoYxAAw7jlugdxPAiChutShKTWVwrYdme1BrSlXk/L8uFi8V6vx7U2AIWU51n2dLmc9fuVUvrZioysUghFyK6XSmtljNL6hepxG3xrGKvh5wVOd7dlwIStwGhNGVlN0/lotZwk2arc2u90tptB7NlQdNj0bfgWEDIGMMHGGEA2aQxaaa205WkjhDFZa4mhWrRWa6PrsTWYYMdjzU7EHOqHLmWktrcINtoYUzvtBGNEkFFGa20JY1dy/S8GAkIJQpDMs9Hx9NM/PH768dnoeLp9q28XlldYSfWLhjE+IW3XzYMAEAooXQdOjXWVKUIUY4qx1FprnXB+liRca40QN0YCTIviNElWnO9FkdQarl4UAIwxQcjWZdgVRupXwjz4RcMY0MpgjL3Q7e21b72/JyoppSIEi0oef3Y+v1wyl8XtsLfX9iMPE4wJIgR3dlqYYEIwoVgrYycvQqjWVVG16YtxrSda65KC0cpYcorVCkQYhQ2fl0Ib40ceIrUQkQFkwNgYGSIYW017Yyxj/IXJZ5vC0lpnq/zok7NHH54c3T/HGO3dGTQ6oRe60+Hi8ul4fDKbXS610p7vNHqRF7iCS5sh2ODbw5a6Y4QCxgZBEEvZ9X2fUr3m8iIAst7lCca2TCMT4jRNMUIrIbhSSut5WT5aLLaCIONcXJMssYYBxbiu8DJGa62u1Utv8N1Q784Ex51gcKNLHdLba1viWDLLFuPV7HIZxn5vtxW2wrDpK6URQH+/0+rH1KFa1Xm4K6VAY4ySGjRorTFGCNtdvq6n0RqM1lppgJr0SggJG35nuxW1AuZSeyqMkUHP6kAxRsgWYJr1imEVgp/bpxEghJRQ+ao8fXDx13/5tMq567H2oNnsx2VW5Um5miZFWnqhCwi1B03XY2/ApvGGOMwAwHM+OV+cfn559Ok5GGh0o717g4O3d73AcTwGBnglxufz84eXn//5aHI6f/K307gd3nh3FwC00mVeJbM07oSdndbtXx0MDru2wodQUubV7GJ5/OlwfDIbHU9PesMg9nq7bVGJqhRaG+YxJa/E+WsJLoSQMaCV5qXIk7LMueDSMsMxxlqZdJ4vJ0m6yFtbjYO3dxyXikoCAoxQssjml6vFaDW7EGEz2LuztX2rH8S+qCRzadjwpVRlVvFS5km5d3ewe2ervdWI2yFAHWPKVsXF0eTs4eXxp8PwoX96eIHJTqMXK6nztHQ8xktutEEYX3Pxa0F4rQwvRb7Mq5xLqe0839i1P39YCiVCyCGk6/u3W61+ELRdlxEitUZWNxtAKFVoDQAE40JKZUwp5ZLzQilrB0utMyFWnNuqSLNOR9urVFKma2o3rfX16uTVa78c/kSwCqcII2s9+7HX3+8Qih2PnT8aYYLTRV5mZdwODt/Z7QwafuwJLplDo07oRx4vBcbIRjaMMcZIo+vUMbJtHsAoobnStgramtFWwxbWkWwvcFtbDT/2gtgnlBgDlhhmXWWjjZGGK2O0rtv1YWxzXF+XaDZQ5lWZVZdPxycPLo4+OR8+GafzvLXVUHL9vlznDW/w8rAPL2Cs5/sAAAgFjK3L3msvt1gbxBghpXWlVCGlLWK06l+FUqkQCeeFlHotBkYwRlY+UGvrJJO1MW0J25tU83eGpVtjgrzQ7e93mMu00lprx2VFUs5Hy+lwQSiJO9Hhu7vtrYaNYQFC3Z0mIFBKa13XAFsVUlg7rrafk9ZGSKWV1srU0S6CCalXBa00xjhqhYCQ1iZs+oRgG98HU9dLGwS6FFobgHrFWJdWPz/qtpeMFDKZ52ePRsMn4yqvtg66t3990N1peYFz8XTCGHl6/3z4YLy13+3vtb3IDRu+kki/OXpAPxLsukkwjhjbi6JKqX4QhIxprRHGlrCtAbiUSmuKsQYQWkutUyEwQlwpZYwGqKRcVpUVL1BrqXwAQADKmEoIZQwYczXfKcb6BR1ZN/hWsFFnBIhQ3OhEGONmLxZcMpcWSXn5dCK5vHg6aXSiwY3e1mG3u9dWXGmlw6YftUIEqMwqpdby1sZoXVOHEEGEYvtLUal1EBzqeNl6l8cYUUaiVrB10Gl0IsdjCCMbVbe2BwBoo8V6YcEEY7vFXwkkXQMChDHmUmTLfD5ajk5mcSvYudXfvtXv73ezJJ+PVukiW4xWF08nQexHrcDznTdANPtNcJhtuitbFU8+Pj17eFlm1cFbOx/87t72zV5/v4PqxlLIGLNzZ6u/11ZSnz+6PHt02dluvv/Pd6VQhGJCMKak2Yv37g7e+oebh+/uFkkhKokJVlIVGW90o+UkUVKfPbzs7bUP39kBAMdjWmnKKMZf8CmvdLoQRpQRx6PMoYQSm4Uzxkgu00WWLXIlVdwO7/xqP2wGgksbPJ6PVqPjyemDi9nFsr/fufXBwc339+J2yAuujUEIr6bJREjmEMdnvb32rff3tw66ra14HXzCRVpu3+p5gTO7WBZpefzpebMf3Xx/n7nUcSlzKWFkXYtvrm7arG2sWmycIBtgfv3f818Erhxml5CtIDDGRI7Tcl0HY6m1FfbIpFyU5UWWVUp5lFKEMEIepRFjLiE2rYQRcgnxCKF1TzbACBGEtDFcqVFRnKep0hoAtsNwKwgix3EwLpUSSm3yzN8BV2uFH3le6Nr/63jMC92wGWitZxfL6fm8t9e5+5vDrRvdqBWIUljik+ByNUsQRpRRLbUUqsgqXvCwGYQN34tcQrGN2SWztMy5EsrxmB95UTuIO5FRRitNKPVjr7fbkkLF7ZA5RAklSsErQRlxA1dUwqr4ZKsiagdxKwibges7Wmmt1+3lvzjy1i4fHU3PHl0efXJ+eTSpCk4d6niMORSTTRDu1QGhiLFBGEaOYwBixrBVNECIYLzifJTnCee5ELZYkSDUdF3MuYMxBsAADGOXEI9SVq/49ZTHCE3LcloUk6LIhAgZa3neThAEjFmtyU3e6bvBKtZigoPI80N366ADAIDA891kkR/dP5tfLqNWuH2zd/c3N7YOOswlAMg6xsaYMqtEKd3AwRgn86wqOaXEC924EzJGMUZ5Uq1mWbbMs2VBKKIObfVjaygTSow2GONmN/JCRxsIGx51iBRKZhUAAEKMEQBYTtMiKY0xju80O5EbOGQth/vsmyBAGAOCMufLaTK7WPJSDA579/7+xvv/fLfZjRGCVr+xtd+pSjF8Ml6OV5dH0+5Oq9VvWHNjE3X59jBrh5ki1HDdm82m1DpynJgxZQwB8BkrpcylHKbppCgcQuy8JhgHlNapY4QQAMXYp9TBdfwTrVkkNlx+nqYJ51Lr2HG2gqDlui3XrZQqpdxs8d8NNvNEKG7240YvBmMwRo7vpPMsiL1sVTy9f2ZzeAdv7+zc2RKVlFxawd0y5/NRSShBAFqZsuB5UtrkWdDwvMAXlRSFWM3SdJFJLgGBF7hB0290IkaoVdumjDQ6kdEmaode6CKEeCms9InrM4QQL3i6LFbTlDo0bPpxK4haocGmbkOlr6n02Qyz1EVaamXChr97b/DeP93p7rbb/UZZ8vlouZqmvJKL8Wp8Otu7u1VXq/6UI/AK8CY4zMaAVsoWzySzNGoF2ze6N9/bbfYaYStYJ1UwQuDHHgJYjFfModPhwtKSbXMFG511PBZEXtwJW73YcSivxFWiZjFaNrrRYpwk8yxPSimUAbCS19areOEqUjdWpWtKJEYAILmscl6kpeDS8ZyoFTR6cRj7vBKEYMKoFCpb5syjmGAvcMOm3+iEcSfiBZdCaW2KtLDNGwklbuCGzSDuhM1uZGwpMiWWxDU+mQWRJ6VaTpIy47bfAyF2jazFur/ipuGqT+PGrn1d8IxUb0wqxKgopDEM45bnYUIKIRZVdbxanSXJKM+51j6l9n/jPL9KI9ugCUGIXjG3AZTWuVKTojhP04s8H+W50hqM6fr+VhAcNhrbYegR4hAizSbt9B2BACGKKCWYYkKwGzh+5MWt0I986hBAyPWdsBU0OmHcDqtSWGHC2eVydDqrMg4ASihbA1Jk1cFb24ObPSmV1no2XC4nSbbMq1IooQglzKWd7WZvrxO3giD2tdaikvmqEFyGDV9JJo3OV+V8vAQDzKG2SCSd59mq8EI3avlbB93OdtOPPOrQqyKo52AMZKtiMVqVeUUYaTeaYcEvpcIU1xyvzdryisC1TjlfVBUA9DwPAAxAIsSiLE/T9OlqlQshlGp7Xst1j1erlHMAcAmxMuWWdE3XRrNd++dVNStLu2KsOC+ldCltuu5BFG2HYS8I6hDbpsLxO8HSQDDBVtXPPncvcC3ThLnM8ZgfulEraHRC5lLrMBdZVaTF+GQ2PpuHDZ9QMjmbF1kZNoLubot5THKZzPP5aDW7WFZZVZXCaA0Imr241W/09tqtXuwGLsLImt3GGOYQBKjKy+UkFZUQXCEESup0kedJqYRiHm31Gu1Bo7PddHxWGw/116h/Gm0IJY1uRCjeOujs3dtu9Rth7BlTc1iChg8GbPBOCoXgSzzPDb4F7DPTxlRKzcuSa62NCRnDhEiAjPPTJDlerS6ybFqWLiEBpbHjXGRZLmXM2FXHdes8X3nLAFAqlQsxzLJhll1mWSKE0jqgtO15B3F8s9kMKfUplZs88/cAQogyQiixbV+tbryNPmOMmUOC2I/bYbMb80qISmCMRSUmw8VsuJBC2aqKPCmXk7S1Fe/dHdixmA2Xs+EyWWR5UiihDRjKSNgMerutZq8Rd0IwRmtdFVUyT5lLg9iTRmpt5pfLPCmYQ43WZcazVZHMUoSR4zu93fbgsBs2Az/2sDH6mbRBXd6MMFBGW/34xnt7u3e3tm/2G50obPqsYKISViJbCSW5NMa8GUyy195htnEOXop0kU2Hc6303t3Bzu2tRjcmjFQ5v9rMEUKWAXX7Vwfd7dZqmjX7MXOoqETNaIJ1m4eCl1lV5pWoBAByPBY0PC90/dDLFnlVcmOLeb6LQCUCQGXBs1VR5RwhFHfCsOFbwfciLQkl1JFVznkhLGtRCslLUWacOVVVcluToKS+urqSSlSiKniZcwCDMKaMKqXsbHQDx2SVFFpvioXedCCEKEIFQCbEg9nsX05Objab73a7nTD0XPcsTT8ej39/dvZosVBaY4xdjCkhDKGnq1UqhDKGIPRcysg64aVSwzT982j0+7OzVIgrLTppjEPI/9jZ+YfB4J1ut+s4uZRys5t+JxgwoI0QBkmEALQ2YKAqKlkJy5uyS1ORVdShvBQIIS9wq4yffT4aHU+TWWo59ctxUuaV1tqL3BVKk3n+6C/H88slwpZAYEQpypx3d9vbN3tv/fbWrQ9CUcnlJHn80WmRVpRRQokxZna5ePLxWbbIZCUFl6ISUmoldVVUhJDbvzq4+cH+wds7zR6r7/5F9Y3WjN69tWWbYM1Hy9U8g42n/OpgDZFxnt+fzY6TBAG0XLfn+0brYZb9YTi8P50+Wi4JQjFjljNymqbTohiEoUvI8x2kEMLr9PKTxeLfhsPPZ7OTJPEppRhXShGMu573Xrf7u7293SjyGQNjNrza74C6aEtrzU3tQGJkNJRZZfVTtNKSq6rgZcaltOQdmxSSR/fPP/n3h7ZB5vDJuMyr/n7n1gf7zX4sKvH5n55eHk3nF0vmsSD28lVRpBWhJGwF7/y323d/c7h3b4AwXBxNJmdzrc3BW9vdnVa2Ki+OJstJspqmZVpWhQAAJXWZVwjAj7z9t7bf+x9324OGH3rXJ7DVx6AObW013vnvt5VUVgNVVCIDgzEWXNjiahuIxzYqs+m88PKwhRK18HWa/sfFRSbEzUaDMnbPdVdlebRa/f709PdnZ1xrZYxlijFCllV1kWVuo4HXQbHnTquNWZbl0Wr1r2dnDxeLK9ETpTXX+u1O5x8Hg1/1eu91u7aa4yd6AK89rmqdBEdWhqDMK14IKaQxRinNK1EWvEhLXkklpBe4xsD8cvn4byeT83mRVpSQPClnl8sb7+16kSu4zBf5gz89ffzhqQEDYGzJZ5GVjsu6u+2b7++9/d9uMUarQgyfTj79z8d3fnPoBg51qBTq7OHl5dFEcikqaW9Dac0LXmZ8587Wjff2bn+wf9jY0QQwMrYbHNQKy5oy0uiGjsf6B52w4XuhiylWSotSlFlVpJWoZNwJvdjFBL8R/vLr7zADgNa6yKpsVZRpZYsArbcMAEoqW5dRJ4ERYi5rD5pRM+jucsdnjs/ytNBWmA6B0UYJJSolSmFfIGOgzKrlJLl8OllOVlob22aJOvQ7NESxie4yrdJFVhWCUNzqR2ErMMZIKZWq1aqVLVHSxpqhWmllIbVt1Xg9jae1lkLaN97+tkK8zPhivJqeL/KkpIw0e7EXOjY69Wof/gY/H1i1DzCmUmpSFA8XC4eQnSiqlOJKfT6f//Hi4mi5rJTajaKG4zCME87HRZEKwZXSWqMvns0a01ypeVX9aTS6P51Oi6LpugeNBgbQxpwmybQs789mypiAMWt/U4zVd2wK/EvHuu2qAQAl7Zx/prBkK5e00koqJRUmBGEkpUrn2fh0Nj6bRa2gvdVo9uMWasTt0Bhz8WQyOpnNLpdGm3YvcgMHY5Qu8vnlKpll6TLv7rT27g54Jcq8mo9W2SIv0lIKBQiyVXH+aJTOMwQQd8LWVpMyAgiGj8eLcXL+eIQwituhH7mOQxHGVlDo+tdBCOJ2MDjsuoFDGdHaSCEpIxt/+ZUjk3JSFGdJAgCZEJVSCeePFos/j0bToogdp+N5fd/PpVxVVSnlrCw7nvdl05ki5FGaC3Gepn+bTP4wHBqAputuh2HkOBnnS85HeY4QanueNuag0XDIVXXPBi+N61MeabTe5Y2tJdam3v2xtPQ0ZFumL6fp8PG42S/DZuBHbqMXdQZN13dW02Q2XD7664ngMmj4jV7U6sXZqkgX+fh0Njqexu0wavr9g47WJl3k89FKK93ZbhptZCXzZTE+nl4eT73A9SI3bAbMoUVaZot8PloRRro7LcqIF7gY46sRN9oYMITiMPYdlwEAcyh1iNZaCY0YSmbZxdFkNUsBkB97zV7seMzU3O7Na/MyQAgDaABLIjtNkoTzgFLbY/kyz/9jOPxkNrvIsr04thExMGZcFCnnlVJqrZn/7HzrouVcys8Xi48mk6PVqpRyN4pix0EA86o6T5Jhmv6bUgzjrSBgGDOM1SbP/F1xve2NUkpbJUaznvJaa6mV0lopZTVEEJQ5n4+Ti6cTUcnuoOXH3sCjvd12EHmrafJ0uLx4OklXeXur0eiEhBIl9WKyKpJy+GTseGzv7iCIPcFlOs8vj6dbBx1RSYSx4HJ6sTh7eKm1dlyn2Y1aUUxdOr9cDZ+MZ8OFqGQQe93dtusx6hAlda3SZ8CAwQS7get4TtwJrfTg9HyezLPlJJ0OF8vxyvXZ1n5ncNB1XGqZJq87Xn+HGYFWOl8V+aqUUjkea201g4ZntDHI1M01MBBGCMVWEcvxKGr4aK1hgTG+GkutjbINqISyLqiUOl1kk7P5gz89PX88avbi/v5Osx+7gWM131/KULCVe3laJoucV5ww0uw3onagjQGp7dd5iW8OYFtMK6mlUFJIG76qSj4frc4+vzi6fz67WG7f6A5udKNWYPmZL/FsN3itUFOyAZTWmRCTolhxzpUSSmVV9bfx+D+GQwfj/Tj+3d7efhxTjD+fz//9/NzWJ+vnljSELEM7k/Jotfr92dm0KCLGft3v/25vjxGijfnDcPjn0eg0TUd5vhUETdfdCgKXEL0hZv/wqNcubXghslWxHCftrcbh2ztxJ2p0wkY3VkqdP7o8/mwYd8LBYffm+/u2KcBitLp4Oj66P3z6ydmdXx8WaSkqKYXKkzJdFaISxmiEcJVV45NpmVVhHNx8r/X+7+75oYsJ/vBfP3vwp6P55UoKtX2r3+rHTjcmBNeCnGtYbc32dqvRjdzAMdosJ8n45EspzQ2+P4zhSllKNgKolMqlPEmSz2azT6bTru//bmfnVrO5F0W2XfNJkuRCWCHA5waDYhwwNi2K/7q8/NPl5UeTyX/f2fntYHC72ewFQcr5o8Xi/z46Ok2SP49G1m1uui4h5AViUBu8atiOL1qbMuPJPHN8FnfDO7++tXOz74Wukno1To4/HZ48uNi+2XvrH2/19zvtrbjKebLI//T/fPz4w5PL40nU9O/83Q2MES9EmVZSKl5wa6kLLuej5OLJ5O7fHe7f3d467IZNv0zL88ejD/+/B/PRavhkFDT93l4LIXw12nbcCSGM0Vq036YnjTHIIILmo9Vnf3w6OZsbgEYn6u93vNCpd5vNK/OSsGXf2phSykVZrjjPpeRSaqVOlsv/fXyccu5R+qt+/592dlxCMiH+YzicFAW8qK26rb+QWq+q6sPx+D8vLjBCu1H0P/f3D+KYIHS8Wn04Hn8+n//7cBg7zkEc70ZRPwj4tfYZG/xwQHXfR1VlVbrICSGtQWP39lZ70Gj2okY3+tvvP//Lv3zKXBo0vMN3dvbvbTOHCi7HZ/PTzy8e/ulodDJdThK7dFQFT+dZmXMlFWitpVpNksn5nDl0+2Zw5zeHgxtdP/ZOH1wggPHZ/PGHJ/399v69QXur6QWO0eaZSp8BhBFzqFXXl1JJrk4eXDz405PJ2Xw5TqlDe3vtg7d29u9tu77zZuRQXn+HGUBrI7mUQhptMEHMIYQSAMAYAwZeijKrxifTxSSxqla2PQNhtNENuzstXgrmEuZSQvFqmj795ExyeXT/jJdCcKmULtJyOU5WszTuRLu3t268t9sZNAnFllL17WFF2wGgSIpklpYZDxt+sxdFzQAM1FHllziZLd7Wo+Ppffbo9POLIPINGKW0qGS2LOajZbEqt/Y7h+/u3nx/r9GNRSltwfYGvxAQjBnGaVUNk+QiTRPO3+103ut23+l2d6PI2sorzudV9WS5tD0br15B+1eu9bwsL7LsJEkoQnvt9k4YNhyHEWIABmG4G0XnWTYuiuMkOUzTrucxxrjWb0I48ecPBHbpQAiYQ9v9xv69QbPfaHQjjHGRlbt3Bq7vtLYa3d3W1mHXynSJSgSxbxta8ErwUiilvhCqM7ZICYwxrsfag8bgZs8q+RsDO6ezxTg5fXBRZlWRFFXBrabIl/WuEQLHY+BRxqgUEj3r8LjBqwdaz1llTML5SZKM85xivBtFv+71DuK46bohY6HjfDabHa1WDiFiTbyEtdwjIGQALG1kXBQY447n7UdR2/NCxhyMl77f8/1CypMk2QqCrNcLGbOrwWZsfwzUXqZBGEXtcHDY27+3vXtnixBcZhxjtHdnCyHo73duvb8XtUIvcAq/AjsTERKlKLJKckv0eEEVMSbIChzs3R309lpBwy8zLqVu9S/KrMyWRZGU5kVGxPVT1cQFhLNFcT4ZPfrr8aO/HhFK7v7d4f697e5OiznsStx7g5dGLQBhFXIQw1gqNcmyYZKcJkk/CG41Gu91u+92uxgg4XxVVVa+5Flk/BoMQC5EIeVZml5m2d1Waz+KOq7bcByCUM/396LoPE0zIYZZ9mCxiB1nP47lJvXyY8EA2Bw0xjiIvcFh9+Dt7e5u2/UZwqi31771wX7Q8ON2uHu7391pG62LrCrS0vUcY8yaa62s4tL109qNnhAcNYPebmvv7tbgZt9xqeRqMU6KrLo8nhZplS7yRjvCBL9gvbCnqhtVakQQc5nrO47vSC6LpFxOktUs62wTwsgbEFF9ExxmY4yUSkllwCCELDcAAKyiRrYs5hfLP//vTx7819OrYmZCMXPZjXd3P/jdW3E7cDzmZEb7awAAIABJREFUeow5dHa5nF0sn358yhyqbQc6bZTSgqtWP96/u3Xzg71bH+zHnahub/gyQTYEgDAGgDwtk1laZpUt9QmbgTHm5YqiEYDtiqm0LUIglGCCYZ0kt1tRd7d1893de39/8/avDsCYsuRKbZa5NxbPfF2ErKvsEeIRklRVLsSkKJQxB43GB73e3Var5/u2TkkZc5am/3V5STB+lhlGtcIDV6qQ8jLLJkWxHQSHjUbP968aPjdddycMHYwtPew8Td/rdq0mzKbI6ceAqTtJUUaDht/Zae3dHTR6cdQKyqxiDnn7H2+Kaj9qBX7kOT5TUhVpRR1KHVovF1IJLqxqrm0WYDVvAQBhoIx4gbN12Nm+2du51QcAydXWYXd2uZqez/OkqHLO89phfqGqB6X1amybOm4a+P5AwOvomAFQlq6ZprOqarrurWbzg16v6/sIIHKcjud91G4/XiwoIdW6owxcK8GQWk+K4rPZbFVVseN0fb8fBIwQpTXBOHKcQRBMi+IsTYdpmtlM9WZQf0TUmrdrt3b39tbgsKekqvLK8WirH9/5zUHUCjuDpgFQQiupKaWUEoKx1saS0WxzbUwJ0QavpdEBg+OxqBX09jt7d7csN4QXosyq3m5rer4oM17l3Ir6PzfdrapF3cPbdrFieDlJPv3PJ5/98cnjj07e/+d77//zvRvv7na2m0rWUkA/weN7I4AAMABFyCHEJ0QqdZGmF2k6Lcu7rdbfbW290+ncajalUgnnXOsl538ZjerWUHYVXkfHjDGZEKVSl1m2rKqW6+5FkUeI5Wd6lA7CsOm6BmBSFA9ms7daLYeQUsqf+hn8MmBHSBsAYC6N2+H2zf7e3UF70DTalHm1f3cQNf0g9oOG74Uuc0iRVlIoyihhBGFsjBFcKqls1xNCyVooHQABIdgL3PagOTjs7dzq9/c7BqDM+e5sMD1fEIJFJfJlIYVE5Et8JMsiVwZqIQPjR15nu0UpYS4bHU1Xs3T4ZBzEftQOvMB9A3b/N8Fhxhi5nuN4DBOslK7ySnBR18dogwlyAqez0957q7QbRplX2apI59lqmhZp4YWOR13bBDxqBVEr6O20onYgudJ101GMMI7bYXe32d/vBLFPGbkWmv8GGAO2l61lVpR5lSdlVQjHY0Hs+aHLHMJL+XLRVgNgrAeOWltxZ6vpRZ7rOwBge5FjQhijjW7UP+hs3+gyl9ou0M81hPgSA7xOAa0rLDbFhq8Zrr9DaN0RqlRKS4kAQkpjxkLGEIDQWihFMe56XtNxmO2tes16BhuK0roQopBSKDUuir+Nx8Msix3HukGLqpoUxaQo7IXwVeR7gx8LtrAZE+T6juNRwogxILgyBmyr5DKrxqfzIitFJaRQSuoyq/KkWM1Sm1H8wunqgQcDBgEiBBNKqEMQRrYDpJIKAAhdN2HWRhuzXiVe4DJfFWttOPo/GowxQmtr0bZdt+E4CCG1DnJ5lDZdt+P7pZTqi4OCEdJaF0KUUgqtbQu6D8djrlTdMwEgFeJ4tZqVpWV0r5OJG/yoQAgRgl3f8UMXYaSkMlojjJjLirRaTtLzx+Mq51IoKRTGSEl1cTQpi8qL3LqlM1ybtesBRAYwwdQhhNQEOq2MbcWMCUYEPau2fPFtwVUiYT5djU9nTz8+e/iXI6X0e/905+3f3rr1wX7cCbU2+iVr2Tb4MtD6J8ZYGpNwLrR2CbG9JBnGUmsbEYsZ67huQOl6df/CGQxApZQVPsiEeLJcAsCD+dyjFCNUSpkK8Xi5tCnlZ6oHm1n/Y8Gsqx4oI8xj1K21S8BYJWNMKB2fzZOPzkQlZCWU1ILLquCz4ZIXFUB0fbo/RyWzsS3KsM0/13NTG3y14huwvZ2/vl8OQphQaPUblJJyv53O8rDhT8/n89Hy5MGwt9fyAodQq7HzQz2oHwGvv8NsAGPkBo4XuKTumVzxUqy7ewMhxAvdwc2e4zPmUMnVYrQaPh3PLhZZUpQ5l0JB3RdRRa1g7+7g1gf7g4NOkVVaacdzHI85nuMGjhe5zKGUEkTQV634z78QxljVLgBAGEkhy6zKk5JX0vFZ2PTdwCGUGCNedv+wMUKMcXe7deuD/WYvjpoBIIQpdhzqeMzxHS9w3dBxfYdQLCqok9gIreU2XnBJAwD6mRrHpqvUaw1Ls+RKca0xQiFjIWMuIRqAK1UphQGarhsxVjvMX/R4tDFS61KpSiml9awoPp5O2Xx+tVlq28KKc59SjxAH41qR7if5tr9MGDBGY4wcn1GHYoy10qKSlvwiuVpO08cfngyfjFfTVElFGaEOZQ7NlvnaX/6KKY4AE4wpxgQbACmUVeo2Zt2PEdVppa+7OyunaD+weS1+eBgAbYzSmitlOSAhYwZAKCW1Zhg7GMeO03bdidbqWswfWT0hYwoprZ2dSzmrqk+m04ssuzrOBtEAgGDsEELWS8FmbH88GKs1jZnLHN8BY2znVZt5rko+OpnaSmZeCq20VeabnC+qggMAYQThr9zVMUaEEYSQ0UZLrYRSUmlt7FZSa5F+BSxF2GgjhZyczT/5t4dPPj49e3h55zeHv/5fb9/+1f7B2ztKKiXWTUY2tsX3hh0XZUwmhDTGIySgNHIcjJDd4oXWPqVN1/UIUVfxy2sxcb0Oi3OlciGerlazsrzqNWWM0QCFEAigbuls5c03m/yPCFsEQRhhbl1wKrhACJlaw0gNH48ff3S6GK2yRUYooQ71Asd22IF17uSFsKr1tluC0loKaUm1AMaGQ+v89lcMd+0oIBvCI61e3OrFWusyq5hHAeDRhyeSy9u/3m/1Yy/yEHq95bJfe4fZgMGUBA0/bAV+5EmurBRkf7+DMUYEEUb8yB0c9tr9BnOpqOToZCq4HB1N6yaUltSowWjj+KzRjbYOOrt3BlYt1jZMsz8xJdgqYz8L7ZAyr8qsklKZ9eKFMdjwjDFGCsUrURUcE+QFjqhkMs/KtAIDzW7U7MbYpm6+w/cGAACEkB/7ne1md6fd6EYAdcQIU0LX94wQWI+dUEIZoYwopaqcVwWXlQQATLDdazHBWuk8Ke00s5x2Oy1f1Xht8GPCejPU+rEA1XoHhXVC2HrOtpTR9sq7DrQmalKMPUp3ouh/7e+3Pc8hxEZbbEFUpRTD+EajcdhoIIBiIwfyE8HGO2wX3TIt56PVZ398cv54JIXq7rT239r2Atf1mZKKl+L40+Fqln39zDa2POm5OMp699xI3P4MgdZCPhRjMCYXopIS1r+0c1YoVSmlTe0F1Z+0LjFCBGMAEEo1HafhOH+/tfVOp2MdZhsfsWY3Ruiw0Wh7HsNYbxS/fkJYl0npdJ6fPx6dfHZx/Ok5xvje39/wQtcN3SD0KCOf/uHx6ecXmCDJv4HOZsyXFG2/haQ1JhgBKKGWk+TkwcXxp+cnn1+4gfMP/9f7N9/fu/3rg0Y30kprpY3RNUFug+8NOyUxQtaVFVpXSpVSamOucoRSa67Ula71VWLZrLd4gpCNf3U877eDwb1227aRg7UJYWPu22G4F0VNz8uEEJsa5p8MBhAQQiSXRVod3T//7I9PypxTRm68uxvEnuMxQolWejqclzm3yiFfM3NfsMvbqW7gqxxlW3ZRFTxd5LwUksuw4ced0FaGYowdV4fNIGoFhCDJlSilEMozL2ShvU547R1mALDdlaNWGLfC1TQdn8zaW40iKRCA4zmYIMdj3W0HY0xdUmaV4HJ8Omcuu6p2ttxCo4G5LGoF7UGzf9AprN94Rfc3NY/IaIMMAgDL1M9WRZmVvBCSK8rIVdzOGCO5KrKqKrjkijEaNHwpZJXzIi3BmEY3avQihLFW301wva419QK30Ynbg2Z70LgqQK0Tw/USiZQygGpGh+szLXWelPbOba8rpYwNQ/FKJLOsKgTGmFDCGLXcy9f6Lf+l4SoXZO1jhxAMcCWfm0uptL6Sx0w4L6RUX6wvMWvr2WqKuIS4lO5E0T8MBgdx3PI8uNpHlSqkNMY0XDd2HJvQ3ljPPxRe+FzNtf8wNUm2zPnsYvn4byfDJ+Od21uDG72Dt3aavdgLWLYs5pfL5SRZf8q84FRXf/qSx7wmWH+fRWHzevyAQAAUY48QjFAmhC0ztvFcZYxQKpfS5qPwtfywXSsQAMPYVrnFjhMx9nf9/u/29rCteDRGKFVIaU8YOU7EGNn0lPoB8A0PtP6zrTNFVpg6XeQnnw6ffHx2/nh0+Pbund8cdndacTdijGqlFuPVdLiwdWHWYTZXpzLPzrrWFIPrAbGruoqv5GIjhBGyCqmjk9ln//Vk+HiULYob7+3+6n++tXt3a+uwq6WWUpqa473B98XVQ7S+cUCp7fZUKrXivFIK1u5JoVQqZaVU3RlmbdDC2n8mGLuUepQ2XPetdvufdnZ6QeBTCgBKa6l1IWUuZchY7DgBpdYh/4m+9xuKb/c4rwx8TLCSOl8VZw8v//avD7q7rf5B5+Dt7b07AzdwEYJ0nlGKjz8bQr0+X5vkXzzhmmz6hdlt4FmE7PlECtSFn0qo5TRNpmm2yvv7HS90EcaUYQDAhDguczwHIWxT1lq9CQH2199hNoAAYYKiVrD/9s7pg+H4ZHby4DJo+IMbvf5Bx2pTI4QUUrziy0l68XQ8Pp0VWRV3Q8KIJRyamjxtbKGvWf8b1qIo6/1inVtBEDS89qCxGK9W03RyPm9vNVqDhh95dpHSBZ8M58efDpNZ5nqs2Yu7O+0iLZfTJE8KY0zciRqdCGGkv3Lx+UbCY33EF+8Yrt7w+p6RQYAIxdShzV7c2W5dHE3Gp7PzR6NWL272G67HbItmo/X8cnX82TBb5GEzCJtB0PCILdh+/d/1XxTsmyC1llrHjhMzFjDGtR7l+Xma7sexR6kGWFTVw8XiNE3TtQFt48Z2ucQAHiHU81qexzDOhThL067nHcSxDT+fJMnxavXJdDqvql/3em93OpHjuISU3/jibvAtcb1y4iue6Bf2vFo8FVUFT+Z5kVRGmc6guXOr39trBZEHCCWzLJlnRVo9V1dytT8+f+bnLl0vN7Vt/aVs1Dd/nTdh5/yZwazZlQBAEPIp7fr+KM+PVquLPJ8WBcPYNliel+VJkhwnScwYQ8hmkWxoVa0LN7qetxtFl2l6kWXzqiqVarpuwJgxZpznn85mwyyTWt9sNv9+a6vlugTjDUvzVcJcn2NfcwRc0S2l0GVWLSdpmVVe4HZ3mwdvbUetkLqUFzxfVfmqyFdF0PBqQXt4Fvp6zmN+4QQ1Bmxi+Mt/qjvfaJ0u86cfnT756PTs80tC8Nv/eOvwnd3+QcfxWJGUNr2MMUIYryl4r+p5/UJhAJQxUmuHkH4Q2G16VVVHq9WNRqMQwjLIzpLkyXI5L8vYcWCdVTbrLlN2ynuUhowhhKZlOS6KrTC0KtnLqpqV5f3p9MPJ5Faz+Xanc6/V6vn+xmd+VTDXF84XRqHNMzsfrPOBEMZICpUuinSRZ6t8795g51Z/cNjt7DQRQmXGi6xKV4WsZF3+YK6u9cXY99US8Hys/Ppi8KUpD4AwVlKXSXnxdHL6+UW+KoOG3+hEhGIldZGW0/PF9HyutYkaftgMvNBFr39o9fV3mAHAzvmGv39vUGbV5HS+GK2efHTKS6GUZg6ljCAEWpsq5/PL5dnDy8V4RRkJG37YCByP1a9FrQxsnU8A/ZX+qn1tw2bQ220NH48W49XkdOaFblWKqBXYN6Yq+dnDy9PPL3jB24NmZ7vZ6sfZMl9N0yrniKCoHUTt0O40X7rCukYQXSPQvOgIAGSeba9XU+pLh2tAFDOXtPrx4LA3u1ytpvPh41EQeTu3eNgMlNJaa630+ePR+aP/0959fcdx3PkCr9i5e3ryIBMgGBVoWVpL8tljPez6aXf/1vuwD+v1vefcs177ri3JSqRkUaJIggRI5MmpQ9V9KGAIkcMAigGCvx+fI5PATHdzptO3q+pXW2maVeeLcTX0IlcIrh4/hgFOKFOaWOtMKV/KehBUXNcTYm84vNlq1TzPjGpe73a/b7U2+/1JF83JF212PYvzUIiq65ZdV2l9u90uOU7D9x0hKKX3e73r+/tf7uy0xuO65y3Hsenfhd52L8bh4+SDgcaPfKzmqzoseEmOnDeoynWe5WYshpBcWsLURDSjQppb7WFvZC5gR0tXH1nI4d+nfpfPXenJ9Bh+dEXw0xz9KDljvpQzvr/Z73/fbG71+zdarXGelx1nfzTa7PXudjo7g4EThpL/aFps02NOMlZ2nNU47ifJere71e/f6XTmwtA8gNvq97/e3V3v9SzOPSlT01z4c6/lctLQp5TY+XGpLkIIIVqrXJm5mrhg0hKWIxmneZr3W4P9zXa32R8Pxo5vm6SqlekUTR8cjgdLM5UNHi0HSig1T+If/pVJv+Nh1t3vr/3t3s2rd3c2mpXZOK6EXuSkSd7a6eZmHpNce5HrhY7j2dIWP757h2MzuTfTWjBW9Lyq59U8L1XqZqu1EIYV1+WM9bPsZru91m53ksSV0oyxOlq7ghJiZoarel7U7e6PRrc7nbrvO5xLxvZHo9vt9td7e59sbmqt54Mg15pPCnzCi0IpeWxJkUnFrR9dNrXWeabyTOW5YpxKR3LBKaHZOBt0h+3dbmevl6a51gedYw/eeuSLO9gBnnAxf2IRI0oJZWTUG22v7UlbxrUoGaV5lqejrNcabN3Za251LEfG1dCPPduVp+DG8JQEZkK041n1xbKZkHnvXmvjxvb+VufW1xt+6Di+rbTOkqzb7Pdag357KKRYuDizemVh/lxdK9Xe62lFuOCcM0YZIXT6Q5fJyrQmhIQlf2altrO+3+8Mt+7uN3c6xVrBL7jSluk47bUGnd1ea6dTnonPXJ6rn6nYnpUkabc1yPPcc12/4HmBY25qH7pumN2acWY26OAS9tDGUMoY45IxdnCcTWkLOthcYloQVK7jarj0xmyn2UuGyf1bu63dXnWuGMQeFzwZpb32YP9+e/d+q3GmcuaNudnVml/wGGMqU1OnXoSTyaRWyZjphGlLWQ6CN6rV/dFoo9v9bGurl6YV17U43xsO1zqd/dHIXAJNC/NkUJMZ0Fiw7aUo+mWt9kOrdXV3t50kO4OBLQSn9Jvd3ZutliJkJgiWomjG9zmlaZ7jLuiFOGxAMqcCc6RPfvEAZYwLlucHs8OYC6QXOaVGFFWCbmtw//ZOnqnWTldIPhqM9+63ttZ2+52htIRWJBmlZjWcMzNK5SChU8ofrPfBuAzzeNtUcKAPqqY+HT0oDcKYYM8fueFRlFJK+WFXasFYaFkrcdxNklvt9v5o9L9v354JgrkgaI3HO/3+3W4309qMWjSjkjilgjF+WOmg4nkfzswM0vRut/tdq9VOkuVCoey6/STZ7Pev7e5Kxt6qVhfC0JdSMIbc88JoQgiZzPF25Jh/gFLCOBXCHK0HXUuEJfzYqy6U+p3BvR+27/2wfe3/fe8GjpC8tdPd32ztb7aV0pRRRmme5blgjFIumMrZQQ0wShhjjFMmGGXmBw/WSDllnBGq2Y8LhlFKTBWiYW+0v9naurO3d7+VjNL2fv/7L9fu3doWliREK6WTYaryfOnS3OLFmcZy1fZtlSuCctnPi5lDnlKlNefct+0zxeI/zs9/t7//favFGbvX63lS5oTc7XTWe70kzwWlk6xryhyY8Gwq518ul0dZtt7tfnz/fjdJ6p5nc749GNxotdrjcSTlfBiuFouhZSVHpqODn+RwspuDgkHc5I8fv8KUExKMm3O06UyUa2nJuBYW61GxVui1hzc+Xxt0Rnv328ko6bcG23f39u63VKYopWZ2DDKpcHQ4cyShBxW/GDs8CeiD56aUEcYZFwfTBD34ldkmTfIst1yrvlRp7/bu3drptwdX//RddbZYasTjwbjfGWze3hsPk8aZyuLFWT9yKWOnoOrJqQnMRFgiLPn1MxWltO3IPMuTcbp3v9VvW7Yjc6WyNB/1E5Up27PKjXjx0uzChZm4Eg57o06z70VOZbYYlQMnsE2l2ScVxtBEE+J4NqvRudV6Mkq31/cHnWFzq91vD4Ql0iQbdkdaE7/gNc5UV68sFmsRoUQrTSnxQjcqBa5vC8mzND+6HvPolzIqJQ+LfqlR8AuetAX98cNYxpi0hF9wy404iD1pH8yq+tjdUR/Mz+xFbn2x0r7YyzO1d6816A53Nkhnvy8kT8dZvzNUuSpUwtmztZW3F8qzRWkLleuH56OCk0ofjkIs2PZcEJRd15PSFsIVYrVY7I7HSuvNfv9+v98aj23OtdaOEDXXTQuFsuMISimlthBl1+0mielf7Uk54/tXajVKaS9NO+Px962WoJRRuj0Y5FrPheH5YnEhigq2TSnN0B/7RdCaqFxzzhzfjspBeSb2IldITslB3UGtdZ7nXLAg9pJxmiWZE9iUmXIM2natuBrNLFezJFNKt3e7popBnuXpOHUDh2hi25YX2DrXXDLbkWHJZ5zaruSCEUIdzy5UQ9u1vNAVFjelFrTSXHDHswvlQFrCCxxhcULMjPRP+tIppVxwx7fjauiGju1IUyXo534FPRG0Nre8Vc+jhHhCuELUPW8lji/3ene73b3hMMnzfpqacl+hba8UCjNBULRtSSknxLzXEyK0rEypUMpzxeK9fn9rMOgkyc5gQAjZHQwGadpPU8nYjO+vxvFcELhCsMNquq/7UzgNtNaUEi9y42rkRa4XuVwyM18uPeiNSRhnQcErzcRBwZW2oJQSTbhgfuQ2zlRG/fGgM8wzdf/mjuPbtivHozTLVFDymWBBwXMC27Q5uYETlYJ0nJreklIKN7TDoq8y5Xg24wfrJYRyyb3INZNfmhc/etzmSZ6OM6K1qd1tOXI8SNLR5Gqgx4M0z/K4WjC3YebpLHaa4znsR2iGXdQ8z1TAdoXgjM34/nuNhtK6PR53kuT7ZtOTUnJuCvjNh+FsEJgnXIzS0LLmwrDsug7nDuehZa3Gca5Umudbg8H9fr8zHgvGeknSGo9DKVcKhbNx3PB9i7H02WdVhScyPVulxb3ILTXiqBSY+XEnH7DKtdbadq2oFBBCwqIvLaE1yTPFBfMLbm2hfObNufEgGXRH+5utdJyaniaUsSD2CCGFSsAFN1WsvdAp1SMvcoQUXHBpqaDgFaqhmSeZUJorrZWmlEpbBgW31IiDom+51sEmHd1sRYTkUTmoL5WXLs/ub7a7+/3mdicZpek4TcYpZSSuhXPn6rMrVde3T0cnpFMSmCdD4cOib10UpXq0eGm2ud1pbXWSUZImGSGECe76th95cTUsVIKoEgaxZ+qhO57dOFMZD5P6YqVUL0iLZ0n+lNIUmlBGpSMXL87GlWh7Y7+53Rl2h8k400p51CnVC2ExKNaj6lyxOleSthj1xkKKuBpFpSCIfcuWeaYeGiGgtc5zxThzA2dute74dn2x4oUuZfTwxYQQLSzuBnZjqZKOs8ZSxY9cYfEn37DqXOcq45z7BffsWwulRmFno9na7gy7o3ScaqUdz4prYVQOSo1CZbZYmStKW6rsQUdvOOG01plSpv7HmTD8YGamEQTzQWBTmqXpvO9bjUbVde90u9uDwTjLJGNl150Lw+ZotN7tni+VLCG01pFlXSyXy647HwS+lJLS2LbfLJdLjrNcKGwNBjuDQa611vpcsRg7znKhsBCGVc9jlD5+HAMcj1YqSzPLkcVatHhx1o+82kLZ8ixCD04FKtfpOJOOnFmuhkU/y/JSIzYV71WmhORhKTj3yzPFemF/szXsjYjSjNGgHPgFz4+97n6/tdmuzBe55LZrSVvOr9ZH/XFUDqQjCaFxNTxzeU5aolQvuL6dJZkmWmXKcq24Vli4MDseJeXZ2PEsTXSeP+XmlzJquVZci868MWc5Miz5lnVKrj4nQWzbZ6LIk5IQUrBtRqkrxFIU2UtLd7rdW61WN0lGeV5x3YrnmUodjJCS69qESEKWwpBqPcrzpSgyBZw8KX9RrVZc906ns9HrDdJ0nOeelFXPq/v+fBAsRVHRcSaldF/3B3A6aJUrymhtoWTukov1gu1ZkyJNhGjGmLRFfamcjjNzb8A5M1Mlm3sG27XCot/d75up1ykl5Zk4rkXjwXg8SEb9se1ZjFHGaHk2tj0rT/NiLaKcOr5dbsRc8LgWxbWCkHzyiN/x7dpC2Y88onWxFrEjw481IWbtXPIg9ubPN/yCzyXjnHP+oGecJiRNUpWr+lI5KHpCco25FJ6LqagpOa+47puVyijL6r5ftKwsTSMh3iiXfSGWouh+r7c7HHJKfSkXokgyttHrhVJWPM/mXDI2FwTvz8yciaKS67pSSsYWwjCQsuJ593q9ncGglySZUhXPOxPH82G4HEU1z7M4J4RkxytcAdOZPtWmCa2+WB7/8kxci8Kib55ra6WIJlmaq1zHlXB+tT7sx37suYFLCc2znBAiLTG3WrdcubvR3N9sE63TceqFbqnhhqVAa93cagvJg9izXGk5ojxbPHtlsTpfcnxLWIIL1jhTdQMnKvtRJaCMZEmmNWGCeZFbP1PJsry+WAlLAZc8M5t0ZOMJIYyx6lzJ+sjaXW9ur++PB0kyShzPDot+oRoW61FlthiWAmGJJ1fm/7k4XbcslEhbWLZ0AqdQi+Jq2KpFo/54PEwIpUJwv+CGsR+WfDd0pC0456Y51/Xs+kLZdmQQ+0HsCSmy9ClTLxDTc5WzqBS4geOGTrEe9VuD0SDJc8U5sxwZloK4GvqR64VOnuXpOPMLbo2UKaOOZwtL5Fn+0Fq00oooxpnj2zPL1UIlLJQDN3TMFIiTW1IhuBs4tYWS5chCNfRCR8infJUHw7QZFVIUqqEbOn7B6zYKveZgNEhUngvJbdeKKkGxXnADx/Hso8Oi4eRThORaU0JcIebDkFMa2nbsODZjaZZ5QswEgSVEyXXv9XqDNOWUVlx3PooGaboQhjXqDdHIAAAekElEQVTPszknhHDGzsXxrO83fN+TkjMmKLVc1xai6Dj3+/17vV6a51rriudVXbcRBCXHmTQ0YXd5IZTSeZpLSxSqIWW0WC+UZ2LbtSgjytxrKpUlmbREbaFcqEZaqagcMMYIIUopSontyupcyQucIPYG7UGaZNKWfsENS35UDgadUbEWOZ7l+La0JaWkcaaaJVlYCixbEkqiSrBwfoYLZs4GWZqZrTKjkpigeZpH5cDxbKKJyp9UF1BrTSm1bFmohAsXZrjgQcEVliDIWj+ZJoRSGtu2jqKS6xITmAkxgylcIQLLiiyrORp1kqTqunXfNz37zGxwkjGm9VwQ+FJmShUdhx/22Kx6XmhZpvG5ORoN0tRiLLLtuTCsuG5kWZIx8vOv43JyaE3yXFFGK7NFx7O55G7gWI48KJZjWgUYFZaozpcsxypUQi9wOGfmRtZEVsaY7Vrt3W57t8sYFZaozBVLjVjlKkuzfnuotbYcKaQoNQpB7KlM+QWXMer4VrFecEInHaWFSsAlP+jXRontWuXZOCoFpnTLj1qYNTF3JtIShUq4eHG2tjDmnFP2cKTKs1xrHVejqOQLiyulT8c99KtkKnVpQiRjJce5WCplSgWWFdt2mmWCsdi2zxQKBduuuu5Wv08I8aRcjCJPiNkg4JSWHMcRQjLW8P136/WibZccx+GcUhpIaTqUVV33fq/XHo9TpTwpy67b8P0Z35eMMUIwh9wLo4lSijLqBnZ1viRt4fpOEPvCEiozbcymEImOygGhNE0yy7Uc36aUqFxTSiijYcm3XemFTljy01FqupEGsRfXIsZoXA1Vrixb2p5lObJULzBGo1JgupAoKWqL5agc2J7lR67pvE0IYYx5oVObL9muFcR+EPtccjMf+0P/AkqpGzq2bzmu5UXuoDMc9EZCMPOwL6oEru9IS5yaHeZ0BeaDZ5maC+5wZs2KYjVSSiulTUuyGQrIBaOMmZs8QgjjzPbtil0qNgoHYwU5y9L8WbvbUyIsXqiGYcnPTa1prc2whIPZmznLM6U14ZKb5mVCKWOUC5alD0/Ao7XWSjNObd+qL5VVrrlgjHPKqDp8ImsW5XBuWp+44Eywg8mfnvoJKU2oppSag6dQDlWeH9TApoQdbDNn/Ef5HH4WtNa51pRSR4jZIKh6Hj8c5jQ+fDRYsG1fyvkgMDuTYMziXDvOrO8Lxkx7kc35SqGgtDY/mZTOdoWwOC/a9rk41odvF4zJydhZdLB9cZRSWmlhi6gU+AVP5UpIzgWjlKrDdnyd5NISlfmiqY/M+cFIpEnbje1KYYVB0TNjTMxc65wzLri0ZFj0DyYRYJQQYjlSa8IFo5wRQkLB3dClhDBOGefmUkoIsWwhSr5fcInWTHDOGSFEP+10QRmVtojKvh85lFIuGWXsZX5+f18iy/KkNN+7KV4w+XPN82LbzrXOlTo4Wg+fbZkBz5qQhu9XPU8TIiiVnCutlVKEEJvz+SCoe565f2OUckol5+a0YIpfvtZ/92lj+kOWGoVCNaJmULFgptO1PhjNyKSk5ZlisVYwdxeUMXOHQzShlLqBbbmyNFM4GLVIqZBcSG6KgwZFn2hiWo9jKzIVdBmnlDHLtYUlIxUorc0IavM0hFJqu1a5HpvQzvjDBa51rgghliNN+5hSemp5AnPJmNwUafTqfS6TC3fsOIFl6cPBzLnWeZ4TQhzOa55XtO2LpRIhhFFqShWUXddMOGeO/7rvFx2Hm0v85NthzNwhzPq+6URmFm6erJHDuA4vhOkmRil1fMdyZFwLGWNC/uhuP88U0SQo+l7oKq0pY0Iwyqg2Vfs04YI7vlNfFJXZWClCtKbmEi85JcTxbaJNdS5KGY1rUVjyOedMMEqIJroyV1RKmy4nZs45QgjnzPUd25HFWoGZ2hic5emUZ+Lm/MA4i8qBF3kqV+ZhPWVUCM4Fp+xUPVE9XYH5kLnSmGZeQh5UyplMm3IwqubwizxI0VQeTpRyvHYySqm0xEFlyyM1Rw+W9mBS24OXTbZh+lr0wbTgXJhHvEdmfziyRiYoF8zc4x79tzyVPigrQpklpP2Ybf75j87/+2S+NE4pF8I5/InW2sywSgiRlFpCUCEmr9dHakxM9iIpJXmkudhcO23OH7z+yLuwv7xgmmiiKaXCEoIejGA0H/bkazEZ2HLkg7fowx6QhBATU7mwbHPaObztNmcAzsiDhqKDe1lCj5xJGDeNwEdPYmaZggtxWBr58Fz69H8QZVRwboZgoZXixRKMicMyakcPW0apRemUY/awxK55rc0PatvrydtNjztKbSGcH5eh0Y+cGeBFMZ+rtKU8PDYf/qQpMc+7J2MCHzrkmTD3ytbRaroPzs7Wg58c2SmI1ppxyvmP7k8mv2WMclscffGPt5mQB6caSR5bmeDB+Qcd156b+dgopZJS00H68P7w8G72MZdp031s8jqLMfvw7Q/O7eaRmRCeOPJ1H7nE40t7sQ7uxgU7uJkn5KGj46BlQnIihTllH/0dMWFHMC4tevQSTw6+Ki65+bP5IedU2mJyYqGEcpsfLPbwwDTL5geb9OAk84QjllIqpBDWkTRxuMecsuP8dAZmMvm+nu1O3lw/fsoXe7iEpyzjGEFUP+Wm5NnvUx/zdvLgKIHT5dE8cvTa+ehu9ege8Lhdb7JPPmayM3jxnnR2MoMbn9iz8ciV7pGXPboj/PgnT9gNyHOdfPSpu4KeEI97BHH0kdZDlZoe+vPU7+XoYnHIvzJPvU940u3rwZ3DY3595McPL+KJtwPPctg+raUB+86L9NRj9skH7OO+Kn3kdPGEt8OLZBqqHv9ZT27XH/vuoyn5R7976G/TLvHTFnu8S7w+8r9T7dQGZgB4eU75eRHg1PmJxywOeYCfERzvAC8WRpEBAAAAAAAATIHADAAAAAAAADAFAjMAAAAAAADAFAjMAAAAAAAAAFMgMAMAAAAAAABMgcAMAAAAAAAAMAUCMwAAAAAAAMAUCMwAAAAAAAAAU7zEwKwJ0ZpoQjTRmAMdAAAAAAAAfl5edguzJlpprQlBZIbHws4BAAAAAAAn0MtsYdZKaXXQxgzwRPqwSwIAAAAAAMAJIV7akrXWWqlcE01f2jrgFNCEarO7IC4DAAAAAMBJ8rICM6U0cuKZaBEtzPA4Wpv/UN8KAzuyuMUoqtABAAAAAMBJ8dICM2EVf4YSqk3b4YPMjPZmmDjYNyzhlNyqIz1G+eveJAAAAAAAgAMvrUs2JaEdCyYOo7Lpbou0DEeYJmaiOROeDCSzGX2Jewij1GJMSElt29I6RBdwOCbBmLBtZtkWF5JwJph0pBe6eZrnOfamE4ASSojWOlda2oJSanMRSsu1pC0FOjvBc2CEMkptIRil0hKOb7uB43q2MkVa4HVzQ0fa0vYsLoXgjDPGLEs4jqe1leeve+vgZ8a2LE2pJYXNuBA8t4Tj217oqlylSfa6tw4IIYQyKiR3fEsITiklmrya2/mX18JMfTv0reAlLR9OG0rpS36ewimVnEvLoo7jaG0TFBmDYxKCOg6zbUsIS3NhMduzg4Kfpxkev5wElBJCiVZE5dpyLcqII3hs245t2VIQgkMejo8yQqkjJaPUcqQbun7B9TxHKaWUet0bB8QveJYjbN8WtpCcS8apZQvHCbUmGRIOHAelxLbHhNrScoUQIqO28EI3iD2tdZqkr3v7gBBCGGPC4m7gcItTSl/ZVf3lFf0ilFDyMhsMAZ6R1jpP09ZgsNds9nu9TpZJrfMked3bBT8zlDEu5Wa7+8X+zm0y2Gfsh09u/cGyVaaG/fHr3joglBBCTcFJsnZ1PR/l3+zs/i95wxJCcNRHgOdDKaWfbW72k3Tt+n3xf665nm3bUikUqjwRHM8Skn//5e29mzvDVo8P+P+99cMP7b08STSeaMAxMSlzQr/e2Phbc397nKrv1V9/f3Xj6sawP8oydFg4ESilXLDtO3t7G81hf6hyMh4nr+Bs/BIDM8BJoTVRqpskt3q99fH4dqejtU5wKYVjYpRKxvrjZKPbadKsn5M7n68n2wOtSJbiUnpyaK1J536bafpdu9NPb3PGzHAP5Bs4LkoIJfRWp51SunFztz9KheCcM6KxO50IQnDGaXOn093rDftpktL87p1gezNVKscTDTgmyRglZLPT2x4Nm2NF8uzL7Nsbvp2lucIQjJOBEkIZ7XeH7Z1+niqVa5WrV3A6RmCG0y8Mw4uXL0vOZ2Zm9HjsSakJUbiUwjFRQhilaZ5fHCcjohJBbM/2A0drjdGMJ4f5JtJ+knRHvpC+EJRSiu5O8BOsjMe/HI/d0LEDmzFKGUVcPiEoo5TS8TBJhylLlKVIYFuSc4UOAHB85tHqapIMsmzENLG4H7pScqU0RvScIJTmaT785ThPc0ro+x984Lruy14nAjOcfn4QnF1djeN4YWVljJ7YAH8HGKWc0lxrPBoDOPXowYgMejAoAwc9wKnGGBNCcM455/V63XGcl71GivMKnHp5no9Ho9FoNByNcpTNBPg7YNqUNXlF9TMB4DWiD/4Pt7UApx+llDFmuo95nheGIWMvt1IJziwAAAAAAAAAU6BwKAAAAAAAAMAUCMwAAAAAAAAAUyAwAwAAAAAAAEyBwAwAAAAAAAAwBQIzAAAAAAAAwBQIzAAAAAAAAABTIDADAAAAAAAATIHADAAAAAAAADAFAjMAAAAAAADAFAjMAAAAAAAAAFMgMAMAAAAAAABMgcAMAAAAAAAAMAUCMwAAAAAAAMAUCMwAAAAAAAAAUyAwAwAAAAAAAEyBwAwAAAAAAAAwBQIzAAAAAAAAwBQIzAAAAAAAAABTIDADAAAAAAAATIHADAAAAAAAADAFAjMAAAAAAADAFAjMAAAAAAAAAFMgMAMAAAAAAABMgcAMAAAAAAAAMAUCMwAAAAAAAMAUCMwAAAAAAAAAUyAwAwAAAAAAAEyBwAwAAAAAAAAwBQIzAAAAAAAAwBQIzAAAAAAAAABTIDADAAAAAAAATIHADAAAAAAAADAFAjMAAAAAAADAFAjMAAAAAAAAAFMgMAMAAAAAAABMgcAMAAAAAAAAMAUCMwAAAAAAAMAUCMwAAAAAAAAAUyAwAwAAAAAAAEyBwAwAAAAAAAAwhXjdGwAAAAAAAAB/17TW6hCllDHGGKOUEkLMf18XBGYAAAAAAAB4nfb392/fvn337t319fVyubywsFCtVsvlsu/7ruu+xg17pYFZa51l2Xg8TtM0yzKt9atcOwAAAAAAAJxAa2trn3zyyZdffnnt2rWlpaW33357ZWVlaWmpVCrFcWzbtmVZUkrO+SvesFcXmJVSWZbdu3fv2rVra2trGxsbaZq+srUDAAAAAADAybS/v7+2tra1tbW7u9tsNre2torFYrFYdF03juM333zzwoULS0tLcRy/4g17dYFZa53nea/XW19f/9vf/nbjxo3xePzK1g4AAAAAAAAnU6fT2dzc7HQ6g8Gg2Wzeu3fPtm3XdaMompmZcV23Vqs1Go1Xv2GvLjAzxoQQ1Wr1nXfemZ2dfffdd/M8f2VrBwAAAAAAgJPp7t27X3zxxXfffXfz5s00TZVSjDHf98+dO/fOO+9cuXJlcXHR9/1Xv2GvdAwz5zyKopWVldnZ2fF4rJR6lWsHAAAAAACAE+i7777rdrv7+/sbGxuFQqFSqZTL5Wq1+qtf/erdd99dWlqqVquO47z6DXt1gdlUA7csq1AoBEGAtAwAAAAAAACEkGazGUWR7/u+77/99tsfffTRwsLC7OzszMxMtVr1PM+27Vdf8Yu84hZmSinn/LX8OwEAAF4ZrfVkJghK6eudQBIAAODkq1arq6uraZqWSqUrV6785je/aTQalUrF1Md+jRtGMbcTAADAi2UmhjB/xpNiAACAp+p0Ovfv3+92u8PhsFqtzs7OmnmkGGOv97kzAjMAAMDzMLM/9Pv9LMtc17VtmzFGCFFKbW9vr62tmcy8uLi4uLj4ujcWAADgREvTdDgc5nmutXYcx/O8171FB15pl2wAAIBTQyk1Ho+3t7cHg0G9Xo/j2PQZy7JsbW3t97//fb/fp5T+9re/RWAGAAB4MiFEEASmNfdEDWVCYAYAADg2pdTu7u7GxsbHH3/carV+85vfXLp0iXPOGFNK9fv97e3tTqfDGOv1eq97YwEAAE66E1vyA4EZAADg2LTWW1tbX3zxxb//+79vb283Go3FxUXXdSmlWuskSXq9Xq/X45wnSfK6NxYAAACeEwIzAADAsWmte73e3t5eu90eDodKKTOAmTEmpVxZWfmXf/mX8XhMKb148eKzLI2csB5oAAAAQBCYAQAAjktrbfpdN5vNwWCQpqlJvOa/QoiVlZX5+Xnz4slkGA/NNTX5iVJKa00pNYVATfA++tvJeievmbpJk7c8NKPVie3kBgAAcPIhMAMAABxPp9PZ29tbX1+/f//+YDAYjUa3bt36+uuv6/V6pVKJ43g8Hu/v7+d5TiktlUrlcjnP8yRJms3mcDiUUtq2bdv2YDDY2tpqt9v9ft/zvEKhUKvVarWamYZqb29vf3/fZHJCiOu6xWKxVCqVSiUhxNEMrLUejUaDwWB/f7/VanW73SzLOOdBEBSLxTiO4zgWQkyiOAAAADwjBGYAAIDjabVaa2tra2trGxsb/X5/PB7/8MMPhUJhcXFxeXnZtu1Op3Pz5s0kSSil586dK5fLWZYNBoM7d+5sb2+7ruv7fhiGrVbr22+/3draarVaURRVq9WLFy9yzh3HIYSsra3dunVrY2Oj1WoppaIompubW1lZkVIGQSClNJk5z/M0Tff29ra2ttbW1u7du7e3t5ckiRCiVCo1Go2lpaUzZ84EQeD7PpqaAQAAjgWBGQAA4Hju3bv317/+9dq1az/88EOn08nz/OrVq/1+f3l5eTQalcvlW7du/e53v+t2u5TSf/u3f1tdXR2Px3t7e3/5y1+++OILIYTnecVisd/v3759u9vtpmlqZp586623rly5Ui6XLcv65JNPrl+/PhqNhsPhcDgkhDiO88477/z2t79dXV2dn583DdHdbnd7e/vPf/7z559/fufOnVarxTk3tcdMZ+zz58+/8847b7/99ptvvimEMO8CAACAZ4HADAAAcDxJkvT7fdMZO8/zPM+Hw2Gn0+n1eoPBIEmS7e3tzz//vNlsUkrfffddQkiWZb1e78aNG3/5y1+yLHMcp9FoWJY1Go1Mst3f319fXzfpt16vB0Hw7bffbm5umkkp+/3+3t7e9vZ2t9stFouWZdXrddNcvLm5+fXXX//xj3/85JNPBoMB57xWqzmOk+d5s9nc3Nzc29vb29sjhNRqtTiOwzB8zR8fAADAzwcCMwAAwPGcP3/edV3P84QQX331VZIk//RP//T+++/Pz8/PzMyUSiUppWVZtm0zxoQQhBDGGOfcsizGWKfTGY1G9Xr9/Pnz7733XhzHhJBPP/30v/7rv3Z3dz/++OMwDEul0vnz5z/88MOVlRXHce7du/fZZ5/9/ve/39/f/5//+Z9SqXT58mVCCKX0q6+++t3vfvftt9/mef7hhx+++eabZ8+eDcMwTdObN29+/vnnt27d+vjjj00/8CtXrly4cOE1f3wAAAA/HwjMAAAAx1Or1QqFwtbW1sbGxu3btweDweXLl3/961/X63XTtMs5F0KY/s+m1Nak/LXWOs9z27YXFxffeeedjz76qFKpaK1t226323/605+uXr1aq9V8319ZWfnoo4/Onj3red7W1pYQ4tq1a/fv3//+++/X19dHoxGlNE3T69evf/bZZ5TS+fn5999//9e//vXy8nIQBFmWrayslMvl//zP//zyyy+/++67QqFQrVbPnTuHutkAAADPCIEZAADgeEy7sW3bruuaVGyKeDmOI4SYzOr0EK11mqZZlvm+v7y8/M///M8ffPCBaY4mhNTr9bfeeuvGjRuMsZWVlQ8++ODdd989f/687/uc83q9vri4uLCw0Ol09vf3TR3sZrPZarU2NjaazeZ7771n3rK8vOx5HqVUCDE3NxcEwd7e3ldffdXv9//617++++67WZY9VGQbAAAAHgeBGQAA4HhMCy3n3JTXIoSYJuVJe/JUpm1Za+26brVaPXv27Pz8/CS7uq5bLpdd16WUlsvl5eXl2dnZYrFo3msmnSoWi67rmlHTSql2u3337t3d3d3hcMg5l1J2Op319XUzKHqy0iRJpJT7+/u7u7tbW1vdbtf3fVOIGwAAAJ4MgRkAAOB5KKWUUqY92YTYx7UtH30LIcRxHN/3Lcs62tKrtTZLo5S6rhtFkWl5nmCMmdmbpZSMMUqpCcymtXlra+ubb77Z29szNb1MpDcR/Ztvvul0Ou12ezAYbG9v7+zsMMYQmAEAAJ4FAjMAAMBzMglZH/Es7xJCSCknrdOTRU0it+ny/VBj9aRNmzFmfjUajZrN5mg0StO02WzeuXNnZ2fHsqyjLcxKqWazKaUsl8uVSsX3/TRNTW4HAACAp0JgBgAAeEVMlD3al/vorybt1Y8rykUPmb+a2a3G43GWZe1227xgEton8zBblhVFkenRPTMz8+R+4wAAAHAUAjMAAMBPMgmxz1hJ61mKVD9LY7UZtyyEcF330qVLly5dCoLAtDCTw8DMGDMTXDmO43ne2bNn4zi2LOtZthMAAAAQmAEAAF6AZ687/VBD8aOeUGf76F9NVJZSep733nvv/eu//uvCwkIcx0d7XE/WkmVZnueWZUkpHxodDQAAAI+DwAwAAPA8JuOWKaWmCXcy5fKTw/MzDnV+6tqLxeLKysqnn36apun29vbGxsbMzIzrukeXTym9devW3/72tyzLCCGXLl06e/Ys5pQCAAB4RgjMAAAAz8OMOiaEMMZM12jyDGH4aJ2wn7JqrXWpVGKMFQqFNE3X19e///771dXVubk5U0ObEKKUyvP85s2b//Ef/5FlmZQyCIJz584hMAMAADwjBGYAAIDnMWlJ7vf7V69eLZVKZuZk3/dNUjVVr02oNhE3z/Msy0zv6EcXOCn6dbQA2MTk7WmamiUEQeD7/tLSUqPR2NjY+MMf/uB53mAwmJ2d9TxPKbW9vX379u3//u///vOf/1wulxcWFrIse5YR1AAAAGAgMAMAABwbpVQI4TiOlHI0Gl27dk0Icf78+bNnzy4tLT0UlSfvMrHZhOFH8/AT/jr5oTrCdd0gCJaXl1dWVq5fv/7VV1+FYTgejy9fvlwsFvM8v3HjxqeffvrVV1/duHFDSmnb9tGZnwEAAOCpEJgBAACOjVLaaDQuXLhw7dq1zc3N69ev7+3t3bhx41e/+lWhUDg6qtl01Z4UrHYcx3Ecy7IemtuJMWYmfDKvfDTZTt7ueZ5lWaahmDH29ttvp2n6pz/96Ztvvrlx48b6+vof//hHx3HyPG+1WltbW7Zt/8M//MOHH374j//4j6urq6/0YwIAAPiZQ2AGAAA4NkppuVxeXl6en5+/fv361tbW7u5uu92uVCqDwUAIEQSBUsokZ/N6zrnv+4VCIYoiz/M450cXOMnDvu+7rmtZ1kMv4Jy7rhuGYaFQMG83gXllZcVxnOFw2Ov1rl69ev36dTMbs2mjNon6F7/4xfvvv//hhx86jvMqPyUAAICfOwRmAACAY6OUep5XKpXm5+eXlpYopUmSlMvlMAyllL7vNxoN3/cppUEQkMM8XC6X5+fnoygqlUoPze1k3lWv18+cOVOtVoMgeOgFlmWVSqVGo6GUKpfLUkrTHO26bqlUWl5e3tnZGQwGlNJut5skCSHE9/04js+fP3/hwoVGo+E4zkMhHAAAAJ4MgRkAAODYTNNxsVi8cOHCaDRaXFwcj8elUml1dTUMQ6XUG2+8MRwOKaX1ep0QIoTwfd9UqHZdd3Fx0ff9owt0XbdSqVy+fDlN08uXL9dqtYdag4MgWFlZsSxrfn5+ZWXF8zzT2VtKGUXRmTNn0jR1HGdhYaHVao3HY0JIGIblcvnixYuXLl2q1WqYfhkAAOC46AuZDRIAAODvjVIqTdNms9npdEajkVJKShmGYaVSSdO03W6bUtjFYjGO4zzPzYt7vR7n3PO8YrFoemsbSZKMRqNWq9XpdEy3bdMxe/IC89vRaJQkSRRFxWJRCME5N5XA+v1+v9/vdrvD4TBNU1NvTAhhWVYQBGZpruu++k8JAADgZw2BGQAAAAAAAGAK9vSXAAAAAAAAAPz9QWAGAAAAAAAAmAKBGQAAAAAAAGAKBGYAAAAAAACAKRCYAQAAAAAAAKZAYAYAAAAAAACYAoEZAAAAAAAAYAoEZgAAAAAAAIApEJgBAAAAAAAApkBgBgAAAAAAAJgCgRkAAAAAAABgCgRmAAAAAAAAgCkQmAEAAAAAAACmQGAGAAAAAAAAmAKBGQAAAAAAAGAKBGYAAAAAAACAKRCYAQAAAAAAAKb4/4qWbUAlRIzwAAAAAElFTkSuQmCC)"
   ]
  },
  {
   "cell_type": "markdown",
   "metadata": {},
   "source": [
    "使用prefetch"
   ]
  },
  {
   "cell_type": "markdown",
   "metadata": {},
   "source": [
    "![image.png](data:image/png;base64,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)"
   ]
  },
  {
   "cell_type": "code",
   "execution_count": 9,
   "metadata": {},
   "outputs": [],
   "source": [
    "'''在跑的過程中pipeline處理，一部分先放進memory內'''\n",
    "d0=tf.data.Dataset.from_generator(f,args=[1000],output_types=tf.float32)\n",
    "d1=tf.data.Dataset.from_generator(f,args=[1000],output_types=tf.float32).prefetch(10)\n",
    "d2=tf.data.Dataset.from_generator(f,args=[1000],output_types=tf.float32).prefetch(100)\n",
    "d3=tf.data.Dataset.from_generator(f,args=[1000],output_types=tf.float32).prefetch(tf.data.experimental.AUTOTUNE)"
   ]
  },
  {
   "cell_type": "code",
   "execution_count": 10,
   "metadata": {},
   "outputs": [
    {
     "name": "stdout",
     "output_type": "stream",
     "text": [
      "CPU times: user 198 ms, sys: 36.7 ms, total: 234 ms\n",
      "Wall time: 200 ms\n"
     ]
    }
   ],
   "source": [
    "%%time\n",
    "for i in d0:\n",
    "    pass"
   ]
  },
  {
   "cell_type": "code",
   "execution_count": 11,
   "metadata": {},
   "outputs": [
    {
     "name": "stdout",
     "output_type": "stream",
     "text": [
      "CPU times: user 199 ms, sys: 68.1 ms, total: 267 ms\n",
      "Wall time: 177 ms\n"
     ]
    }
   ],
   "source": [
    "%%time\n",
    "'''加完快一點'''\n",
    "for i in d1:\n",
    "    pass"
   ]
  },
  {
   "cell_type": "code",
   "execution_count": 12,
   "metadata": {},
   "outputs": [
    {
     "name": "stdout",
     "output_type": "stream",
     "text": [
      "CPU times: user 211 ms, sys: 52.8 ms, total: 264 ms\n",
      "Wall time: 179 ms\n"
     ]
    }
   ],
   "source": [
    "%%time\n",
    "'''加越多越快'''\n",
    "for i in d2:\n",
    "    pass"
   ]
  },
  {
   "cell_type": "code",
   "execution_count": 13,
   "metadata": {},
   "outputs": [
    {
     "name": "stdout",
     "output_type": "stream",
     "text": [
      "CPU times: user 208 ms, sys: 58.3 ms, total: 266 ms\n",
      "Wall time: 177 ms\n"
     ]
    }
   ],
   "source": [
    "%%time\n",
    "'''Autotune很容易達到很快'''\n",
    "for i in d3:\n",
    "    pass"
   ]
  },
  {
   "cell_type": "code",
   "execution_count": 14,
   "metadata": {},
   "outputs": [],
   "source": [
    "'''含有cache的情況也是可以加速'''\n",
    "d0=tf.data.Dataset.from_generator(f,args=[10],output_types=tf.float32).cache().repeat(100)\n",
    "d1=tf.data.Dataset.from_generator(f,args=[10],output_types=tf.float32).cache().repeat(100).prefetch(10)\n",
    "d2=tf.data.Dataset.from_generator(f,args=[10],output_types=tf.float32).cache().repeat(100).prefetch(100)\n",
    "d3=tf.data.Dataset.from_generator(f,args=[10],output_types=tf.float32).cache().repeat(100).prefetch(tf.data.experimental.AUTOTUNE)"
   ]
  },
  {
   "cell_type": "code",
   "execution_count": 15,
   "metadata": {},
   "outputs": [],
   "source": [
    "for i in d0:\n",
    "    pass\n",
    "for i in d1:\n",
    "    pass\n",
    "for i in d2:\n",
    "    pass\n",
    "for i in d3:\n",
    "    pass"
   ]
  },
  {
   "cell_type": "code",
   "execution_count": 16,
   "metadata": {},
   "outputs": [
    {
     "name": "stdout",
     "output_type": "stream",
     "text": [
      "CPU times: user 88.4 ms, sys: 0 ns, total: 88.4 ms\n",
      "Wall time: 86.2 ms\n"
     ]
    }
   ],
   "source": [
    "%%time\n",
    "for i in d0:\n",
    "    pass"
   ]
  },
  {
   "cell_type": "code",
   "execution_count": 17,
   "metadata": {},
   "outputs": [
    {
     "name": "stdout",
     "output_type": "stream",
     "text": [
      "CPU times: user 97.5 ms, sys: 1.73 ms, total: 99.2 ms\n",
      "Wall time: 90.3 ms\n"
     ]
    }
   ],
   "source": [
    "%%time\n",
    "'''加完快一點'''\n",
    "for i in d1:\n",
    "    pass"
   ]
  },
  {
   "cell_type": "code",
   "execution_count": 18,
   "metadata": {},
   "outputs": [
    {
     "name": "stdout",
     "output_type": "stream",
     "text": [
      "CPU times: user 94 ms, sys: 4.45 ms, total: 98.4 ms\n",
      "Wall time: 89.9 ms\n"
     ]
    }
   ],
   "source": [
    "%%time\n",
    "'''加越多越快'''\n",
    "for i in d2:\n",
    "    pass"
   ]
  },
  {
   "cell_type": "code",
   "execution_count": 19,
   "metadata": {},
   "outputs": [
    {
     "name": "stdout",
     "output_type": "stream",
     "text": [
      "CPU times: user 89.1 ms, sys: 9.27 ms, total: 98.3 ms\n",
      "Wall time: 89.5 ms\n"
     ]
    }
   ],
   "source": [
    "%%time\n",
    "'''Autotune很容易達到很快，而且記憶體也不會讓他爆'''\n",
    "for i in d3:\n",
    "    pass"
   ]
  },
  {
   "cell_type": "markdown",
   "metadata": {},
   "source": [
    "---"
   ]
  },
  {
   "cell_type": "markdown",
   "metadata": {},
   "source": [
    "# Dataset Operations\n",
    "有了基本的Dataset物件，我們可以對它做各種操作，組成我們一次想丟進model裡面的資料組合。\n",
    "\n",
    "以下先介紹其中一部分操作。"
   ]
  },
  {
   "cell_type": "markdown",
   "metadata": {},
   "source": [
    "**內容**:\n",
    "* batch\n",
    "* repeat\n",
    "* shuffle\n",
    "* filter\n",
    "* take/skip\n",
    "* map"
   ]
  },
  {
   "cell_type": "markdown",
   "metadata": {},
   "source": [
    "## Batch\n",
    "批次執行"
   ]
  },
  {
   "cell_type": "code",
   "execution_count": 6,
   "metadata": {},
   "outputs": [],
   "source": [
    "'''直接開超過1就好'''\n",
    "d=tf.data.Dataset.from_generator(f,args=[1000],output_types=tf.float32).batch(2)"
   ]
  },
  {
   "cell_type": "code",
   "execution_count": 7,
   "metadata": {},
   "outputs": [
    {
     "name": "stdout",
     "output_type": "stream",
     "text": [
      "<tf.Tensor: shape=(2,), dtype=float32, numpy=array([0., 1.], dtype=float32)>\n",
      "<tf.Tensor: shape=(2,), dtype=float32, numpy=array([2., 3.], dtype=float32)>\n",
      "<tf.Tensor: shape=(2,), dtype=float32, numpy=array([4., 5.], dtype=float32)>\n",
      "CPU times: user 159 ms, sys: 51.3 ms, total: 210 ms\n",
      "Wall time: 171 ms\n"
     ]
    }
   ],
   "source": [
    "%%time\n",
    "for i,x in enumerate(d):\n",
    "    if i<3:\n",
    "        print(x)"
   ]
  },
  {
   "cell_type": "code",
   "execution_count": 8,
   "metadata": {},
   "outputs": [],
   "source": [
    "'''開越多會更快'''\n",
    "d0=tf.data.Dataset.from_generator(f,args=[1000],output_types=tf.float32).batch(3)\n",
    "d1=tf.data.Dataset.from_generator(f,args=[1000],output_types=tf.float32).batch(10)"
   ]
  },
  {
   "cell_type": "code",
   "execution_count": 9,
   "metadata": {},
   "outputs": [
    {
     "name": "stdout",
     "output_type": "stream",
     "text": [
      "<tf.Tensor: shape=(3,), dtype=float32, numpy=array([0., 1., 2.], dtype=float32)>\n",
      "<tf.Tensor: shape=(3,), dtype=float32, numpy=array([3., 4., 5.], dtype=float32)>\n",
      "<tf.Tensor: shape=(3,), dtype=float32, numpy=array([6., 7., 8.], dtype=float32)>\n",
      "CPU times: user 137 ms, sys: 61.7 ms, total: 198 ms\n",
      "Wall time: 157 ms\n"
     ]
    }
   ],
   "source": [
    "%%time\n",
    "for i,x in enumerate(d0):\n",
    "    if i<3:\n",
    "        print(x)"
   ]
  },
  {
   "cell_type": "code",
   "execution_count": 10,
   "metadata": {},
   "outputs": [
    {
     "name": "stdout",
     "output_type": "stream",
     "text": [
      "<tf.Tensor: shape=(10,), dtype=float32, numpy=array([0., 1., 2., 3., 4., 5., 6., 7., 8., 9.], dtype=float32)>\n",
      "<tf.Tensor: shape=(10,), dtype=float32, numpy=array([10., 11., 12., 13., 14., 15., 16., 17., 18., 19.], dtype=float32)>\n",
      "<tf.Tensor: shape=(10,), dtype=float32, numpy=array([20., 21., 22., 23., 24., 25., 26., 27., 28., 29.], dtype=float32)>\n",
      "CPU times: user 102 ms, sys: 77.1 ms, total: 179 ms\n",
      "Wall time: 136 ms\n"
     ]
    }
   ],
   "source": [
    "%%time\n",
    "for i,x in enumerate(d1):\n",
    "    if i<3:\n",
    "        print(x)"
   ]
  },
  {
   "cell_type": "code",
   "execution_count": 11,
   "metadata": {},
   "outputs": [],
   "source": [
    "'''到某個程度後邊際效應遞減'''\n",
    "d0=tf.data.Dataset.from_generator(f,args=[1000],output_types=tf.float32).batch(10)\n",
    "d1=tf.data.Dataset.from_generator(f,args=[1000],output_types=tf.float32).batch(100)\n",
    "d2=tf.data.Dataset.from_generator(f,args=[1000],output_types=tf.float32).batch(200)"
   ]
  },
  {
   "cell_type": "code",
   "execution_count": 12,
   "metadata": {},
   "outputs": [
    {
     "name": "stdout",
     "output_type": "stream",
     "text": [
      "CPU times: user 141 ms, sys: 33.8 ms, total: 175 ms\n",
      "Wall time: 132 ms\n"
     ]
    }
   ],
   "source": [
    "%%time\n",
    "for i,x in enumerate(d0):\n",
    "    pass"
   ]
  },
  {
   "cell_type": "code",
   "execution_count": 13,
   "metadata": {},
   "outputs": [
    {
     "name": "stdout",
     "output_type": "stream",
     "text": [
      "CPU times: user 115 ms, sys: 49.8 ms, total: 165 ms\n",
      "Wall time: 121 ms\n"
     ]
    }
   ],
   "source": [
    "%%time\n",
    "for i,x in enumerate(d1):\n",
    "    pass"
   ]
  },
  {
   "cell_type": "code",
   "execution_count": 14,
   "metadata": {},
   "outputs": [
    {
     "name": "stdout",
     "output_type": "stream",
     "text": [
      "CPU times: user 94 ms, sys: 71.8 ms, total: 166 ms\n",
      "Wall time: 121 ms\n"
     ]
    }
   ],
   "source": [
    "%%time\n",
    "for i,x in enumerate(d2):\n",
    "    pass"
   ]
  },
  {
   "cell_type": "code",
   "execution_count": 15,
   "metadata": {},
   "outputs": [],
   "source": [
    "d1=tf.data.Dataset.from_generator(f,args=[3],output_types=tf.float32).batch(2)\n",
    "d2=tf.data.Dataset.from_generator(f,args=[3],output_types=tf.float32).batch(2,drop_remainder=True)"
   ]
  },
  {
   "cell_type": "code",
   "execution_count": 16,
   "metadata": {},
   "outputs": [
    {
     "name": "stdout",
     "output_type": "stream",
     "text": [
      "<tf.Tensor: shape=(2,), dtype=float32, numpy=array([0., 1.], dtype=float32)>\n",
      "<tf.Tensor: shape=(1,), dtype=float32, numpy=array([2.], dtype=float32)>\n",
      "CPU times: user 26.6 ms, sys: 38.6 ms, total: 65.2 ms\n",
      "Wall time: 62.1 ms\n"
     ]
    }
   ],
   "source": [
    "%%time\n",
    "'''如果長度不能被batch size除盡，會有殘量'''\n",
    "for i,x in enumerate(d1):\n",
    "    print(x)"
   ]
  },
  {
   "cell_type": "code",
   "execution_count": 17,
   "metadata": {},
   "outputs": [
    {
     "name": "stdout",
     "output_type": "stream",
     "text": [
      "<tf.Tensor: shape=(2,), dtype=float32, numpy=array([0., 1.], dtype=float32)>\n",
      "CPU times: user 17.3 ms, sys: 46.6 ms, total: 63.9 ms\n",
      "Wall time: 61.4 ms\n"
     ]
    }
   ],
   "source": [
    "%%time\n",
    "'''drop_remainder會把殘量丟掉，適合某些長度需要一致的場合'''\n",
    "for i,x in enumerate(d2):\n",
    "    print(x)"
   ]
  },
  {
   "cell_type": "markdown",
   "metadata": {},
   "source": [
    "## Repeat\n",
    "將Dataset重複數次"
   ]
  },
  {
   "cell_type": "code",
   "execution_count": 18,
   "metadata": {},
   "outputs": [],
   "source": [
    "d=tf.data.Dataset.from_generator(f,args=[3],output_types=tf.float32).repeat(2)"
   ]
  },
  {
   "cell_type": "code",
   "execution_count": 19,
   "metadata": {},
   "outputs": [
    {
     "name": "stdout",
     "output_type": "stream",
     "text": [
      "<tf.Tensor: shape=(), dtype=float32, numpy=0.0>\n",
      "<tf.Tensor: shape=(), dtype=float32, numpy=1.0>\n",
      "<tf.Tensor: shape=(), dtype=float32, numpy=2.0>\n",
      "<tf.Tensor: shape=(), dtype=float32, numpy=0.0>\n",
      "<tf.Tensor: shape=(), dtype=float32, numpy=1.0>\n",
      "<tf.Tensor: shape=(), dtype=float32, numpy=2.0>\n",
      "CPU times: user 25.7 ms, sys: 93.6 ms, total: 119 ms\n",
      "Wall time: 116 ms\n"
     ]
    }
   ],
   "source": [
    "%%time\n",
    "'''把指定的loader重複數次'''\n",
    "for i,x in enumerate(d):\n",
    "    print(x)"
   ]
  },
  {
   "cell_type": "code",
   "execution_count": 20,
   "metadata": {},
   "outputs": [],
   "source": [
    "d=tf.data.Dataset.from_generator(f,args=[9],output_types=tf.float32).batch(3).repeat(2)"
   ]
  },
  {
   "cell_type": "code",
   "execution_count": 21,
   "metadata": {},
   "outputs": [
    {
     "name": "stdout",
     "output_type": "stream",
     "text": [
      "<tf.Tensor: shape=(3,), dtype=float32, numpy=array([0., 1., 2.], dtype=float32)>\n",
      "<tf.Tensor: shape=(3,), dtype=float32, numpy=array([3., 4., 5.], dtype=float32)>\n",
      "<tf.Tensor: shape=(3,), dtype=float32, numpy=array([6., 7., 8.], dtype=float32)>\n",
      "<tf.Tensor: shape=(3,), dtype=float32, numpy=array([0., 1., 2.], dtype=float32)>\n",
      "<tf.Tensor: shape=(3,), dtype=float32, numpy=array([3., 4., 5.], dtype=float32)>\n",
      "<tf.Tensor: shape=(3,), dtype=float32, numpy=array([6., 7., 8.], dtype=float32)>\n",
      "CPU times: user 49.3 ms, sys: 60.5 ms, total: 110 ms\n",
      "Wall time: 106 ms\n"
     ]
    }
   ],
   "source": [
    "%%time\n",
    "'''如果前面有batch過就，重複的項目也有batch'''\n",
    "for i,x in enumerate(d):\n",
    "    print(x)"
   ]
  },
  {
   "cell_type": "code",
   "execution_count": 22,
   "metadata": {},
   "outputs": [],
   "source": [
    "d=tf.data.Dataset.from_generator(f,args=[3],output_types=tf.float32).batch(2).repeat(2)"
   ]
  },
  {
   "cell_type": "code",
   "execution_count": 23,
   "metadata": {},
   "outputs": [
    {
     "name": "stdout",
     "output_type": "stream",
     "text": [
      "<tf.Tensor: shape=(2,), dtype=float32, numpy=array([0., 1.], dtype=float32)>\n",
      "<tf.Tensor: shape=(1,), dtype=float32, numpy=array([2.], dtype=float32)>\n",
      "<tf.Tensor: shape=(2,), dtype=float32, numpy=array([0., 1.], dtype=float32)>\n",
      "<tf.Tensor: shape=(1,), dtype=float32, numpy=array([2.], dtype=float32)>\n",
      "CPU times: user 38.1 ms, sys: 81.8 ms, total: 120 ms\n",
      "Wall time: 117 ms\n"
     ]
    }
   ],
   "source": [
    "%%time\n",
    "'''如果前面有batch有殘量，重複的也有殘量'''\n",
    "for i,x in enumerate(d):\n",
    "    print(x)"
   ]
  },
  {
   "cell_type": "code",
   "execution_count": 24,
   "metadata": {},
   "outputs": [],
   "source": [
    "d1=tf.data.Dataset.from_generator(f,args=[3],output_types=tf.float32).repeat(2).cache()\n",
    "d2=tf.data.Dataset.from_generator(f,args=[3],output_types=tf.float32).cache().repeat(2)"
   ]
  },
  {
   "cell_type": "code",
   "execution_count": 25,
   "metadata": {},
   "outputs": [
    {
     "name": "stdout",
     "output_type": "stream",
     "text": [
      "<tf.Tensor: shape=(), dtype=float32, numpy=0.0>\n",
      "<tf.Tensor: shape=(), dtype=float32, numpy=1.0>\n",
      "<tf.Tensor: shape=(), dtype=float32, numpy=2.0>\n",
      "<tf.Tensor: shape=(), dtype=float32, numpy=0.0>\n",
      "<tf.Tensor: shape=(), dtype=float32, numpy=1.0>\n",
      "<tf.Tensor: shape=(), dtype=float32, numpy=2.0>\n",
      "CPU times: user 34.8 ms, sys: 86.2 ms, total: 121 ms\n",
      "Wall time: 119 ms\n"
     ]
    }
   ],
   "source": [
    "%%time\n",
    "'''如果先repeat 再cache,則兩次都是第一次速度'''\n",
    "for i,x in enumerate(d1):\n",
    "    print(x)"
   ]
  },
  {
   "cell_type": "code",
   "execution_count": 26,
   "metadata": {},
   "outputs": [
    {
     "name": "stdout",
     "output_type": "stream",
     "text": [
      "<tf.Tensor: shape=(), dtype=float32, numpy=0.0>\n",
      "<tf.Tensor: shape=(), dtype=float32, numpy=1.0>\n",
      "<tf.Tensor: shape=(), dtype=float32, numpy=2.0>\n",
      "<tf.Tensor: shape=(), dtype=float32, numpy=0.0>\n",
      "<tf.Tensor: shape=(), dtype=float32, numpy=1.0>\n",
      "<tf.Tensor: shape=(), dtype=float32, numpy=2.0>\n",
      "CPU times: user 5.53 ms, sys: 59.9 ms, total: 65.4 ms\n",
      "Wall time: 62.5 ms\n"
     ]
    }
   ],
   "source": [
    "%%time\n",
    "'''如果先cache再repeat,則第二次會被加速'''\n",
    "for i,x in enumerate(d2):\n",
    "    print(x)"
   ]
  },
  {
   "cell_type": "markdown",
   "metadata": {},
   "source": [
    "## Shuffle"
   ]
  },
  {
   "cell_type": "markdown",
   "metadata": {},
   "source": [
    "以特定方式將Dataset抽出順序打亂\n",
    "\n",
    "1. 把前buffer_size個先存起來\n",
    "2. 從buffer_size裡面任抽一個輸出\n",
    "3. 把buffer_size後面一個塞進buffer理\n",
    "4. 重複2~3直到所有數字被抽出\n",
    "\n",
    "[reference](https://zhuanlan.zhihu.com/p/42417456)"
   ]
  },
  {
   "cell_type": "code",
   "execution_count": 29,
   "metadata": {},
   "outputs": [
    {
     "name": "stdout",
     "output_type": "stream",
     "text": [
      "<tf.Tensor: shape=(), dtype=float32, numpy=0.0>\n",
      "<tf.Tensor: shape=(), dtype=float32, numpy=1.0>\n",
      "<tf.Tensor: shape=(), dtype=float32, numpy=2.0>\n",
      "<tf.Tensor: shape=(), dtype=float32, numpy=3.0>\n",
      "<tf.Tensor: shape=(), dtype=float32, numpy=4.0>\n"
     ]
    }
   ],
   "source": [
    "d1=tf.data.Dataset.from_generator(f,args=[5],output_types=tf.float32).shuffle(buffer_size=1)\n",
    "'''如果buffer_size開1，就沒有亂抽到'''\n",
    "for i,x in enumerate(d1):\n",
    "    print(x)"
   ]
  },
  {
   "cell_type": "code",
   "execution_count": 30,
   "metadata": {},
   "outputs": [
    {
     "name": "stdout",
     "output_type": "stream",
     "text": [
      "<tf.Tensor: shape=(), dtype=float32, numpy=0.0>\n",
      "<tf.Tensor: shape=(), dtype=float32, numpy=1.0>\n",
      "<tf.Tensor: shape=(), dtype=float32, numpy=2.0>\n",
      "<tf.Tensor: shape=(), dtype=float32, numpy=3.0>\n",
      "<tf.Tensor: shape=(), dtype=float32, numpy=4.0>\n"
     ]
    }
   ],
   "source": [
    "d2=tf.data.Dataset.from_generator(f,args=[5],output_types=tf.float32).shuffle(buffer_size=2)\n",
    "'''如果buffer_size開2，有亂抽到'''\n",
    "for i,x in enumerate(d2):\n",
    "    print(x)"
   ]
  },
  {
   "cell_type": "code",
   "execution_count": 31,
   "metadata": {},
   "outputs": [],
   "source": [
    "'''可是這個buffer如果小於前面的資料數，那亂的程度就會受到影響'''\n",
    "d=tf.data.Dataset.from_generator(f,args=[10],output_types=tf.float32).cache().shuffle(3).batch(10).repeat(1000)"
   ]
  },
  {
   "cell_type": "code",
   "execution_count": 32,
   "metadata": {},
   "outputs": [],
   "source": [
    "l=[]\n",
    "for i in d:\n",
    "    l.append(i)\n",
    "a=tf.stack(l,axis=-1)"
   ]
  },
  {
   "cell_type": "code",
   "execution_count": 33,
   "metadata": {},
   "outputs": [
    {
     "data": {
      "image/png": "[encoded data removed]",
      "text/plain": [
       "<Figure size 1080x360 with 10 Axes>"
      ]
     },
     "metadata": {
      "needs_background": "light"
     },
     "output_type": "display_data"
    }
   ],
   "source": [
    "'''統計一下會發現，batch第一次抽到的可能性只落在三種選擇內，第二次的是4種，依此類推，越後面的越容易在更後面抽到'''\n",
    "plt.figure(figsize=(15,5))\n",
    "for i,ii in enumerate(a.numpy()):\n",
    "    plt.subplot(2,5,i+1)\n",
    "    plt.hist(ii,alpha=0.5,label=[i])\n",
    "    plt.legend()"
   ]
  },
  {
   "cell_type": "code",
   "execution_count": 34,
   "metadata": {},
   "outputs": [],
   "source": [
    "'''如果buffer數到了一定數量就比較好用一點'''\n",
    "d=tf.data.Dataset.from_generator(f,args=[10],output_types=tf.float32).cache().shuffle(8).batch(10).repeat(1000)"
   ]
  },
  {
   "cell_type": "code",
   "execution_count": 35,
   "metadata": {},
   "outputs": [
    {
     "name": "stdout",
     "output_type": "stream",
     "text": [
      "CPU times: user 182 ms, sys: 69.1 ms, total: 251 ms\n",
      "Wall time: 228 ms\n"
     ]
    }
   ],
   "source": [
    "%%time\n",
    "l=[]\n",
    "for i in d:\n",
    "    l.append(i)\n",
    "a=tf.stack(l,axis=-1)"
   ]
  },
  {
   "cell_type": "code",
   "execution_count": 36,
   "metadata": {},
   "outputs": [
    {
     "data": {
      "image/png": "[encoded data removed]",
      "text/plain": [
       "<Figure size 1080x360 with 10 Axes>"
      ]
     },
     "metadata": {
      "needs_background": "light"
     },
     "output_type": "display_data"
    }
   ],
   "source": [
    "'''雖然前幾次的會不太隨機，但是後面的都很隨機'''\n",
    "plt.figure(figsize=(15,5))\n",
    "for i,ii in enumerate(a.numpy()):\n",
    "    plt.subplot(2,5,i+1)\n",
    "    plt.hist(ii,alpha=0.5,label=[i])\n",
    "    plt.legend()"
   ]
  },
  {
   "cell_type": "code",
   "execution_count": 37,
   "metadata": {},
   "outputs": [],
   "source": [
    "'''如果buffer開到滿就每次都隨機'''\n",
    "d=tf.data.Dataset.from_generator(f,args=[10],output_types=tf.float32).cache().shuffle(10).batch(10).repeat(1000)"
   ]
  },
  {
   "cell_type": "code",
   "execution_count": 38,
   "metadata": {},
   "outputs": [
    {
     "name": "stdout",
     "output_type": "stream",
     "text": [
      "CPU times: user 194 ms, sys: 60.6 ms, total: 254 ms\n",
      "Wall time: 229 ms\n"
     ]
    }
   ],
   "source": [
    "%%time\n",
    "l=[]\n",
    "for i in d:\n",
    "    l.append(i)\n",
    "a=tf.stack(l,axis=-1)"
   ]
  },
  {
   "cell_type": "code",
   "execution_count": 39,
   "metadata": {},
   "outputs": [
    {
     "data": {
      "image/png": "[encoded data removed]",
      "text/plain": [
       "<Figure size 1080x360 with 10 Axes>"
      ]
     },
     "metadata": {
      "needs_background": "light"
     },
     "output_type": "display_data"
    }
   ],
   "source": [
    "plt.figure(figsize=(15,5))\n",
    "for i,ii in enumerate(a.numpy()):\n",
    "    plt.subplot(2,5,i+1)\n",
    "    plt.hist(ii,alpha=0.5,label=[i])\n",
    "    plt.legend()"
   ]
  },
  {
   "cell_type": "code",
   "execution_count": 40,
   "metadata": {},
   "outputs": [],
   "source": [
    "'''如果buffer開到滿就每次都隨機'''\n",
    "d0=tf.data.Dataset.from_generator(f,args=[10000],output_types=tf.float32).cache().shuffle(2).batch(10000).repeat(1000)\n",
    "d1=tf.data.Dataset.from_generator(f,args=[10000],output_types=tf.float32).cache().shuffle(2000).batch(10000).repeat(1000)\n",
    "d2=tf.data.Dataset.from_generator(f,args=[10000],output_types=tf.float32).cache().shuffle(10000).batch(10000).repeat(1000)"
   ]
  },
  {
   "cell_type": "code",
   "execution_count": 41,
   "metadata": {},
   "outputs": [
    {
     "name": "stdout",
     "output_type": "stream",
     "text": [
      "CPU times: user 15.8 s, sys: 176 ms, total: 15.9 s\n",
      "Wall time: 15.5 s\n"
     ]
    }
   ],
   "source": [
    "%%time\n",
    "for i in d0:\n",
    "    pass"
   ]
  },
  {
   "cell_type": "code",
   "execution_count": 42,
   "metadata": {},
   "outputs": [
    {
     "name": "stdout",
     "output_type": "stream",
     "text": [
      "CPU times: user 17 s, sys: 185 ms, total: 17.2 s\n",
      "Wall time: 16.8 s\n"
     ]
    }
   ],
   "source": [
    "%%time\n",
    "for i in d1:\n",
    "    pass"
   ]
  },
  {
   "cell_type": "code",
   "execution_count": 43,
   "metadata": {},
   "outputs": [
    {
     "name": "stdout",
     "output_type": "stream",
     "text": [
      "CPU times: user 17.1 s, sys: 194 ms, total: 17.3 s\n",
      "Wall time: 16.8 s\n"
     ]
    }
   ],
   "source": [
    "%%time\n",
    "for i in d2:\n",
    "    pass"
   ]
  },
  {
   "cell_type": "markdown",
   "metadata": {},
   "source": [
    "**重點是也沒有比只使用0.2倍的buffer_size慢**\n",
    "\n",
    "**所以有想用shuffle記得buffer開滿，除非想依照class sample數量做balancing**"
   ]
  },
  {
   "cell_type": "markdown",
   "metadata": {},
   "source": [
    "## Filter\n",
    "將一部分符合判斷式的資料抽出"
   ]
  },
  {
   "cell_type": "code",
   "execution_count": 44,
   "metadata": {},
   "outputs": [],
   "source": [
    "'''篩選data'''\n",
    "d=tf.data.Dataset.from_generator(f,args=[6],output_types=tf.float32).filter(lambda x:x>=3)"
   ]
  },
  {
   "cell_type": "code",
   "execution_count": 45,
   "metadata": {},
   "outputs": [
    {
     "name": "stdout",
     "output_type": "stream",
     "text": [
      "tf.Tensor(3.0, shape=(), dtype=float32)\n",
      "tf.Tensor(4.0, shape=(), dtype=float32)\n",
      "tf.Tensor(5.0, shape=(), dtype=float32)\n"
     ]
    }
   ],
   "source": [
    "'''依指定判斷式比對'''\n",
    "for i,x in enumerate(d):\n",
    "    print(x)"
   ]
  },
  {
   "cell_type": "code",
   "execution_count": 46,
   "metadata": {},
   "outputs": [],
   "source": [
    "'''篩選data'''\n",
    "d=tf.data.Dataset.from_generator(f,args=[6],output_types=tf.float32).batch(2).filter(lambda x:x>2)"
   ]
  },
  {
   "cell_type": "code",
   "execution_count": 49,
   "metadata": {},
   "outputs": [
    {
     "name": "stdout",
     "output_type": "stream",
     "text": [
      "error\n"
     ]
    }
   ],
   "source": [
    "'''不能夠filter vector'''\n",
    "try:\n",
    "    for i,x in enumerate(d):\n",
    "        print(x)\n",
    "except:\n",
    "    print(\"error\")"
   ]
  },
  {
   "cell_type": "markdown",
   "metadata": {},
   "source": [
    "## Take, Skip"
   ]
  },
  {
   "cell_type": "code",
   "execution_count": 4,
   "metadata": {},
   "outputs": [],
   "source": [
    "d=tf.data.Dataset.from_generator(f,args=[10],output_types=tf.float32)"
   ]
  },
  {
   "cell_type": "code",
   "execution_count": 5,
   "metadata": {},
   "outputs": [
    {
     "name": "stdout",
     "output_type": "stream",
     "text": [
      "<tf.Tensor: shape=(), dtype=float32, numpy=0.0>\n",
      "<tf.Tensor: shape=(), dtype=float32, numpy=1.0>\n",
      "<tf.Tensor: shape=(), dtype=float32, numpy=2.0>\n",
      "CPU times: user 25.9 ms, sys: 25.2 ms, total: 51.1 ms\n",
      "Wall time: 48.7 ms\n"
     ]
    }
   ],
   "source": [
    "%%time\n",
    "'''Take可以擷取dataset一部分'''\n",
    "for i,x in enumerate(d.take(3)):\n",
    "        print(x)"
   ]
  },
  {
   "cell_type": "code",
   "execution_count": 6,
   "metadata": {},
   "outputs": [
    {
     "name": "stdout",
     "output_type": "stream",
     "text": [
      "<tf.Tensor: shape=(), dtype=float32, numpy=0.0>\n",
      "<tf.Tensor: shape=(), dtype=float32, numpy=1.0>\n",
      "<tf.Tensor: shape=(), dtype=float32, numpy=2.0>\n",
      "<tf.Tensor: shape=(), dtype=float32, numpy=3.0>\n",
      "CPU times: user 28.4 ms, sys: 21.8 ms, total: 50.2 ms\n",
      "Wall time: 47.6 ms\n"
     ]
    }
   ],
   "source": [
    "%%time\n",
    "for i,x in enumerate(d.take(4)):\n",
    "        print(x)"
   ]
  },
  {
   "cell_type": "code",
   "execution_count": 7,
   "metadata": {},
   "outputs": [
    {
     "name": "stdout",
     "output_type": "stream",
     "text": [
      "<tf.Tensor: shape=(), dtype=float32, numpy=5.0>\n",
      "<tf.Tensor: shape=(), dtype=float32, numpy=6.0>\n",
      "<tf.Tensor: shape=(), dtype=float32, numpy=7.0>\n",
      "<tf.Tensor: shape=(), dtype=float32, numpy=8.0>\n",
      "<tf.Tensor: shape=(), dtype=float32, numpy=9.0>\n",
      "CPU times: user 23.4 ms, sys: 29.1 ms, total: 52.5 ms\n",
      "Wall time: 49.6 ms\n"
     ]
    }
   ],
   "source": [
    "%%time\n",
    "'''Skip可以跳過dataset一部分'''\n",
    "for i,x in enumerate(d.skip(5)):\n",
    "        print(x)"
   ]
  },
  {
   "cell_type": "code",
   "execution_count": 8,
   "metadata": {},
   "outputs": [
    {
     "name": "stdout",
     "output_type": "stream",
     "text": [
      "<tf.Tensor: shape=(), dtype=float32, numpy=6.0>\n",
      "<tf.Tensor: shape=(), dtype=float32, numpy=7.0>\n",
      "<tf.Tensor: shape=(), dtype=float32, numpy=8.0>\n",
      "<tf.Tensor: shape=(), dtype=float32, numpy=9.0>\n",
      "CPU times: user 23.3 ms, sys: 35.5 ms, total: 58.7 ms\n",
      "Wall time: 55.7 ms\n"
     ]
    }
   ],
   "source": [
    "%%time\n",
    "'''Skip可以跳過dataset一部分'''\n",
    "for i,x in enumerate(d.skip(6)):\n",
    "        print(x)"
   ]
  },
  {
   "cell_type": "markdown",
   "metadata": {},
   "source": [
    "## Map"
   ]
  },
  {
   "cell_type": "code",
   "execution_count": 9,
   "metadata": {},
   "outputs": [],
   "source": [
    "'''套用指定算式做前處理，例如一開始是檔案名稱的dataset，可依序讀檔，前處理'''\n",
    "d=tf.data.Dataset.from_generator(f,args=[6],output_types=tf.float32).map(lambda x:x*2)"
   ]
  },
  {
   "cell_type": "code",
   "execution_count": 10,
   "metadata": {},
   "outputs": [
    {
     "name": "stdout",
     "output_type": "stream",
     "text": [
      "tf.Tensor(0.0, shape=(), dtype=float32)\n",
      "tf.Tensor(2.0, shape=(), dtype=float32)\n",
      "tf.Tensor(4.0, shape=(), dtype=float32)\n",
      "tf.Tensor(6.0, shape=(), dtype=float32)\n",
      "tf.Tensor(8.0, shape=(), dtype=float32)\n",
      "tf.Tensor(10.0, shape=(), dtype=float32)\n"
     ]
    }
   ],
   "source": [
    "'''依指定算式做前處理'''\n",
    "for i,x in enumerate(d):\n",
    "    print(x)"
   ]
  },
  {
   "cell_type": "code",
   "execution_count": 11,
   "metadata": {},
   "outputs": [],
   "source": [
    "d1=tf.data.Dataset.from_generator(f,args=[1000],output_types=tf.float32).map(lambda x:x*2)\n",
    "d2=tf.data.Dataset.from_generator(f,args=[1000],output_types=tf.float32).map(lambda x:x*2,num_parallel_calls=tf.data.experimental.AUTOTUNE)"
   ]
  },
  {
   "cell_type": "code",
   "execution_count": 12,
   "metadata": {},
   "outputs": [
    {
     "name": "stdout",
     "output_type": "stream",
     "text": [
      "CPU times: user 225 ms, sys: 84.8 ms, total: 310 ms\n",
      "Wall time: 250 ms\n"
     ]
    }
   ],
   "source": [
    "%%time\n",
    "for i,x in enumerate(d1):\n",
    "    pass"
   ]
  },
  {
   "cell_type": "code",
   "execution_count": 13,
   "metadata": {},
   "outputs": [
    {
     "name": "stdout",
     "output_type": "stream",
     "text": [
      "CPU times: user 225 ms, sys: 97.2 ms, total: 322 ms\n",
      "Wall time: 204 ms\n"
     ]
    }
   ],
   "source": [
    "%%time\n",
    "'''使用num_parallel_calls做平行化會快一點'''\n",
    "for i,x in enumerate(d2):\n",
    "    pass"
   ]
  },
  {
   "cell_type": "markdown",
   "metadata": {},
   "source": [
    "---"
   ]
  },
  {
   "cell_type": "markdown",
   "metadata": {},
   "source": [
    "# Multi- Dataset Opeerations\n",
    "這邊介紹更多操作，其中有一部分需要用到兩個以上的Dataset"
   ]
  },
  {
   "cell_type": "markdown",
   "metadata": {},
   "source": [
    "**內容**:\n",
    "* zip\n",
    "* concatenate"
   ]
  },
  {
   "cell_type": "markdown",
   "metadata": {},
   "source": [
    "## zip"
   ]
  },
  {
   "cell_type": "code",
   "execution_count": 14,
   "metadata": {},
   "outputs": [],
   "source": [
    "'''把兩個dataset的資料並聯，可用於data跟label相並'''\n",
    "d0=tf.data.Dataset.from_generator(f,args=[3],output_types=tf.float32).shuffle(3)\n",
    "d1=tf.data.Dataset.from_generator(f,args=[4],output_types=tf.float32)\n",
    "d2=tf.data.Dataset.zip((d0,d1))"
   ]
  },
  {
   "cell_type": "code",
   "execution_count": 15,
   "metadata": {},
   "outputs": [
    {
     "name": "stdout",
     "output_type": "stream",
     "text": [
      "(<tf.Tensor: shape=(), dtype=float32, numpy=1.0>, <tf.Tensor: shape=(), dtype=float32, numpy=0.0>)\n",
      "(<tf.Tensor: shape=(), dtype=float32, numpy=2.0>, <tf.Tensor: shape=(), dtype=float32, numpy=1.0>)\n",
      "(<tf.Tensor: shape=(), dtype=float32, numpy=0.0>, <tf.Tensor: shape=(), dtype=float32, numpy=2.0>)\n",
      "CPU times: user 58.9 ms, sys: 79.1 ms, total: 138 ms\n",
      "Wall time: 134 ms\n"
     ]
    }
   ],
   "source": [
    "%%time\n",
    "'''數量對不上時，最後面的會被砍掉'''\n",
    "for i,x in enumerate(d2):\n",
    "    print(x)"
   ]
  },
  {
   "cell_type": "markdown",
   "metadata": {},
   "source": [
    "## Concatenate"
   ]
  },
  {
   "cell_type": "code",
   "execution_count": 16,
   "metadata": {},
   "outputs": [],
   "source": [
    "'''把兩個dataset接起來'''\n",
    "d0=tf.data.Dataset.from_generator(f,args=[3],output_types=tf.float32).shuffle(3)\n",
    "d1=tf.data.Dataset.from_generator(f,args=[4],output_types=tf.float32)\n",
    "d2=tf.data.Dataset.concatenate(d0,d1)"
   ]
  },
  {
   "cell_type": "code",
   "execution_count": 17,
   "metadata": {},
   "outputs": [
    {
     "name": "stdout",
     "output_type": "stream",
     "text": [
      "<tf.Tensor: shape=(), dtype=float32, numpy=2.0>\n",
      "<tf.Tensor: shape=(), dtype=float32, numpy=1.0>\n",
      "<tf.Tensor: shape=(), dtype=float32, numpy=0.0>\n",
      "<tf.Tensor: shape=(), dtype=float32, numpy=0.0>\n",
      "<tf.Tensor: shape=(), dtype=float32, numpy=1.0>\n",
      "<tf.Tensor: shape=(), dtype=float32, numpy=2.0>\n",
      "<tf.Tensor: shape=(), dtype=float32, numpy=3.0>\n",
      "CPU times: user 37.1 ms, sys: 88.2 ms, total: 125 ms\n",
      "Wall time: 123 ms\n"
     ]
    }
   ],
   "source": [
    "%%time\n",
    "for i,x in enumerate(d0):\n",
    "    print(x)\n",
    "for i,x in enumerate(d1):\n",
    "    print(x)"
   ]
  },
  {
   "cell_type": "code",
   "execution_count": 18,
   "metadata": {},
   "outputs": [
    {
     "name": "stdout",
     "output_type": "stream",
     "text": [
      "<tf.Tensor: shape=(), dtype=float32, numpy=2.0>\n",
      "<tf.Tensor: shape=(), dtype=float32, numpy=1.0>\n",
      "<tf.Tensor: shape=(), dtype=float32, numpy=0.0>\n",
      "<tf.Tensor: shape=(), dtype=float32, numpy=0.0>\n",
      "<tf.Tensor: shape=(), dtype=float32, numpy=1.0>\n",
      "<tf.Tensor: shape=(), dtype=float32, numpy=2.0>\n",
      "<tf.Tensor: shape=(), dtype=float32, numpy=3.0>\n",
      "CPU times: user 38.6 ms, sys: 85.2 ms, total: 124 ms\n",
      "Wall time: 120 ms\n"
     ]
    }
   ],
   "source": [
    "%%time\n",
    "'''接起來可能會稍慢但是很方便'''\n",
    "for i,x in enumerate(d2):\n",
    "    print(x)"
   ]
  },
  {
   "cell_type": "code",
   "execution_count": 19,
   "metadata": {},
   "outputs": [],
   "source": [
    "'''不過有繼承cache所以如果有先pre-run過就沒差太多'''\n",
    "d0=tf.data.Dataset.from_generator(f,args=[3],output_types=tf.float32).shuffle(3).cache()\n",
    "d1=tf.data.Dataset.from_generator(f,args=[4],output_types=tf.float32).cache()\n",
    "d2=tf.data.Dataset.concatenate(d0,d1)"
   ]
  },
  {
   "cell_type": "code",
   "execution_count": 20,
   "metadata": {},
   "outputs": [
    {
     "name": "stdout",
     "output_type": "stream",
     "text": [
      "<tf.Tensor: shape=(), dtype=float32, numpy=1.0>\n",
      "<tf.Tensor: shape=(), dtype=float32, numpy=2.0>\n",
      "<tf.Tensor: shape=(), dtype=float32, numpy=0.0>\n",
      "<tf.Tensor: shape=(), dtype=float32, numpy=0.0>\n",
      "<tf.Tensor: shape=(), dtype=float32, numpy=1.0>\n",
      "<tf.Tensor: shape=(), dtype=float32, numpy=2.0>\n",
      "<tf.Tensor: shape=(), dtype=float32, numpy=3.0>\n",
      "CPU times: user 37.9 ms, sys: 88.9 ms, total: 127 ms\n",
      "Wall time: 124 ms\n"
     ]
    }
   ],
   "source": [
    "%%time\n",
    "'''兩個分開跑'''\n",
    "for i,x in enumerate(d0):\n",
    "    print(x)\n",
    "for i,x in enumerate(d1):\n",
    "    print(x)"
   ]
  },
  {
   "cell_type": "code",
   "execution_count": 21,
   "metadata": {},
   "outputs": [
    {
     "name": "stdout",
     "output_type": "stream",
     "text": [
      "<tf.Tensor: shape=(), dtype=float32, numpy=1.0>\n",
      "<tf.Tensor: shape=(), dtype=float32, numpy=2.0>\n",
      "<tf.Tensor: shape=(), dtype=float32, numpy=0.0>\n",
      "<tf.Tensor: shape=(), dtype=float32, numpy=0.0>\n",
      "<tf.Tensor: shape=(), dtype=float32, numpy=1.0>\n",
      "<tf.Tensor: shape=(), dtype=float32, numpy=2.0>\n",
      "<tf.Tensor: shape=(), dtype=float32, numpy=3.0>\n",
      "CPU times: user 13.5 ms, sys: 3.48 ms, total: 17 ms\n",
      "Wall time: 13.7 ms\n"
     ]
    }
   ],
   "source": [
    "%%time\n",
    "'''跑concate起來的，因為兩個都有pre-run過所以很快'''\n",
    "for i,x in enumerate(d2):\n",
    "    print(x)"
   ]
  },
  {
   "cell_type": "markdown",
   "metadata": {},
   "source": [
    "---"
   ]
  },
  {
   "cell_type": "markdown",
   "metadata": {},
   "source": [
    "## *較少用到的東西*"
   ]
  },
  {
   "cell_type": "markdown",
   "metadata": {},
   "source": [
    "## Window"
   ]
  },
  {
   "cell_type": "code",
   "execution_count": 50,
   "metadata": {},
   "outputs": [],
   "source": [
    "d=tf.data.Dataset.from_generator(f,args=[6],output_types=tf.float32).window(3)"
   ]
  },
  {
   "cell_type": "code",
   "execution_count": 51,
   "metadata": {},
   "outputs": [
    {
     "name": "stdout",
     "output_type": "stream",
     "text": [
      "0\n",
      "<tf.Tensor: shape=(), dtype=float32, numpy=0.0>\n",
      "<tf.Tensor: shape=(), dtype=float32, numpy=1.0>\n",
      "<tf.Tensor: shape=(), dtype=float32, numpy=2.0>\n",
      "1\n",
      "<tf.Tensor: shape=(), dtype=float32, numpy=3.0>\n",
      "<tf.Tensor: shape=(), dtype=float32, numpy=4.0>\n",
      "<tf.Tensor: shape=(), dtype=float32, numpy=5.0>\n",
      "CPU times: user 23.1 ms, sys: 48 ms, total: 71.1 ms\n",
      "Wall time: 68.6 ms\n"
     ]
    }
   ],
   "source": [
    "%%time\n",
    "'''把loader分成數組loaders，每組固定數量，可能用在切分class資料'''\n",
    "for i,w in enumerate(d):\n",
    "    print(i)\n",
    "    for x in w:\n",
    "        print(x)"
   ]
  },
  {
   "cell_type": "code",
   "execution_count": 52,
   "metadata": {},
   "outputs": [],
   "source": [
    "d=tf.data.Dataset.from_generator(f,args=[6],output_types=tf.float32).batch(2).window(2)"
   ]
  },
  {
   "cell_type": "code",
   "execution_count": 53,
   "metadata": {},
   "outputs": [
    {
     "name": "stdout",
     "output_type": "stream",
     "text": [
      "0\n",
      "<tf.Tensor: shape=(2,), dtype=float32, numpy=array([0., 1.], dtype=float32)>\n",
      "<tf.Tensor: shape=(2,), dtype=float32, numpy=array([2., 3.], dtype=float32)>\n",
      "1\n",
      "<tf.Tensor: shape=(2,), dtype=float32, numpy=array([4., 5.], dtype=float32)>\n",
      "CPU times: user 30.7 ms, sys: 40.4 ms, total: 71 ms\n",
      "Wall time: 68.4 ms\n"
     ]
    }
   ],
   "source": [
    "%%time\n",
    "'''也可以先做好batch再分組'''\n",
    "for i,w in enumerate(d):\n",
    "    print(i)\n",
    "    for x in w:\n",
    "        print(x)"
   ]
  }
 ],
 "metadata": {
  "kernelspec": {
   "display_name": "Python 3",
   "language": "python",
   "name": "python3"
  },
  "language_info": {
   "codemirror_mode": {
    "name": "ipython",
    "version": 3
   },
   "file_extension": ".py",
   "mimetype": "text/x-python",
   "name": "python",
   "nbconvert_exporter": "python",
   "pygments_lexer": "ipython3",
   "version": "3.7.6"
  }
 },
 "nbformat": 4,
 "nbformat_minor": 4
}
