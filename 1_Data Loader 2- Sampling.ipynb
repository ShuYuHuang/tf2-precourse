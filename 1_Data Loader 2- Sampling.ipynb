{
 "cells": [
  {
   "cell_type": "markdown",
   "metadata": {},
   "source": [
    "# Data Loader- Dataset Opeerations 1\n",
    "有了基本的Dataset物件，我們可以對它做各種操作，組成我們一次想丟進model裡面的資料組合。\n",
    "\n",
    "以下先介紹其中一部分操作。"
   ]
  },
  {
   "cell_type": "markdown",
   "metadata": {},
   "source": [
    "## 內容\n",
    "* 陽春loader\n",
    "* batch\n",
    "* repeat\n",
    "* shuffle\n",
    "* filter"
   ]
  },
  {
   "cell_type": "code",
   "execution_count": 1,
   "metadata": {},
   "outputs": [],
   "source": [
    "import tensorflow as tf\n",
    "import numpy as np\n",
    "import matplotlib.pyplot as plt"
   ]
  },
  {
   "cell_type": "markdown",
   "metadata": {},
   "source": [
    "**以tf.data.Dataset.from_generator這種loader類型示範**\n",
    "\n",
    "先準備好一個data generator，會yield指定數量的數字"
   ]
  },
  {
   "cell_type": "code",
   "execution_count": 2,
   "metadata": {},
   "outputs": [],
   "source": [
    "def f(rng):\n",
    "    for i in range(rng):\n",
    "        yield i"
   ]
  },
  {
   "cell_type": "code",
   "execution_count": 3,
   "metadata": {},
   "outputs": [
    {
     "data": {
      "text/plain": [
       "[0, 1, 2]"
      ]
     },
     "execution_count": 3,
     "metadata": {},
     "output_type": "execute_result"
    }
   ],
   "source": [
    "list(iter(f(3)))"
   ]
  },
  {
   "cell_type": "markdown",
   "metadata": {},
   "source": [
    "---"
   ]
  },
  {
   "cell_type": "markdown",
   "metadata": {},
   "source": [
    "## 最陽春的loader"
   ]
  },
  {
   "cell_type": "code",
   "execution_count": 4,
   "metadata": {},
   "outputs": [],
   "source": [
    "d=tf.data.Dataset.from_generator(f,args=[3],output_types=tf.float32)"
   ]
  },
  {
   "cell_type": "code",
   "execution_count": 5,
   "metadata": {},
   "outputs": [
    {
     "name": "stdout",
     "output_type": "stream",
     "text": [
      "<tf.Tensor: shape=(), dtype=float32, numpy=0.0>\n",
      "<tf.Tensor: shape=(), dtype=float32, numpy=1.0>\n",
      "<tf.Tensor: shape=(), dtype=float32, numpy=2.0>\n",
      "CPU times: user 18.8 ms, sys: 41.9 ms, total: 60.7 ms\n",
      "Wall time: 58.2 ms\n"
     ]
    }
   ],
   "source": [
    "%%time\n",
    "for i,x in enumerate(d):\n",
    "        print(x)"
   ]
  },
  {
   "cell_type": "markdown",
   "metadata": {},
   "source": [
    "---"
   ]
  },
  {
   "cell_type": "markdown",
   "metadata": {},
   "source": [
    "## Batch\n",
    "批次執行"
   ]
  },
  {
   "cell_type": "code",
   "execution_count": 6,
   "metadata": {},
   "outputs": [],
   "source": [
    "'''直接開超過1就好'''\n",
    "d=tf.data.Dataset.from_generator(f,args=[1000],output_types=tf.float32).batch(2)"
   ]
  },
  {
   "cell_type": "code",
   "execution_count": 7,
   "metadata": {},
   "outputs": [
    {
     "name": "stdout",
     "output_type": "stream",
     "text": [
      "<tf.Tensor: shape=(2,), dtype=float32, numpy=array([0., 1.], dtype=float32)>\n",
      "<tf.Tensor: shape=(2,), dtype=float32, numpy=array([2., 3.], dtype=float32)>\n",
      "<tf.Tensor: shape=(2,), dtype=float32, numpy=array([4., 5.], dtype=float32)>\n",
      "CPU times: user 159 ms, sys: 51.3 ms, total: 210 ms\n",
      "Wall time: 171 ms\n"
     ]
    }
   ],
   "source": [
    "%%time\n",
    "for i,x in enumerate(d):\n",
    "    if i<3:\n",
    "        print(x)"
   ]
  },
  {
   "cell_type": "code",
   "execution_count": 8,
   "metadata": {},
   "outputs": [],
   "source": [
    "'''開越多會更快'''\n",
    "d0=tf.data.Dataset.from_generator(f,args=[1000],output_types=tf.float32).batch(3)\n",
    "d1=tf.data.Dataset.from_generator(f,args=[1000],output_types=tf.float32).batch(10)"
   ]
  },
  {
   "cell_type": "code",
   "execution_count": 9,
   "metadata": {},
   "outputs": [
    {
     "name": "stdout",
     "output_type": "stream",
     "text": [
      "<tf.Tensor: shape=(3,), dtype=float32, numpy=array([0., 1., 2.], dtype=float32)>\n",
      "<tf.Tensor: shape=(3,), dtype=float32, numpy=array([3., 4., 5.], dtype=float32)>\n",
      "<tf.Tensor: shape=(3,), dtype=float32, numpy=array([6., 7., 8.], dtype=float32)>\n",
      "CPU times: user 137 ms, sys: 61.7 ms, total: 198 ms\n",
      "Wall time: 157 ms\n"
     ]
    }
   ],
   "source": [
    "%%time\n",
    "for i,x in enumerate(d0):\n",
    "    if i<3:\n",
    "        print(x)"
   ]
  },
  {
   "cell_type": "code",
   "execution_count": 10,
   "metadata": {},
   "outputs": [
    {
     "name": "stdout",
     "output_type": "stream",
     "text": [
      "<tf.Tensor: shape=(10,), dtype=float32, numpy=array([0., 1., 2., 3., 4., 5., 6., 7., 8., 9.], dtype=float32)>\n",
      "<tf.Tensor: shape=(10,), dtype=float32, numpy=array([10., 11., 12., 13., 14., 15., 16., 17., 18., 19.], dtype=float32)>\n",
      "<tf.Tensor: shape=(10,), dtype=float32, numpy=array([20., 21., 22., 23., 24., 25., 26., 27., 28., 29.], dtype=float32)>\n",
      "CPU times: user 102 ms, sys: 77.1 ms, total: 179 ms\n",
      "Wall time: 136 ms\n"
     ]
    }
   ],
   "source": [
    "%%time\n",
    "for i,x in enumerate(d1):\n",
    "    if i<3:\n",
    "        print(x)"
   ]
  },
  {
   "cell_type": "code",
   "execution_count": 11,
   "metadata": {},
   "outputs": [],
   "source": [
    "'''到某個程度後邊際效應遞減'''\n",
    "d0=tf.data.Dataset.from_generator(f,args=[1000],output_types=tf.float32).batch(10)\n",
    "d1=tf.data.Dataset.from_generator(f,args=[1000],output_types=tf.float32).batch(100)\n",
    "d2=tf.data.Dataset.from_generator(f,args=[1000],output_types=tf.float32).batch(200)"
   ]
  },
  {
   "cell_type": "code",
   "execution_count": 12,
   "metadata": {},
   "outputs": [
    {
     "name": "stdout",
     "output_type": "stream",
     "text": [
      "CPU times: user 141 ms, sys: 33.8 ms, total: 175 ms\n",
      "Wall time: 132 ms\n"
     ]
    }
   ],
   "source": [
    "%%time\n",
    "for i,x in enumerate(d0):\n",
    "    pass"
   ]
  },
  {
   "cell_type": "code",
   "execution_count": 13,
   "metadata": {},
   "outputs": [
    {
     "name": "stdout",
     "output_type": "stream",
     "text": [
      "CPU times: user 115 ms, sys: 49.8 ms, total: 165 ms\n",
      "Wall time: 121 ms\n"
     ]
    }
   ],
   "source": [
    "%%time\n",
    "for i,x in enumerate(d1):\n",
    "    pass"
   ]
  },
  {
   "cell_type": "code",
   "execution_count": 14,
   "metadata": {},
   "outputs": [
    {
     "name": "stdout",
     "output_type": "stream",
     "text": [
      "CPU times: user 94 ms, sys: 71.8 ms, total: 166 ms\n",
      "Wall time: 121 ms\n"
     ]
    }
   ],
   "source": [
    "%%time\n",
    "for i,x in enumerate(d2):\n",
    "    pass"
   ]
  },
  {
   "cell_type": "code",
   "execution_count": 15,
   "metadata": {},
   "outputs": [],
   "source": [
    "d1=tf.data.Dataset.from_generator(f,args=[3],output_types=tf.float32).batch(2)\n",
    "d2=tf.data.Dataset.from_generator(f,args=[3],output_types=tf.float32).batch(2,drop_remainder=True)"
   ]
  },
  {
   "cell_type": "code",
   "execution_count": 16,
   "metadata": {},
   "outputs": [
    {
     "name": "stdout",
     "output_type": "stream",
     "text": [
      "<tf.Tensor: shape=(2,), dtype=float32, numpy=array([0., 1.], dtype=float32)>\n",
      "<tf.Tensor: shape=(1,), dtype=float32, numpy=array([2.], dtype=float32)>\n",
      "CPU times: user 26.6 ms, sys: 38.6 ms, total: 65.2 ms\n",
      "Wall time: 62.1 ms\n"
     ]
    }
   ],
   "source": [
    "%%time\n",
    "'''如果長度不能被batch size除盡，會有殘量'''\n",
    "for i,x in enumerate(d1):\n",
    "    print(x)"
   ]
  },
  {
   "cell_type": "code",
   "execution_count": 17,
   "metadata": {},
   "outputs": [
    {
     "name": "stdout",
     "output_type": "stream",
     "text": [
      "<tf.Tensor: shape=(2,), dtype=float32, numpy=array([0., 1.], dtype=float32)>\n",
      "CPU times: user 17.3 ms, sys: 46.6 ms, total: 63.9 ms\n",
      "Wall time: 61.4 ms\n"
     ]
    }
   ],
   "source": [
    "%%time\n",
    "'''drop_remainder會把殘量丟掉，適合某些長度需要一致的場合'''\n",
    "for i,x in enumerate(d2):\n",
    "    print(x)"
   ]
  },
  {
   "cell_type": "markdown",
   "metadata": {},
   "source": [
    "---"
   ]
  },
  {
   "cell_type": "markdown",
   "metadata": {},
   "source": [
    "## Repeat\n",
    "將Dataset重複數次"
   ]
  },
  {
   "cell_type": "code",
   "execution_count": 18,
   "metadata": {},
   "outputs": [],
   "source": [
    "d=tf.data.Dataset.from_generator(f,args=[3],output_types=tf.float32).repeat(2)"
   ]
  },
  {
   "cell_type": "code",
   "execution_count": 19,
   "metadata": {},
   "outputs": [
    {
     "name": "stdout",
     "output_type": "stream",
     "text": [
      "<tf.Tensor: shape=(), dtype=float32, numpy=0.0>\n",
      "<tf.Tensor: shape=(), dtype=float32, numpy=1.0>\n",
      "<tf.Tensor: shape=(), dtype=float32, numpy=2.0>\n",
      "<tf.Tensor: shape=(), dtype=float32, numpy=0.0>\n",
      "<tf.Tensor: shape=(), dtype=float32, numpy=1.0>\n",
      "<tf.Tensor: shape=(), dtype=float32, numpy=2.0>\n",
      "CPU times: user 25.7 ms, sys: 93.6 ms, total: 119 ms\n",
      "Wall time: 116 ms\n"
     ]
    }
   ],
   "source": [
    "%%time\n",
    "'''把指定的loader重複數次'''\n",
    "for i,x in enumerate(d):\n",
    "    print(x)"
   ]
  },
  {
   "cell_type": "code",
   "execution_count": 20,
   "metadata": {},
   "outputs": [],
   "source": [
    "d=tf.data.Dataset.from_generator(f,args=[9],output_types=tf.float32).batch(3).repeat(2)"
   ]
  },
  {
   "cell_type": "code",
   "execution_count": 21,
   "metadata": {},
   "outputs": [
    {
     "name": "stdout",
     "output_type": "stream",
     "text": [
      "<tf.Tensor: shape=(3,), dtype=float32, numpy=array([0., 1., 2.], dtype=float32)>\n",
      "<tf.Tensor: shape=(3,), dtype=float32, numpy=array([3., 4., 5.], dtype=float32)>\n",
      "<tf.Tensor: shape=(3,), dtype=float32, numpy=array([6., 7., 8.], dtype=float32)>\n",
      "<tf.Tensor: shape=(3,), dtype=float32, numpy=array([0., 1., 2.], dtype=float32)>\n",
      "<tf.Tensor: shape=(3,), dtype=float32, numpy=array([3., 4., 5.], dtype=float32)>\n",
      "<tf.Tensor: shape=(3,), dtype=float32, numpy=array([6., 7., 8.], dtype=float32)>\n",
      "CPU times: user 49.3 ms, sys: 60.5 ms, total: 110 ms\n",
      "Wall time: 106 ms\n"
     ]
    }
   ],
   "source": [
    "%%time\n",
    "'''如果前面有batch過就，重複的項目也有batch'''\n",
    "for i,x in enumerate(d):\n",
    "    print(x)"
   ]
  },
  {
   "cell_type": "code",
   "execution_count": 22,
   "metadata": {},
   "outputs": [],
   "source": [
    "d=tf.data.Dataset.from_generator(f,args=[3],output_types=tf.float32).batch(2).repeat(2)"
   ]
  },
  {
   "cell_type": "code",
   "execution_count": 23,
   "metadata": {},
   "outputs": [
    {
     "name": "stdout",
     "output_type": "stream",
     "text": [
      "<tf.Tensor: shape=(2,), dtype=float32, numpy=array([0., 1.], dtype=float32)>\n",
      "<tf.Tensor: shape=(1,), dtype=float32, numpy=array([2.], dtype=float32)>\n",
      "<tf.Tensor: shape=(2,), dtype=float32, numpy=array([0., 1.], dtype=float32)>\n",
      "<tf.Tensor: shape=(1,), dtype=float32, numpy=array([2.], dtype=float32)>\n",
      "CPU times: user 38.1 ms, sys: 81.8 ms, total: 120 ms\n",
      "Wall time: 117 ms\n"
     ]
    }
   ],
   "source": [
    "%%time\n",
    "'''如果前面有batch有殘量，重複的也有殘量'''\n",
    "for i,x in enumerate(d):\n",
    "    print(x)"
   ]
  },
  {
   "cell_type": "code",
   "execution_count": 24,
   "metadata": {},
   "outputs": [],
   "source": [
    "d1=tf.data.Dataset.from_generator(f,args=[3],output_types=tf.float32).repeat(2).cache()\n",
    "d2=tf.data.Dataset.from_generator(f,args=[3],output_types=tf.float32).cache().repeat(2)"
   ]
  },
  {
   "cell_type": "code",
   "execution_count": 25,
   "metadata": {},
   "outputs": [
    {
     "name": "stdout",
     "output_type": "stream",
     "text": [
      "<tf.Tensor: shape=(), dtype=float32, numpy=0.0>\n",
      "<tf.Tensor: shape=(), dtype=float32, numpy=1.0>\n",
      "<tf.Tensor: shape=(), dtype=float32, numpy=2.0>\n",
      "<tf.Tensor: shape=(), dtype=float32, numpy=0.0>\n",
      "<tf.Tensor: shape=(), dtype=float32, numpy=1.0>\n",
      "<tf.Tensor: shape=(), dtype=float32, numpy=2.0>\n",
      "CPU times: user 34.8 ms, sys: 86.2 ms, total: 121 ms\n",
      "Wall time: 119 ms\n"
     ]
    }
   ],
   "source": [
    "%%time\n",
    "'''如果先repeat 再cache,則兩次都是第一次速度'''\n",
    "for i,x in enumerate(d1):\n",
    "    print(x)"
   ]
  },
  {
   "cell_type": "code",
   "execution_count": 26,
   "metadata": {},
   "outputs": [
    {
     "name": "stdout",
     "output_type": "stream",
     "text": [
      "<tf.Tensor: shape=(), dtype=float32, numpy=0.0>\n",
      "<tf.Tensor: shape=(), dtype=float32, numpy=1.0>\n",
      "<tf.Tensor: shape=(), dtype=float32, numpy=2.0>\n",
      "<tf.Tensor: shape=(), dtype=float32, numpy=0.0>\n",
      "<tf.Tensor: shape=(), dtype=float32, numpy=1.0>\n",
      "<tf.Tensor: shape=(), dtype=float32, numpy=2.0>\n",
      "CPU times: user 5.53 ms, sys: 59.9 ms, total: 65.4 ms\n",
      "Wall time: 62.5 ms\n"
     ]
    }
   ],
   "source": [
    "%%time\n",
    "'''如果先cache再repeat,則第二次會被加速'''\n",
    "for i,x in enumerate(d2):\n",
    "    print(x)"
   ]
  },
  {
   "cell_type": "markdown",
   "metadata": {},
   "source": [
    "---"
   ]
  },
  {
   "cell_type": "markdown",
   "metadata": {},
   "source": [
    "## Shuffle"
   ]
  },
  {
   "cell_type": "markdown",
   "metadata": {},
   "source": [
    "以特定方式將Dataset抽出順序打亂\n",
    "\n",
    "1. 把前buffer_size個先存起來\n",
    "2. 從buffer_size裡面任抽一個輸出\n",
    "3. 把buffer_size後面一個塞進buffer理\n",
    "4. 重複2~3直到所有數字被抽出\n",
    "\n",
    "[reference](https://zhuanlan.zhihu.com/p/42417456)"
   ]
  },
  {
   "cell_type": "code",
   "execution_count": 29,
   "metadata": {},
   "outputs": [
    {
     "name": "stdout",
     "output_type": "stream",
     "text": [
      "<tf.Tensor: shape=(), dtype=float32, numpy=0.0>\n",
      "<tf.Tensor: shape=(), dtype=float32, numpy=1.0>\n",
      "<tf.Tensor: shape=(), dtype=float32, numpy=2.0>\n",
      "<tf.Tensor: shape=(), dtype=float32, numpy=3.0>\n",
      "<tf.Tensor: shape=(), dtype=float32, numpy=4.0>\n"
     ]
    }
   ],
   "source": [
    "d1=tf.data.Dataset.from_generator(f,args=[5],output_types=tf.float32).shuffle(buffer_size=1)\n",
    "'''如果buffer_size開1，就沒有亂抽到'''\n",
    "for i,x in enumerate(d1):\n",
    "    print(x)"
   ]
  },
  {
   "cell_type": "code",
   "execution_count": 30,
   "metadata": {},
   "outputs": [
    {
     "name": "stdout",
     "output_type": "stream",
     "text": [
      "<tf.Tensor: shape=(), dtype=float32, numpy=0.0>\n",
      "<tf.Tensor: shape=(), dtype=float32, numpy=1.0>\n",
      "<tf.Tensor: shape=(), dtype=float32, numpy=2.0>\n",
      "<tf.Tensor: shape=(), dtype=float32, numpy=3.0>\n",
      "<tf.Tensor: shape=(), dtype=float32, numpy=4.0>\n"
     ]
    }
   ],
   "source": [
    "d2=tf.data.Dataset.from_generator(f,args=[5],output_types=tf.float32).shuffle(buffer_size=2)\n",
    "'''如果buffer_size開2，有亂抽到'''\n",
    "for i,x in enumerate(d2):\n",
    "    print(x)"
   ]
  },
  {
   "cell_type": "code",
   "execution_count": 31,
   "metadata": {},
   "outputs": [],
   "source": [
    "'''可是這個buffer如果小於前面的資料數，那亂的程度就會受到影響'''\n",
    "d=tf.data.Dataset.from_generator(f,args=[10],output_types=tf.float32).cache().shuffle(3).batch(10).repeat(1000)"
   ]
  },
  {
   "cell_type": "code",
   "execution_count": 32,
   "metadata": {},
   "outputs": [],
   "source": [
    "l=[]\n",
    "for i in d:\n",
    "    l.append(i)\n",
    "a=tf.stack(l,axis=-1)"
   ]
  },
  {
   "cell_type": "code",
   "execution_count": 33,
   "metadata": {},
   "outputs": [
    {
     "data": {
      "image/png": "[encoded data removed]",
      "text/plain": [
       "<Figure size 1080x360 with 10 Axes>"
      ]
     },
     "metadata": {
      "needs_background": "light"
     },
     "output_type": "display_data"
    }
   ],
   "source": [
    "'''統計一下會發現，batch第一次抽到的可能性只落在三種選擇內，第二次的是4種，依此類推，越後面的越容易在更後面抽到'''\n",
    "plt.figure(figsize=(15,5))\n",
    "for i,ii in enumerate(a.numpy()):\n",
    "    plt.subplot(2,5,i+1)\n",
    "    plt.hist(ii,alpha=0.5,label=[i])\n",
    "    plt.legend()"
   ]
  },
  {
   "cell_type": "code",
   "execution_count": 34,
   "metadata": {},
   "outputs": [],
   "source": [
    "'''如果buffer數到了一定數量就比較好用一點'''\n",
    "d=tf.data.Dataset.from_generator(f,args=[10],output_types=tf.float32).cache().shuffle(8).batch(10).repeat(1000)"
   ]
  },
  {
   "cell_type": "code",
   "execution_count": 35,
   "metadata": {},
   "outputs": [
    {
     "name": "stdout",
     "output_type": "stream",
     "text": [
      "CPU times: user 182 ms, sys: 69.1 ms, total: 251 ms\n",
      "Wall time: 228 ms\n"
     ]
    }
   ],
   "source": [
    "%%time\n",
    "l=[]\n",
    "for i in d:\n",
    "    l.append(i)\n",
    "a=tf.stack(l,axis=-1)"
   ]
  },
  {
   "cell_type": "code",
   "execution_count": 36,
   "metadata": {},
   "outputs": [
    {
     "data": {
      "image/png": "[encoded data removed]",
      "text/plain": [
       "<Figure size 1080x360 with 10 Axes>"
      ]
     },
     "metadata": {
      "needs_background": "light"
     },
     "output_type": "display_data"
    }
   ],
   "source": [
    "'''雖然前幾次的會不太隨機，但是後面的都很隨機'''\n",
    "plt.figure(figsize=(15,5))\n",
    "for i,ii in enumerate(a.numpy()):\n",
    "    plt.subplot(2,5,i+1)\n",
    "    plt.hist(ii,alpha=0.5,label=[i])\n",
    "    plt.legend()"
   ]
  },
  {
   "cell_type": "code",
   "execution_count": 37,
   "metadata": {},
   "outputs": [],
   "source": [
    "'''如果buffer開到滿就每次都隨機'''\n",
    "d=tf.data.Dataset.from_generator(f,args=[10],output_types=tf.float32).cache().shuffle(10).batch(10).repeat(1000)"
   ]
  },
  {
   "cell_type": "code",
   "execution_count": 38,
   "metadata": {},
   "outputs": [
    {
     "name": "stdout",
     "output_type": "stream",
     "text": [
      "CPU times: user 194 ms, sys: 60.6 ms, total: 254 ms\n",
      "Wall time: 229 ms\n"
     ]
    }
   ],
   "source": [
    "%%time\n",
    "l=[]\n",
    "for i in d:\n",
    "    l.append(i)\n",
    "a=tf.stack(l,axis=-1)"
   ]
  },
  {
   "cell_type": "code",
   "execution_count": 39,
   "metadata": {},
   "outputs": [
    {
     "data": {
      "image/png": "[encoded data removed]",
      "text/plain": [
       "<Figure size 1080x360 with 10 Axes>"
      ]
     },
     "metadata": {
      "needs_background": "light"
     },
     "output_type": "display_data"
    }
   ],
   "source": [
    "plt.figure(figsize=(15,5))\n",
    "for i,ii in enumerate(a.numpy()):\n",
    "    plt.subplot(2,5,i+1)\n",
    "    plt.hist(ii,alpha=0.5,label=[i])\n",
    "    plt.legend()"
   ]
  },
  {
   "cell_type": "code",
   "execution_count": 40,
   "metadata": {},
   "outputs": [],
   "source": [
    "'''如果buffer開到滿就每次都隨機'''\n",
    "d0=tf.data.Dataset.from_generator(f,args=[10000],output_types=tf.float32).cache().shuffle(2).batch(10000).repeat(1000)\n",
    "d1=tf.data.Dataset.from_generator(f,args=[10000],output_types=tf.float32).cache().shuffle(2000).batch(10000).repeat(1000)\n",
    "d2=tf.data.Dataset.from_generator(f,args=[10000],output_types=tf.float32).cache().shuffle(10000).batch(10000).repeat(1000)"
   ]
  },
  {
   "cell_type": "code",
   "execution_count": 41,
   "metadata": {},
   "outputs": [
    {
     "name": "stdout",
     "output_type": "stream",
     "text": [
      "CPU times: user 15.8 s, sys: 176 ms, total: 15.9 s\n",
      "Wall time: 15.5 s\n"
     ]
    }
   ],
   "source": [
    "%%time\n",
    "for i in d0:\n",
    "    pass"
   ]
  },
  {
   "cell_type": "code",
   "execution_count": 42,
   "metadata": {},
   "outputs": [
    {
     "name": "stdout",
     "output_type": "stream",
     "text": [
      "CPU times: user 17 s, sys: 185 ms, total: 17.2 s\n",
      "Wall time: 16.8 s\n"
     ]
    }
   ],
   "source": [
    "%%time\n",
    "for i in d1:\n",
    "    pass"
   ]
  },
  {
   "cell_type": "code",
   "execution_count": 43,
   "metadata": {},
   "outputs": [
    {
     "name": "stdout",
     "output_type": "stream",
     "text": [
      "CPU times: user 17.1 s, sys: 194 ms, total: 17.3 s\n",
      "Wall time: 16.8 s\n"
     ]
    }
   ],
   "source": [
    "%%time\n",
    "for i in d2:\n",
    "    pass"
   ]
  },
  {
   "cell_type": "markdown",
   "metadata": {},
   "source": [
    "**重點是也沒有比只使用0.2倍的buffer_size慢**\n",
    "\n",
    "**所以有想用shuffle記得buffer開滿，除非想依照class sample數量做balancing**"
   ]
  },
  {
   "cell_type": "markdown",
   "metadata": {},
   "source": [
    "---"
   ]
  },
  {
   "cell_type": "markdown",
   "metadata": {},
   "source": [
    "## Filter\n",
    "將一部分符合判斷式的資料抽出"
   ]
  },
  {
   "cell_type": "code",
   "execution_count": 44,
   "metadata": {},
   "outputs": [],
   "source": [
    "'''篩選data'''\n",
    "d=tf.data.Dataset.from_generator(f,args=[6],output_types=tf.float32).filter(lambda x:x>=3)"
   ]
  },
  {
   "cell_type": "code",
   "execution_count": 45,
   "metadata": {},
   "outputs": [
    {
     "name": "stdout",
     "output_type": "stream",
     "text": [
      "tf.Tensor(3.0, shape=(), dtype=float32)\n",
      "tf.Tensor(4.0, shape=(), dtype=float32)\n",
      "tf.Tensor(5.0, shape=(), dtype=float32)\n"
     ]
    }
   ],
   "source": [
    "'''依指定判斷式比對'''\n",
    "for i,x in enumerate(d):\n",
    "    print(x)"
   ]
  },
  {
   "cell_type": "code",
   "execution_count": 46,
   "metadata": {},
   "outputs": [],
   "source": [
    "'''篩選data'''\n",
    "d=tf.data.Dataset.from_generator(f,args=[6],output_types=tf.float32).batch(2).filter(lambda x:x>2)"
   ]
  },
  {
   "cell_type": "code",
   "execution_count": 49,
   "metadata": {},
   "outputs": [
    {
     "name": "stdout",
     "output_type": "stream",
     "text": [
      "error\n"
     ]
    }
   ],
   "source": [
    "'''不能夠filter vector'''\n",
    "try:\n",
    "    for i,x in enumerate(d):\n",
    "        print(x)\n",
    "except:\n",
    "    print(\"error\")"
   ]
  },
  {
   "cell_type": "markdown",
   "metadata": {},
   "source": [
    "---"
   ]
  },
  {
   "cell_type": "markdown",
   "metadata": {},
   "source": [
    "## *較少用到的東西*"
   ]
  },
  {
   "cell_type": "markdown",
   "metadata": {},
   "source": [
    "## Window"
   ]
  },
  {
   "cell_type": "code",
   "execution_count": 50,
   "metadata": {},
   "outputs": [],
   "source": [
    "d=tf.data.Dataset.from_generator(f,args=[6],output_types=tf.float32).window(3)"
   ]
  },
  {
   "cell_type": "code",
   "execution_count": 51,
   "metadata": {},
   "outputs": [
    {
     "name": "stdout",
     "output_type": "stream",
     "text": [
      "0\n",
      "<tf.Tensor: shape=(), dtype=float32, numpy=0.0>\n",
      "<tf.Tensor: shape=(), dtype=float32, numpy=1.0>\n",
      "<tf.Tensor: shape=(), dtype=float32, numpy=2.0>\n",
      "1\n",
      "<tf.Tensor: shape=(), dtype=float32, numpy=3.0>\n",
      "<tf.Tensor: shape=(), dtype=float32, numpy=4.0>\n",
      "<tf.Tensor: shape=(), dtype=float32, numpy=5.0>\n",
      "CPU times: user 23.1 ms, sys: 48 ms, total: 71.1 ms\n",
      "Wall time: 68.6 ms\n"
     ]
    }
   ],
   "source": [
    "%%time\n",
    "'''把loader分成數組loaders，每組固定數量，可能用在切分class資料'''\n",
    "for i,w in enumerate(d):\n",
    "    print(i)\n",
    "    for x in w:\n",
    "        print(x)"
   ]
  },
  {
   "cell_type": "code",
   "execution_count": 52,
   "metadata": {},
   "outputs": [],
   "source": [
    "d=tf.data.Dataset.from_generator(f,args=[6],output_types=tf.float32).batch(2).window(2)"
   ]
  },
  {
   "cell_type": "code",
   "execution_count": 53,
   "metadata": {},
   "outputs": [
    {
     "name": "stdout",
     "output_type": "stream",
     "text": [
      "0\n",
      "<tf.Tensor: shape=(2,), dtype=float32, numpy=array([0., 1.], dtype=float32)>\n",
      "<tf.Tensor: shape=(2,), dtype=float32, numpy=array([2., 3.], dtype=float32)>\n",
      "1\n",
      "<tf.Tensor: shape=(2,), dtype=float32, numpy=array([4., 5.], dtype=float32)>\n",
      "CPU times: user 30.7 ms, sys: 40.4 ms, total: 71 ms\n",
      "Wall time: 68.4 ms\n"
     ]
    }
   ],
   "source": [
    "%%time\n",
    "'''也可以先做好batch再分組'''\n",
    "for i,w in enumerate(d):\n",
    "    print(i)\n",
    "    for x in w:\n",
    "        print(x)"
   ]
  },
  {
   "cell_type": "code",
   "execution_count": null,
   "metadata": {},
   "outputs": [],
   "source": []
  }
 ],
 "metadata": {
  "kernelspec": {
   "display_name": "Python 3",
   "language": "python",
   "name": "python3"
  },
  "language_info": {
   "codemirror_mode": {
    "name": "ipython",
    "version": 3
   },
   "file_extension": ".py",
   "mimetype": "text/x-python",
   "name": "python",
   "nbconvert_exporter": "python",
   "pygments_lexer": "ipython3",
   "version": "3.7.6"
  }
 },
 "nbformat": 4,
 "nbformat_minor": 4
}
