{
 "cells": [
  {
   "cell_type": "markdown",
   "metadata": {},
   "source": [
    "# Data Loader- Dataset Types "
   ]
  },
  {
   "cell_type": "markdown",
   "metadata": {},
   "source": [
    "讀取檔案的function常稱呼為Data Loader。Tensorflow 2.0本身帶有一些程式，可以客製化的讀取檔案，在做Deep Learning時將資料從CPU或硬碟讀取到GPU，使資料能夠與Model參數在GPU上運算。\n",
    "TF2.0中 tf.data這個庫中的各種class和function就是來幫助各位客製化data loader。\n",
    "\n",
    "**Data Loader要件:**\n",
    "1. Dataset物件- 抽取data的來源，可以用各種方式形成，\n",
    "\n",
    "   可以被iterate(e.g. for x in Dataset)，但不可以被index (e.g. Dataset[3])\n",
    "2. Dataset操作- 對Dataset以特定方式抽取、分割、合併、加速、映射等等動作，來行程最後訓練、測試用的Data Loader\n",
    "\n",
    "這邊我們先從各種Dataset type開始介紹起，包含:\n",
    "1. From Tensors\n",
    "2. From Tensor Slices\n",
    "3. List Files\n",
    "4. From Generator"
   ]
  },
  {
   "cell_type": "code",
   "execution_count": 8,
   "metadata": {},
   "outputs": [],
   "source": [
    "import tensorflow as tf\n",
    "from tensorflow import data\n",
    "import numpy as np"
   ]
  },
  {
   "cell_type": "markdown",
   "metadata": {},
   "source": [
    "## From Tensors"
   ]
  },
  {
   "cell_type": "markdown",
   "metadata": {},
   "source": [
    "從tensor建立只有一單位資料的Dataset: .from_tensors"
   ]
  },
  {
   "cell_type": "code",
   "execution_count": 12,
   "metadata": {},
   "outputs": [
    {
     "name": "stdout",
     "output_type": "stream",
     "text": [
      "tf.Tensor([0 1 2], shape=(3,), dtype=int32)\n"
     ]
    }
   ],
   "source": [
    "for i in data.Dataset.from_tensors([0,1,2]):\n",
    "    print(i)"
   ]
  },
  {
   "cell_type": "markdown",
   "metadata": {},
   "source": [
    "該Dataset只有一個項目，要透過後續操作把項目依照指定方式分開才能後續使用，實際上有點冗贅\n",
    "\n",
    "使用起來跟tf.constant沒什麼差別"
   ]
  },
  {
   "cell_type": "markdown",
   "metadata": {},
   "source": [
    "# From Tensor Slices"
   ]
  },
  {
   "cell_type": "markdown",
   "metadata": {},
   "source": [
    "從tensor建立有數個單位資料的Dataset: .from_tensor_slices"
   ]
  },
  {
   "cell_type": "code",
   "execution_count": 21,
   "metadata": {},
   "outputs": [
    {
     "name": "stdout",
     "output_type": "stream",
     "text": [
      "tf.Tensor(0, shape=(), dtype=int32)\n",
      "tf.Tensor(1, shape=(), dtype=int32)\n",
      "tf.Tensor(2, shape=(), dtype=int32)\n"
     ]
    }
   ],
   "source": [
    "for i in data.Dataset.from_tensor_slices([0,1,2]):\n",
    "    print(i)"
   ]
  },
  {
   "cell_type": "markdown",
   "metadata": {},
   "source": [
    "會依照輸入項目轉成Tensor，再由第0 rank分裂成數個單位，在iterate時會一個個輸出"
   ]
  },
  {
   "cell_type": "markdown",
   "metadata": {},
   "source": [
    "## List Files"
   ]
  },
  {
   "cell_type": "markdown",
   "metadata": {},
   "source": [
    "用一列檔案名稱建立Dataset: .list_files"
   ]
  },
  {
   "cell_type": "code",
   "execution_count": 26,
   "metadata": {},
   "outputs": [
    {
     "name": "stdout",
     "output_type": "stream",
     "text": [
      "tf.Tensor(b'./1_tf_dataset_sampling.ipynb', shape=(), dtype=string)\n",
      "tf.Tensor(b'./Data Loader- Loader Types.ipynb', shape=(), dtype=string)\n",
      "tf.Tensor(b'./2_tf_dataset_interaction.ipynb', shape=(), dtype=string)\n",
      "tf.Tensor(b'./0_tf_dataset_memory.ipynb', shape=(), dtype=string)\n"
     ]
    }
   ],
   "source": [
    "for i in tf.data.Dataset.list_files(\"*.ipynb\"):\n",
    "    print(i)"
   ]
  },
  {
   "cell_type": "markdown",
   "metadata": {},
   "source": [
    "這種Dataset要求輸入的是file_pattern，可以包含萬用符。\n",
    "若將檔案化為一個List來做.list_files會變慢\n",
    "\n",
    "要注意的是，若列舉檔案時要保持檔案順訊，記得要加shuffle=False"
   ]
  },
  {
   "cell_type": "code",
   "execution_count": 28,
   "metadata": {},
   "outputs": [
    {
     "name": "stdout",
     "output_type": "stream",
     "text": [
      "tf.Tensor(b'./0_tf_dataset_memory.ipynb', shape=(), dtype=string)\n",
      "tf.Tensor(b'./1_tf_dataset_sampling.ipynb', shape=(), dtype=string)\n",
      "tf.Tensor(b'./2_tf_dataset_interaction.ipynb', shape=(), dtype=string)\n",
      "tf.Tensor(b'./Data Loader- Loader Types.ipynb', shape=(), dtype=string)\n"
     ]
    }
   ],
   "source": [
    "for i in tf.data.Dataset.list_files(\"*.ipynb\",shuffle=False):\n",
    "    print(i)"
   ]
  },
  {
   "cell_type": "markdown",
   "metadata": {},
   "source": [
    "從function建立Dataset: .from_generator"
   ]
  }
 ],
 "metadata": {
  "kernelspec": {
   "display_name": "Python 3",
   "language": "python",
   "name": "python3"
  },
  "language_info": {
   "codemirror_mode": {
    "name": "ipython",
    "version": 3
   },
   "file_extension": ".py",
   "mimetype": "text/x-python",
   "name": "python",
   "nbconvert_exporter": "python",
   "pygments_lexer": "ipython3",
   "version": "3.7.6"
  }
 },
 "nbformat": 4,
 "nbformat_minor": 4
}
