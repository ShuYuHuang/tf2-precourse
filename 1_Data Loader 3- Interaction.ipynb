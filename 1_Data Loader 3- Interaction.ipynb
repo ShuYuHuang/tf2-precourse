{
 "cells": [
  {
   "cell_type": "markdown",
   "metadata": {},
   "source": [
    "# Data Loader- Dataset Opeerations 2\n",
    "這邊介紹更多操作，其中有一部分需要用到兩個以上的Dataset"
   ]
  },
  {
   "cell_type": "markdown",
   "metadata": {},
   "source": [
    "## 內容\n",
    "* 基本loader\n",
    "* take/skip\n",
    "* map\n",
    "* zip\n",
    "* concatenate"
   ]
  },
  {
   "cell_type": "code",
   "execution_count": 1,
   "metadata": {},
   "outputs": [],
   "source": [
    "import tensorflow as tf\n",
    "import numpy as np\n",
    "import matplotlib.pyplot as plt"
   ]
  },
  {
   "cell_type": "markdown",
   "metadata": {},
   "source": [
    "**以tf.data.Dataset.from_generator這種loader類型示範**\n",
    "\n",
    "先準備好一個data generator，會yield指定數量的數字"
   ]
  },
  {
   "cell_type": "code",
   "execution_count": 2,
   "metadata": {},
   "outputs": [],
   "source": [
    "def f(rng):\n",
    "    for i in range(rng):\n",
    "        yield i"
   ]
  },
  {
   "cell_type": "code",
   "execution_count": 3,
   "metadata": {},
   "outputs": [
    {
     "data": {
      "text/plain": [
       "[0, 1, 2]"
      ]
     },
     "execution_count": 3,
     "metadata": {},
     "output_type": "execute_result"
    }
   ],
   "source": [
    "list(iter(f(3)))"
   ]
  },
  {
   "cell_type": "markdown",
   "metadata": {},
   "source": [
    "---"
   ]
  },
  {
   "cell_type": "markdown",
   "metadata": {},
   "source": [
    "## Take, Skip"
   ]
  },
  {
   "cell_type": "code",
   "execution_count": 4,
   "metadata": {},
   "outputs": [],
   "source": [
    "d=tf.data.Dataset.from_generator(f,args=[10],output_types=tf.float32)"
   ]
  },
  {
   "cell_type": "code",
   "execution_count": 5,
   "metadata": {},
   "outputs": [
    {
     "name": "stdout",
     "output_type": "stream",
     "text": [
      "<tf.Tensor: shape=(), dtype=float32, numpy=0.0>\n",
      "<tf.Tensor: shape=(), dtype=float32, numpy=1.0>\n",
      "<tf.Tensor: shape=(), dtype=float32, numpy=2.0>\n",
      "CPU times: user 25.9 ms, sys: 25.2 ms, total: 51.1 ms\n",
      "Wall time: 48.7 ms\n"
     ]
    }
   ],
   "source": [
    "%%time\n",
    "'''Take可以擷取dataset一部分'''\n",
    "for i,x in enumerate(d.take(3)):\n",
    "        print(x)"
   ]
  },
  {
   "cell_type": "code",
   "execution_count": 6,
   "metadata": {},
   "outputs": [
    {
     "name": "stdout",
     "output_type": "stream",
     "text": [
      "<tf.Tensor: shape=(), dtype=float32, numpy=0.0>\n",
      "<tf.Tensor: shape=(), dtype=float32, numpy=1.0>\n",
      "<tf.Tensor: shape=(), dtype=float32, numpy=2.0>\n",
      "<tf.Tensor: shape=(), dtype=float32, numpy=3.0>\n",
      "CPU times: user 28.4 ms, sys: 21.8 ms, total: 50.2 ms\n",
      "Wall time: 47.6 ms\n"
     ]
    }
   ],
   "source": [
    "%%time\n",
    "for i,x in enumerate(d.take(4)):\n",
    "        print(x)"
   ]
  },
  {
   "cell_type": "code",
   "execution_count": 7,
   "metadata": {},
   "outputs": [
    {
     "name": "stdout",
     "output_type": "stream",
     "text": [
      "<tf.Tensor: shape=(), dtype=float32, numpy=5.0>\n",
      "<tf.Tensor: shape=(), dtype=float32, numpy=6.0>\n",
      "<tf.Tensor: shape=(), dtype=float32, numpy=7.0>\n",
      "<tf.Tensor: shape=(), dtype=float32, numpy=8.0>\n",
      "<tf.Tensor: shape=(), dtype=float32, numpy=9.0>\n",
      "CPU times: user 23.4 ms, sys: 29.1 ms, total: 52.5 ms\n",
      "Wall time: 49.6 ms\n"
     ]
    }
   ],
   "source": [
    "%%time\n",
    "'''Skip可以跳過dataset一部分'''\n",
    "for i,x in enumerate(d.skip(5)):\n",
    "        print(x)"
   ]
  },
  {
   "cell_type": "code",
   "execution_count": 8,
   "metadata": {},
   "outputs": [
    {
     "name": "stdout",
     "output_type": "stream",
     "text": [
      "<tf.Tensor: shape=(), dtype=float32, numpy=6.0>\n",
      "<tf.Tensor: shape=(), dtype=float32, numpy=7.0>\n",
      "<tf.Tensor: shape=(), dtype=float32, numpy=8.0>\n",
      "<tf.Tensor: shape=(), dtype=float32, numpy=9.0>\n",
      "CPU times: user 23.3 ms, sys: 35.5 ms, total: 58.7 ms\n",
      "Wall time: 55.7 ms\n"
     ]
    }
   ],
   "source": [
    "%%time\n",
    "'''Skip可以跳過dataset一部分'''\n",
    "for i,x in enumerate(d.skip(6)):\n",
    "        print(x)"
   ]
  },
  {
   "cell_type": "markdown",
   "metadata": {},
   "source": [
    "---"
   ]
  },
  {
   "cell_type": "markdown",
   "metadata": {},
   "source": [
    "## Map"
   ]
  },
  {
   "cell_type": "code",
   "execution_count": 9,
   "metadata": {},
   "outputs": [],
   "source": [
    "'''套用指定算式做前處理，例如一開始是檔案名稱的dataset，可依序讀檔，前處理'''\n",
    "d=tf.data.Dataset.from_generator(f,args=[6],output_types=tf.float32).map(lambda x:x*2)"
   ]
  },
  {
   "cell_type": "code",
   "execution_count": 10,
   "metadata": {},
   "outputs": [
    {
     "name": "stdout",
     "output_type": "stream",
     "text": [
      "tf.Tensor(0.0, shape=(), dtype=float32)\n",
      "tf.Tensor(2.0, shape=(), dtype=float32)\n",
      "tf.Tensor(4.0, shape=(), dtype=float32)\n",
      "tf.Tensor(6.0, shape=(), dtype=float32)\n",
      "tf.Tensor(8.0, shape=(), dtype=float32)\n",
      "tf.Tensor(10.0, shape=(), dtype=float32)\n"
     ]
    }
   ],
   "source": [
    "'''依指定算式做前處理'''\n",
    "for i,x in enumerate(d):\n",
    "    print(x)"
   ]
  },
  {
   "cell_type": "code",
   "execution_count": 11,
   "metadata": {},
   "outputs": [],
   "source": [
    "d1=tf.data.Dataset.from_generator(f,args=[1000],output_types=tf.float32).map(lambda x:x*2)\n",
    "d2=tf.data.Dataset.from_generator(f,args=[1000],output_types=tf.float32).map(lambda x:x*2,num_parallel_calls=tf.data.experimental.AUTOTUNE)"
   ]
  },
  {
   "cell_type": "code",
   "execution_count": 12,
   "metadata": {},
   "outputs": [
    {
     "name": "stdout",
     "output_type": "stream",
     "text": [
      "CPU times: user 225 ms, sys: 84.8 ms, total: 310 ms\n",
      "Wall time: 250 ms\n"
     ]
    }
   ],
   "source": [
    "%%time\n",
    "for i,x in enumerate(d1):\n",
    "    pass"
   ]
  },
  {
   "cell_type": "code",
   "execution_count": 13,
   "metadata": {},
   "outputs": [
    {
     "name": "stdout",
     "output_type": "stream",
     "text": [
      "CPU times: user 225 ms, sys: 97.2 ms, total: 322 ms\n",
      "Wall time: 204 ms\n"
     ]
    }
   ],
   "source": [
    "%%time\n",
    "'''使用num_parallel_calls做平行化會快一點'''\n",
    "for i,x in enumerate(d2):\n",
    "    pass"
   ]
  },
  {
   "cell_type": "markdown",
   "metadata": {},
   "source": [
    "---"
   ]
  },
  {
   "cell_type": "markdown",
   "metadata": {},
   "source": [
    "## zip"
   ]
  },
  {
   "cell_type": "code",
   "execution_count": 14,
   "metadata": {},
   "outputs": [],
   "source": [
    "'''把兩個dataset的資料並聯，可用於data跟label相並'''\n",
    "d0=tf.data.Dataset.from_generator(f,args=[3],output_types=tf.float32).shuffle(3)\n",
    "d1=tf.data.Dataset.from_generator(f,args=[4],output_types=tf.float32)\n",
    "d2=tf.data.Dataset.zip((d0,d1))"
   ]
  },
  {
   "cell_type": "code",
   "execution_count": 15,
   "metadata": {},
   "outputs": [
    {
     "name": "stdout",
     "output_type": "stream",
     "text": [
      "(<tf.Tensor: shape=(), dtype=float32, numpy=1.0>, <tf.Tensor: shape=(), dtype=float32, numpy=0.0>)\n",
      "(<tf.Tensor: shape=(), dtype=float32, numpy=2.0>, <tf.Tensor: shape=(), dtype=float32, numpy=1.0>)\n",
      "(<tf.Tensor: shape=(), dtype=float32, numpy=0.0>, <tf.Tensor: shape=(), dtype=float32, numpy=2.0>)\n",
      "CPU times: user 58.9 ms, sys: 79.1 ms, total: 138 ms\n",
      "Wall time: 134 ms\n"
     ]
    }
   ],
   "source": [
    "%%time\n",
    "'''數量對不上時，最後面的會被砍掉'''\n",
    "for i,x in enumerate(d2):\n",
    "    print(x)"
   ]
  },
  {
   "cell_type": "markdown",
   "metadata": {},
   "source": [
    "---"
   ]
  },
  {
   "cell_type": "markdown",
   "metadata": {},
   "source": [
    "## Concatenate"
   ]
  },
  {
   "cell_type": "code",
   "execution_count": 16,
   "metadata": {},
   "outputs": [],
   "source": [
    "'''把兩個dataset接起來'''\n",
    "d0=tf.data.Dataset.from_generator(f,args=[3],output_types=tf.float32).shuffle(3)\n",
    "d1=tf.data.Dataset.from_generator(f,args=[4],output_types=tf.float32)\n",
    "d2=tf.data.Dataset.concatenate(d0,d1)"
   ]
  },
  {
   "cell_type": "code",
   "execution_count": 17,
   "metadata": {},
   "outputs": [
    {
     "name": "stdout",
     "output_type": "stream",
     "text": [
      "<tf.Tensor: shape=(), dtype=float32, numpy=2.0>\n",
      "<tf.Tensor: shape=(), dtype=float32, numpy=1.0>\n",
      "<tf.Tensor: shape=(), dtype=float32, numpy=0.0>\n",
      "<tf.Tensor: shape=(), dtype=float32, numpy=0.0>\n",
      "<tf.Tensor: shape=(), dtype=float32, numpy=1.0>\n",
      "<tf.Tensor: shape=(), dtype=float32, numpy=2.0>\n",
      "<tf.Tensor: shape=(), dtype=float32, numpy=3.0>\n",
      "CPU times: user 37.1 ms, sys: 88.2 ms, total: 125 ms\n",
      "Wall time: 123 ms\n"
     ]
    }
   ],
   "source": [
    "%%time\n",
    "for i,x in enumerate(d0):\n",
    "    print(x)\n",
    "for i,x in enumerate(d1):\n",
    "    print(x)"
   ]
  },
  {
   "cell_type": "code",
   "execution_count": 18,
   "metadata": {},
   "outputs": [
    {
     "name": "stdout",
     "output_type": "stream",
     "text": [
      "<tf.Tensor: shape=(), dtype=float32, numpy=2.0>\n",
      "<tf.Tensor: shape=(), dtype=float32, numpy=1.0>\n",
      "<tf.Tensor: shape=(), dtype=float32, numpy=0.0>\n",
      "<tf.Tensor: shape=(), dtype=float32, numpy=0.0>\n",
      "<tf.Tensor: shape=(), dtype=float32, numpy=1.0>\n",
      "<tf.Tensor: shape=(), dtype=float32, numpy=2.0>\n",
      "<tf.Tensor: shape=(), dtype=float32, numpy=3.0>\n",
      "CPU times: user 38.6 ms, sys: 85.2 ms, total: 124 ms\n",
      "Wall time: 120 ms\n"
     ]
    }
   ],
   "source": [
    "%%time\n",
    "'''接起來可能會稍慢但是很方便'''\n",
    "for i,x in enumerate(d2):\n",
    "    print(x)"
   ]
  },
  {
   "cell_type": "code",
   "execution_count": 19,
   "metadata": {},
   "outputs": [],
   "source": [
    "'''不過有繼承cache所以如果有先pre-run過就沒差太多'''\n",
    "d0=tf.data.Dataset.from_generator(f,args=[3],output_types=tf.float32).shuffle(3).cache()\n",
    "d1=tf.data.Dataset.from_generator(f,args=[4],output_types=tf.float32).cache()\n",
    "d2=tf.data.Dataset.concatenate(d0,d1)"
   ]
  },
  {
   "cell_type": "code",
   "execution_count": 20,
   "metadata": {},
   "outputs": [
    {
     "name": "stdout",
     "output_type": "stream",
     "text": [
      "<tf.Tensor: shape=(), dtype=float32, numpy=1.0>\n",
      "<tf.Tensor: shape=(), dtype=float32, numpy=2.0>\n",
      "<tf.Tensor: shape=(), dtype=float32, numpy=0.0>\n",
      "<tf.Tensor: shape=(), dtype=float32, numpy=0.0>\n",
      "<tf.Tensor: shape=(), dtype=float32, numpy=1.0>\n",
      "<tf.Tensor: shape=(), dtype=float32, numpy=2.0>\n",
      "<tf.Tensor: shape=(), dtype=float32, numpy=3.0>\n",
      "CPU times: user 37.9 ms, sys: 88.9 ms, total: 127 ms\n",
      "Wall time: 124 ms\n"
     ]
    }
   ],
   "source": [
    "%%time\n",
    "'''兩個分開跑'''\n",
    "for i,x in enumerate(d0):\n",
    "    print(x)\n",
    "for i,x in enumerate(d1):\n",
    "    print(x)"
   ]
  },
  {
   "cell_type": "code",
   "execution_count": 21,
   "metadata": {},
   "outputs": [
    {
     "name": "stdout",
     "output_type": "stream",
     "text": [
      "<tf.Tensor: shape=(), dtype=float32, numpy=1.0>\n",
      "<tf.Tensor: shape=(), dtype=float32, numpy=2.0>\n",
      "<tf.Tensor: shape=(), dtype=float32, numpy=0.0>\n",
      "<tf.Tensor: shape=(), dtype=float32, numpy=0.0>\n",
      "<tf.Tensor: shape=(), dtype=float32, numpy=1.0>\n",
      "<tf.Tensor: shape=(), dtype=float32, numpy=2.0>\n",
      "<tf.Tensor: shape=(), dtype=float32, numpy=3.0>\n",
      "CPU times: user 13.5 ms, sys: 3.48 ms, total: 17 ms\n",
      "Wall time: 13.7 ms\n"
     ]
    }
   ],
   "source": [
    "%%time\n",
    "'''跑concate起來的，因為兩個都有pre-run過所以很快'''\n",
    "for i,x in enumerate(d2):\n",
    "    print(x)"
   ]
  },
  {
   "cell_type": "code",
   "execution_count": null,
   "metadata": {},
   "outputs": [],
   "source": []
  }
 ],
 "metadata": {
  "kernelspec": {
   "display_name": "Python 3",
   "language": "python",
   "name": "python3"
  },
  "language_info": {
   "codemirror_mode": {
    "name": "ipython",
    "version": 3
   },
   "file_extension": ".py",
   "mimetype": "text/x-python",
   "name": "python",
   "nbconvert_exporter": "python",
   "pygments_lexer": "ipython3",
   "version": "3.7.6"
  }
 },
 "nbformat": 4,
 "nbformat_minor": 4
}
