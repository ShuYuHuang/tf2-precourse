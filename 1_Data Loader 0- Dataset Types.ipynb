{
 "cells": [
  {
   "cell_type": "markdown",
   "metadata": {},
   "source": [
    "# Data Loader- Dataset Types "
   ]
  },
  {
   "cell_type": "markdown",
   "metadata": {},
   "source": [
    "讀取檔案的function常稱呼為Data Loader。Tensorflow 2.0本身帶有一些程式，可以客製化的讀取檔案，在做Deep Learning時將資料從CPU或硬碟讀取到GPU，使資料能夠與Model參數在GPU上運算。\n",
    "TF2.0中 tf.data這個庫中的各種class和function就是來幫助各位客製化data loader。\n",
    "\n",
    "**Data Loader要件:**\n",
    "1. Dataset物件- 抽取data的來源，可以用各種方式形成，\n",
    "\n",
    "   可以被iterate(e.g. for x in Dataset)，但不可以被index (e.g. Dataset[3])\n",
    "2. Dataset操作- 對Dataset以特定方式抽取、分割、合併、加速、映射等等動作，來行程最後訓練、測試用的Data Loader\n",
    "\n",
    "這邊我們先從各種Dataset type開始介紹起\n",
    "\n",
    "## 內容:\n",
    "1. From Tensors\n",
    "2. From Tensor Slices\n",
    "3. List Files\n",
    "4. From Generator"
   ]
  },
  {
   "cell_type": "code",
   "execution_count": 8,
   "metadata": {},
   "outputs": [],
   "source": [
    "import tensorflow as tf\n",
    "from tensorflow import data\n",
    "import numpy as np"
   ]
  },
  {
   "cell_type": "markdown",
   "metadata": {},
   "source": [
    "## From Tensors"
   ]
  },
  {
   "cell_type": "markdown",
   "metadata": {},
   "source": [
    "從tensor建立只有一單位資料的Dataset: .from_tensors"
   ]
  },
  {
   "cell_type": "code",
   "execution_count": 43,
   "metadata": {},
   "outputs": [
    {
     "name": "stdout",
     "output_type": "stream",
     "text": [
      "tf.Tensor([0 1 2], shape=(3,), dtype=int32)\n"
     ]
    }
   ],
   "source": [
    "dataset=data.Dataset.from_tensors([0,1,2])\n",
    "for i in dataset:\n",
    "    print(i)"
   ]
  },
  {
   "cell_type": "markdown",
   "metadata": {},
   "source": [
    "該Dataset只有一個項目，要透過後續操作把項目依照指定方式分開才能後續使用，實際上有點冗贅\n",
    "\n",
    "使用起來跟tf.constant沒什麼差別"
   ]
  },
  {
   "cell_type": "markdown",
   "metadata": {},
   "source": [
    "# From Tensor Slices"
   ]
  },
  {
   "cell_type": "markdown",
   "metadata": {},
   "source": [
    "從tensor建立有數個單位資料的Dataset: .from_tensor_slices"
   ]
  },
  {
   "cell_type": "code",
   "execution_count": 44,
   "metadata": {},
   "outputs": [
    {
     "name": "stdout",
     "output_type": "stream",
     "text": [
      "tf.Tensor(0, shape=(), dtype=int32)\n",
      "tf.Tensor(1, shape=(), dtype=int32)\n",
      "tf.Tensor(2, shape=(), dtype=int32)\n"
     ]
    }
   ],
   "source": [
    "dataset=data.Dataset.from_tensor_slices([0,1,2])\n",
    "for i in dataset:\n",
    "    print(i)"
   ]
  },
  {
   "cell_type": "markdown",
   "metadata": {},
   "source": [
    "會依照輸入項目轉成Tensor，再由第0 rank分裂成數個單位，在iterate時會一個個輸出"
   ]
  },
  {
   "cell_type": "markdown",
   "metadata": {},
   "source": [
    "## List Files"
   ]
  },
  {
   "cell_type": "markdown",
   "metadata": {},
   "source": [
    "用一列檔案名稱建立Dataset: .list_files"
   ]
  },
  {
   "cell_type": "code",
   "execution_count": 45,
   "metadata": {},
   "outputs": [
    {
     "name": "stdout",
     "output_type": "stream",
     "text": [
      "tf.Tensor(b'example_data/0.txt', shape=(), dtype=string)\n",
      "tf.Tensor(b'example_data/1.txt', shape=(), dtype=string)\n",
      "tf.Tensor(b'example_data/2.txt', shape=(), dtype=string)\n",
      "tf.Tensor(b'example_data/3.txt', shape=(), dtype=string)\n"
     ]
    }
   ],
   "source": [
    "dataset=data.Dataset.list_files(\"example_data/*.txt\")\n",
    "for i in dataset:\n",
    "    print(i)"
   ]
  },
  {
   "cell_type": "markdown",
   "metadata": {},
   "source": [
    "這種Dataset要求輸入的是file_pattern，可以包含萬用符。\n",
    "若將檔案化為一個List來做.list_files會變慢\n",
    "\n",
    "要注意的是，若列舉檔案時要保持檔案順訊，記得要加shuffle=False"
   ]
  },
  {
   "cell_type": "code",
   "execution_count": 54,
   "metadata": {},
   "outputs": [
    {
     "name": "stdout",
     "output_type": "stream",
     "text": [
      "tf.Tensor(b'example_data/0.txt', shape=(), dtype=string)\n",
      "tf.Tensor(b'example_data/1.txt', shape=(), dtype=string)\n",
      "tf.Tensor(b'example_data/2.txt', shape=(), dtype=string)\n",
      "tf.Tensor(b'example_data/3.txt', shape=(), dtype=string)\n"
     ]
    }
   ],
   "source": [
    "dataset=data.Dataset.list_files(\"example_data/*.txt\",shuffle=False)\n",
    "for i in dataset:\n",
    "    print(i)"
   ]
  },
  {
   "cell_type": "code",
   "execution_count": 56,
   "metadata": {},
   "outputs": [
    {
     "data": {
      "text/plain": [
       "tf.string"
      ]
     },
     "execution_count": 56,
     "metadata": {},
     "output_type": "execute_result"
    }
   ],
   "source": [
    "i.dtype"
   ]
  },
  {
   "cell_type": "markdown",
   "metadata": {},
   "source": [
    "## From Generator"
   ]
  },
  {
   "cell_type": "markdown",
   "metadata": {},
   "source": [
    "從function建立Dataset: .from_generator"
   ]
  },
  {
   "cell_type": "markdown",
   "metadata": {},
   "source": [
    "要先建立一個function，且必須要是能iterate的funciton"
   ]
  },
  {
   "cell_type": "code",
   "execution_count": 60,
   "metadata": {},
   "outputs": [],
   "source": [
    "def f(rng):\n",
    "    for i in range(rng):\n",
    "        yield i"
   ]
  },
  {
   "cell_type": "code",
   "execution_count": 48,
   "metadata": {},
   "outputs": [
    {
     "name": "stdout",
     "output_type": "stream",
     "text": [
      "tf.Tensor(0.0, shape=(), dtype=float32)\n",
      "tf.Tensor(1.0, shape=(), dtype=float32)\n",
      "tf.Tensor(2.0, shape=(), dtype=float32)\n"
     ]
    }
   ],
   "source": [
    "dataset=data.Dataset.from_generator(f,output_types=tf.float32,args=[3])\n",
    "for i in dataset:\n",
    "    print(i)"
   ]
  },
  {
   "cell_type": "markdown",
   "metadata": {},
   "source": [
    "非常活的一種Dataset，可以指定:\n",
    "1. generator: 使用的funciton，input是什麼output是什麼都可以自己訂，只要是一個iterable function\n",
    "2. output_types: 輸出的資料型別，會是tensor\n",
    "3. (optional)args: 代入的arguement\n",
    "4. (optional)output_shape: output應該什麼形狀，可供檢查用"
   ]
  },
  {
   "cell_type": "markdown",
   "metadata": {},
   "source": [
    "就算輸出是string也可以，只要output_type有對上就好"
   ]
  },
  {
   "cell_type": "code",
   "execution_count": 68,
   "metadata": {},
   "outputs": [],
   "source": [
    "def f(rng):\n",
    "    for i in range(rng):\n",
    "        yield str(i)"
   ]
  },
  {
   "cell_type": "code",
   "execution_count": 69,
   "metadata": {},
   "outputs": [
    {
     "name": "stdout",
     "output_type": "stream",
     "text": [
      "tf.Tensor(b'0', shape=(), dtype=string)\n",
      "tf.Tensor(b'1', shape=(), dtype=string)\n",
      "tf.Tensor(b'2', shape=(), dtype=string)\n"
     ]
    }
   ],
   "source": [
    "dataset=data.Dataset.from_generator(f,output_types=tf.string,args=[3])\n",
    "for i in dataset:\n",
    "    print(i)"
   ]
  },
  {
   "cell_type": "markdown",
   "metadata": {},
   "source": [
    "如果function是無窮迴圈也可以，但要在後續操作設立停止條件"
   ]
  },
  {
   "cell_type": "code",
   "execution_count": 77,
   "metadata": {},
   "outputs": [],
   "source": [
    "def f():\n",
    "    i=0\n",
    "    while 1:\n",
    "        i+=1\n",
    "        yield i"
   ]
  },
  {
   "cell_type": "code",
   "execution_count": 80,
   "metadata": {},
   "outputs": [
    {
     "name": "stdout",
     "output_type": "stream",
     "text": [
      "0 tf.Tensor(1.0, shape=(), dtype=float32)\n",
      "1 tf.Tensor(2.0, shape=(), dtype=float32)\n",
      "2 tf.Tensor(3.0, shape=(), dtype=float32)\n",
      "3 tf.Tensor(4.0, shape=(), dtype=float32)\n",
      "4 tf.Tensor(5.0, shape=(), dtype=float32)\n",
      "5 tf.Tensor(6.0, shape=(), dtype=float32)\n",
      "6 tf.Tensor(7.0, shape=(), dtype=float32)\n",
      "7 tf.Tensor(8.0, shape=(), dtype=float32)\n",
      "8 tf.Tensor(9.0, shape=(), dtype=float32)\n",
      "9 tf.Tensor(10.0, shape=(), dtype=float32)\n",
      "10 tf.Tensor(11.0, shape=(), dtype=float32)\n"
     ]
    }
   ],
   "source": [
    "dataset=data.Dataset.from_generator(f,output_types=tf.float32)\n",
    "for e,i in enumerate(dataset):\n",
    "    print(e,i)\n",
    "    if e>=10:\n",
    "        break"
   ]
  },
  {
   "cell_type": "code",
   "execution_count": null,
   "metadata": {},
   "outputs": [],
   "source": []
  }
 ],
 "metadata": {
  "kernelspec": {
   "display_name": "Python 3",
   "language": "python",
   "name": "python3"
  },
  "language_info": {
   "codemirror_mode": {
    "name": "ipython",
    "version": 3
   },
   "file_extension": ".py",
   "mimetype": "text/x-python",
   "name": "python",
   "nbconvert_exporter": "python",
   "pygments_lexer": "ipython3",
   "version": "3.7.6"
  }
 },
 "nbformat": 4,
 "nbformat_minor": 4
}
