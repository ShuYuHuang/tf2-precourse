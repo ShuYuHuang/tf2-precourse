{
 "cells": [
  {
   "cell_type": "markdown",
   "metadata": {},
   "source": [
    "# **Customized Model/Layer/Loss Class**\n",
    "我們這次課程為實現某些演算法細節，可能會需要客製化Model，再這邊把客製化layer, Model以及loss function一起講\n",
    "\n",
    "內容包含:\n",
    "* [**Customized Layers**](#客製化-Layers)\n",
    "* [**Customized Models**](#客製化-Models)\n",
    "* [**Customized Loss functions**](#客製化-Loss-Function)"
   ]
  },
  {
   "cell_type": "code",
   "execution_count": 1,
   "metadata": {},
   "outputs": [],
   "source": [
    "import tensorflow as tf"
   ]
  },
  {
   "cell_type": "markdown",
   "metadata": {},
   "source": [
    "## **Customized Layers**\n",
    "一般我們常常call Tensor flow的高級Layer API，這邊我們若要有特定功能，可以自己寫layer\n",
    "\n",
    "Layer裡面可能有參數可以訓練(e.g. Dense)，也可以沒有可訓練參數(e.g. MaxPooling)\n",
    "\n",
    "若在Tensorflow列表中找不到想要的算式，也可以自己寫layer"
   ]
  },
  {
   "cell_type": "code",
   "execution_count": 2,
   "metadata": {},
   "outputs": [],
   "source": [
    "class CustomLayer(tf.keras.layers.Layer):\n",
    "    def __init__(self, **kargs):\n",
    "        \"\"\"\n",
    "        初始參數的設定\n",
    "        \"\"\"\n",
    "    def build(self, input_shape):\n",
    "        \"\"\"\n",
    "        build會在第一次有input輸入的時候做\n",
    "        或者在model.compile的時候做\n",
    "        參數:\n",
    "            input_shape: 輸入資料的形狀\n",
    "\n",
    "        與 input_shape 有關的初始設定\n",
    "        \"\"\"\n",
    "    def call(self, inputs):\n",
    "        \"\"\"\n",
    "        參數:\n",
    "            inputs: 輸入資料\n",
    "\n",
    "        定義網路的正向傳播\n",
    "        \"\"\""
   ]
  },
  {
   "cell_type": "markdown",
   "metadata": {},
   "source": [
    "### **建構全連接層(Dense層)**"
   ]
  },
  {
   "cell_type": "markdown",
   "metadata": {},
   "source": [
    "**Method1 (使用 Tensorflow 高階 API)**\n",
    "\n",
    "指定寬度、激活函數、初始分布函數"
   ]
  },
  {
   "cell_type": "code",
   "execution_count": 19,
   "metadata": {},
   "outputs": [
    {
     "data": {
      "text/plain": [
       "<tensorflow.python.keras.layers.core.Dense at 0x7f35e81255d0>"
      ]
     },
     "execution_count": 19,
     "metadata": {},
     "output_type": "execute_result"
    }
   ],
   "source": [
    "l1=tf.keras.layers.Dense(64,\n",
    "                      activation='sigmoid',\n",
    "                      kernel_initializer='glorot_uniform')\n",
    "l1"
   ]
  },
  {
   "cell_type": "code",
   "execution_count": 20,
   "metadata": {},
   "outputs": [
    {
     "name": "stdout",
     "output_type": "stream",
     "text": [
      "(1, 64)\n"
     ]
    }
   ],
   "source": [
    "# 試丟一個大小為5的東西進去\n",
    "h1=l1(tf.ones((1,5)))\n",
    "print(h1.shape)"
   ]
  },
  {
   "cell_type": "code",
   "execution_count": 21,
   "metadata": {},
   "outputs": [
    {
     "name": "stdout",
     "output_type": "stream",
     "text": [
      "Shape mismatched\n"
     ]
    }
   ],
   "source": [
    "# 若前面已經放過一個input進去，則大小被固定下來 (從5到64的矩陣相乘)\n",
    "# 放別的寬度的資料會出error\n",
    "try:\n",
    "    h1=l1(tf.ones((1,3)))\n",
    "except:\n",
    "    print(\"Shape mismatched\")"
   ]
  },
  {
   "cell_type": "code",
   "execution_count": 24,
   "metadata": {},
   "outputs": [
    {
     "data": {
      "text/plain": [
       "TensorShape([5, 64])"
      ]
     },
     "execution_count": 24,
     "metadata": {},
     "output_type": "execute_result"
    }
   ],
   "source": [
    "# 回去看weight的部分可看到他就是5 x 64的矩陣\n",
    "l1.weights[0].shape"
   ]
  },
  {
   "cell_type": "markdown",
   "metadata": {},
   "source": [
    "**Method2 (客製化 Layer API)**"
   ]
  },
  {
   "cell_type": "code",
   "execution_count": 11,
   "metadata": {},
   "outputs": [],
   "source": [
    "class CustomDenseLayer(tf.keras.layers.Layer):\n",
    "    def __init__(self, num_outputs):\n",
    "        super().__init__()\n",
    "        # 只有一個參數，要給output數目\n",
    "        self.num_outputs = num_outputs\n",
    "\n",
    "    def build(self, input_shape):\n",
    "        # 第一個參數，weight為矩陣乘法目標\n",
    "        self.weight = \\\n",
    "            self.add_variable(name='kernel',\n",
    "                              shape=[input_shape[-1], self.num_outputs],\n",
    "                              initializer='glorot_uniform')\n",
    "        # 第一個參數，bias, 為加法目標\n",
    "        self.bias = \\\n",
    "            self.add_variable(name='bias',\n",
    "                              shape=[self.num_outputs, ])\n",
    "\n",
    "    def call(self, inputs):\n",
    "        # 依照Dense層規則，先做矩陣乘法\n",
    "        x = tf.matmul(inputs, self.weight)\n",
    "        # 再做矩陣加法\n",
    "        x = tf.add(x, self.bias)\n",
    "        # 最後做sigmoid activation\n",
    "        x = tf.nn.sigmoid(x)\n",
    "\n",
    "        return x"
   ]
  },
  {
   "cell_type": "code",
   "execution_count": 26,
   "metadata": {},
   "outputs": [
    {
     "data": {
      "text/plain": [
       "<__main__.CustomDenseLayer at 0x7f35d01e15d0>"
      ]
     },
     "execution_count": 26,
     "metadata": {},
     "output_type": "execute_result"
    }
   ],
   "source": [
    "l1=CustomDenseLayer(num_outputs=32)\n",
    "l1"
   ]
  },
  {
   "cell_type": "code",
   "execution_count": 27,
   "metadata": {},
   "outputs": [
    {
     "name": "stdout",
     "output_type": "stream",
     "text": [
      "(1, 32)\n"
     ]
    },
    {
     "name": "stderr",
     "output_type": "stream",
     "text": [
      "/opt/conda/lib/python3.7/site-packages/tensorflow/python/keras/engine/base_layer.py:2281: UserWarning: `layer.add_variable` is deprecated and will be removed in a future version. Please use `layer.add_weight` method instead.\n",
      "  warnings.warn('`layer.add_variable` is deprecated and '\n"
     ]
    }
   ],
   "source": [
    "# 試丟一個大小為5的東西進去\n",
    "h1=l1(tf.ones((1,5)))\n",
    "print(h1.shape)"
   ]
  },
  {
   "cell_type": "code",
   "execution_count": 28,
   "metadata": {},
   "outputs": [
    {
     "name": "stdout",
     "output_type": "stream",
     "text": [
      "Shape mismatched\n"
     ]
    }
   ],
   "source": [
    "# 若前面已經放過一個input進去，則大小被固定下來 (從5到32的矩陣相乘)\n",
    "# 放別的寬度的資料會出error\n",
    "try:\n",
    "    h1=l1(tf.ones((1,3)))\n",
    "except:\n",
    "    print(\"Shape mismatched\")"
   ]
  },
  {
   "cell_type": "code",
   "execution_count": 29,
   "metadata": {},
   "outputs": [
    {
     "data": {
      "text/plain": [
       "TensorShape([5, 32])"
      ]
     },
     "execution_count": 29,
     "metadata": {},
     "output_type": "execute_result"
    }
   ],
   "source": [
    "# 回去看weight的部分可看到他就是5 x 32的矩陣\n",
    "l1.weight.shape"
   ]
  },
  {
   "cell_type": "code",
   "execution_count": 32,
   "metadata": {},
   "outputs": [
    {
     "data": {
      "text/plain": [
       "TensorShape([5, 32])"
      ]
     },
     "execution_count": 32,
     "metadata": {},
     "output_type": "execute_result"
    }
   ],
   "source": [
    "# weight是我們令的變數，另外weights可以列出這個layer中所有變數\n",
    "l1.weights[0].shape"
   ]
  },
  {
   "cell_type": "markdown",
   "metadata": {},
   "source": [
    "## **Customized Models**\n",
    "堆疊model常常用functional API的方式就可以做了，連residual都可以簡單的完成\n",
    "\n",
    "但若是模型較為複雜，或者同樣型態的model要被生成多次時，使用客製化的model class比較方便"
   ]
  },
  {
   "cell_type": "code",
   "execution_count": 33,
   "metadata": {},
   "outputs": [],
   "source": [
    "class CustomModel(tf.keras.Model):\n",
    "    def __init__(self, **kargs):\n",
    "        \"\"\"\n",
    "        初始參數的設定以及定義 layers\n",
    "        \"\"\"\n",
    "    def call(self, inputs):\n",
    "        \"\"\"\n",
    "        參數:\n",
    "            inputs: 輸入資料\n",
    "\n",
    "        定義模型的正向傳播\n",
    "        \"\"\""
   ]
  },
  {
   "cell_type": "code",
   "execution_count": 36,
   "metadata": {},
   "outputs": [],
   "source": [
    "class MyModel(tf.keras.Model):\n",
    "    def __init__(self):\n",
    "        super(MyModel, self).__init__()\n",
    "        self.dense1 = tf.keras.layers.Dense(16, activation=tf.nn.relu)\n",
    "        self.dense2 = tf.keras.layers.Dense(8, activation=tf.nn.softmax)\n",
    "\n",
    "    def call(self, inputs):\n",
    "        x = self.dense1(inputs)\n",
    "        x = self.dense2(x)\n",
    "        return x\n",
    "model=MyModel()"
   ]
  },
  {
   "cell_type": "code",
   "execution_count": 37,
   "metadata": {},
   "outputs": [
    {
     "name": "stdout",
     "output_type": "stream",
     "text": [
      "(1, 8)\n"
     ]
    }
   ],
   "source": [
    "# 試丟一個大小為5的東西進去\n",
    "y=model(tf.ones((1,5)))\n",
    "print(y.shape)"
   ]
  },
  {
   "cell_type": "code",
   "execution_count": 38,
   "metadata": {},
   "outputs": [
    {
     "name": "stdout",
     "output_type": "stream",
     "text": [
      "Shape mismatched\n"
     ]
    }
   ],
   "source": [
    "# 若前面已經放過一個input進去，則大小被固定下來\n",
    "# 放別的寬度的資料會出error\n",
    "try:\n",
    "    y=model(tf.ones((1,3)))\n",
    "except:\n",
    "    print(\"Shape mismatched\")"
   ]
  },
  {
   "cell_type": "code",
   "execution_count": 39,
   "metadata": {},
   "outputs": [
    {
     "data": {
      "text/plain": [
       "[<tensorflow.python.keras.layers.core.Dense at 0x7f35d02c2850>,\n",
       " <tensorflow.python.keras.layers.core.Dense at 0x7f35d83c2f90>]"
      ]
     },
     "execution_count": 39,
     "metadata": {},
     "output_type": "execute_result"
    }
   ],
   "source": [
    "# 各種layer變數會被統整到layer這個變項裡面\n",
    "model.layers"
   ]
  },
  {
   "cell_type": "code",
   "execution_count": 40,
   "metadata": {},
   "outputs": [
    {
     "data": {
      "text/plain": [
       "[<tf.Variable 'my_model_1/dense_4/kernel:0' shape=(5, 16) dtype=float32, numpy=\n",
       " array([[ 0.22509235,  0.10956788,  0.15447831,  0.22825503, -0.07745427,\n",
       "          0.3174609 , -0.4493363 ,  0.17855275,  0.37406814,  0.351785  ,\n",
       "         -0.40838215,  0.01522297,  0.43172306,  0.04488683, -0.44169077,\n",
       "          0.19660014],\n",
       "        [ 0.36075675, -0.28902954,  0.02301323,  0.4181661 , -0.17249233,\n",
       "         -0.5108302 ,  0.39781773,  0.3464753 , -0.4773145 ,  0.26047516,\n",
       "         -0.2381464 ,  0.23512453,  0.27555072, -0.27861717, -0.47120845,\n",
       "          0.32495666],\n",
       "        [-0.3106509 , -0.15252528,  0.04891878,  0.5336347 , -0.4115197 ,\n",
       "          0.27587068,  0.11704636,  0.14703971, -0.00885987, -0.2510789 ,\n",
       "         -0.11236367, -0.21148911,  0.42190492, -0.36974537, -0.41024047,\n",
       "          0.49114865],\n",
       "        [-0.52225024, -0.49368647,  0.18837875,  0.01238447,  0.03981495,\n",
       "          0.29456133,  0.52389723,  0.11623925, -0.00767344, -0.04741675,\n",
       "         -0.25276366,  0.3314305 , -0.30089396,  0.25632048,  0.1738298 ,\n",
       "          0.13090366],\n",
       "        [-0.10149595, -0.082232  ,  0.02219397, -0.3404405 ,  0.4119872 ,\n",
       "          0.08988577, -0.1606808 ,  0.33690673, -0.1988658 , -0.03104621,\n",
       "          0.07275081,  0.26896435,  0.34164202,  0.1627205 , -0.4485394 ,\n",
       "          0.36866367]], dtype=float32)>,\n",
       " <tf.Variable 'my_model_1/dense_4/bias:0' shape=(16,) dtype=float32, numpy=\n",
       " array([0., 0., 0., 0., 0., 0., 0., 0., 0., 0., 0., 0., 0., 0., 0., 0.],\n",
       "       dtype=float32)>,\n",
       " <tf.Variable 'my_model_1/dense_5/kernel:0' shape=(16, 8) dtype=float32, numpy=\n",
       " array([[-0.04178655, -0.40690398,  0.2865243 , -0.20087707, -0.374977  ,\n",
       "         -0.40233934, -0.0996201 ,  0.23118496],\n",
       "        [ 0.31984925, -0.4219774 , -0.2290231 ,  0.19293678,  0.39424384,\n",
       "          0.42785728,  0.3094946 ,  0.15350032],\n",
       "        [-0.4478966 , -0.18957138, -0.39148068,  0.3947829 , -0.08529806,\n",
       "         -0.27249146,  0.4198817 , -0.00484359],\n",
       "        [ 0.08015418,  0.07084525,  0.01315844, -0.47466123,  0.32370734,\n",
       "          0.03868067,  0.26212847,  0.48544276],\n",
       "        [-0.46983933, -0.43827224, -0.43021846, -0.29168212,  0.4941702 ,\n",
       "          0.1368308 , -0.47039092, -0.3803798 ],\n",
       "        [ 0.09320521,  0.2298398 , -0.36639357,  0.11467373,  0.48702025,\n",
       "          0.37890685,  0.32331753,  0.4906534 ],\n",
       "        [-0.2692598 , -0.09629476,  0.07369125, -0.2597245 ,  0.3247825 ,\n",
       "         -0.42865527, -0.04899728, -0.37024844],\n",
       "        [ 0.40435123, -0.34629202,  0.21365595, -0.43479478,  0.35791254,\n",
       "          0.04017067, -0.19817185,  0.22710145],\n",
       "        [ 0.35932946,  0.425058  ,  0.28180695,  0.11478817, -0.30347943,\n",
       "          0.09433103,  0.19332421, -0.27219915],\n",
       "        [ 0.25058067,  0.02371407,  0.37942386, -0.3160169 , -0.44912863,\n",
       "         -0.32904923, -0.03831851, -0.3078606 ],\n",
       "        [-0.45649683,  0.09933114,  0.14090681,  0.3045025 ,  0.16855073,\n",
       "          0.28627813,  0.2488612 , -0.08587539],\n",
       "        [ 0.09649932,  0.4137833 , -0.18941104,  0.07342887,  0.42576492,\n",
       "          0.04061306,  0.38772154, -0.05240655],\n",
       "        [-0.36730957,  0.11021709,  0.03350675, -0.13911998,  0.23058724,\n",
       "          0.14823115, -0.19011307,  0.19505024],\n",
       "        [ 0.39187264, -0.4885682 , -0.2917999 , -0.17392218, -0.38892257,\n",
       "          0.21587086,  0.2356031 , -0.12392116],\n",
       "        [-0.21048725, -0.43586767,  0.32616735, -0.00466204, -0.2927785 ,\n",
       "         -0.30805922, -0.18270385,  0.17861962],\n",
       "        [-0.44707823,  0.3609755 , -0.17131436,  0.246822  ,  0.40996933,\n",
       "          0.14340556, -0.32458544,  0.06162751]], dtype=float32)>,\n",
       " <tf.Variable 'my_model_1/dense_5/bias:0' shape=(8,) dtype=float32, numpy=array([0., 0., 0., 0., 0., 0., 0., 0.], dtype=float32)>]"
      ]
     },
     "execution_count": 40,
     "metadata": {},
     "output_type": "execute_result"
    }
   ],
   "source": [
    "# 可訓練的參數也會被統整到trainable_weights裡面\n",
    "model.trainable_weights"
   ]
  },
  {
   "cell_type": "markdown",
   "metadata": {},
   "source": [
    "若重複的去生成model，分開initial\n",
    "\n",
    "參數會不一樣"
   ]
  },
  {
   "cell_type": "code",
   "execution_count": 51,
   "metadata": {},
   "outputs": [],
   "source": [
    "model1=MyModel()\n",
    "model2=MyModel()\n",
    "\n",
    "y1=model1(tf.ones((1,5)))\n",
    "y2=model2(tf.ones((1,5)))"
   ]
  },
  {
   "cell_type": "code",
   "execution_count": 52,
   "metadata": {},
   "outputs": [
    {
     "data": {
      "text/plain": [
       "<tf.Variable 'my_model_12/dense_26/kernel:0' shape=(5, 16) dtype=float32, numpy=\n",
       "array([[-0.11444414,  0.01012957, -0.28339708,  0.08630157,  0.02354568,\n",
       "         0.11746448, -0.4906971 ,  0.2704894 , -0.13487735,  0.38391316,\n",
       "        -0.2953563 ,  0.2414397 , -0.16311872,  0.370894  ,  0.36969376,\n",
       "         0.20697314],\n",
       "       [-0.09879333, -0.45222104, -0.31403482, -0.19894648, -0.37249246,\n",
       "        -0.533655  , -0.16060573, -0.32114354, -0.11652294,  0.3282854 ,\n",
       "         0.36894685, -0.47240052, -0.01657182,  0.2647044 ,  0.18349051,\n",
       "        -0.09088466],\n",
       "       [ 0.01511425, -0.05466133,  0.19703871, -0.08780456,  0.16073763,\n",
       "         0.34815776,  0.293988  ,  0.21749616, -0.05775216, -0.03400028,\n",
       "        -0.1874251 , -0.43869147, -0.17119065, -0.3152846 ,  0.04028815,\n",
       "        -0.09723589],\n",
       "       [-0.5170947 ,  0.38935876,  0.42224753, -0.3109203 , -0.49129823,\n",
       "         0.49109966,  0.19603854, -0.23304448,  0.27302957,  0.45412266,\n",
       "        -0.38829923,  0.2762487 ,  0.2351675 , -0.45699865, -0.05157015,\n",
       "         0.3196749 ],\n",
       "       [ 0.39107817, -0.0914616 , -0.50764024,  0.52444464,  0.3523655 ,\n",
       "        -0.15906933, -0.53070116,  0.5220093 ,  0.03714293,  0.11908704,\n",
       "         0.22413373,  0.19635105, -0.3886404 , -0.1536861 ,  0.46948212,\n",
       "        -0.1996809 ]], dtype=float32)>"
      ]
     },
     "execution_count": 52,
     "metadata": {},
     "output_type": "execute_result"
    }
   ],
   "source": [
    "model1.trainable_weights[0]"
   ]
  },
  {
   "cell_type": "code",
   "execution_count": 53,
   "metadata": {},
   "outputs": [
    {
     "data": {
      "text/plain": [
       "<tf.Variable 'my_model_13/dense_28/kernel:0' shape=(5, 16) dtype=float32, numpy=\n",
       "array([[-0.43718973, -0.27549133,  0.20964736,  0.29903603,  0.38002813,\n",
       "         0.527752  ,  0.24704659,  0.4242394 ,  0.17216176,  0.24465692,\n",
       "        -0.17106155,  0.48341936,  0.07214195, -0.03411543,  0.01535052,\n",
       "         0.41106516],\n",
       "       [-0.0044446 ,  0.41200185, -0.3400581 ,  0.32694018, -0.16659874,\n",
       "         0.45488632, -0.15703666, -0.2995003 ,  0.46946067, -0.01796675,\n",
       "        -0.12215781,  0.42717993, -0.3059165 ,  0.11503595, -0.15690589,\n",
       "        -0.34059727],\n",
       "       [ 0.24458861, -0.05809879, -0.50295454, -0.33806503,  0.07673115,\n",
       "         0.3929419 ,  0.00734055, -0.05190685,  0.08303833,  0.09045291,\n",
       "        -0.10039857, -0.09071594, -0.0833666 , -0.34367812,  0.39554882,\n",
       "        -0.43407598],\n",
       "       [-0.40277964, -0.20628917,  0.329933  ,  0.19289917,  0.13798803,\n",
       "        -0.50629294,  0.32769078, -0.24671164, -0.06667066, -0.34767568,\n",
       "        -0.5090659 , -0.08498749,  0.16306645,  0.38485622, -0.27605027,\n",
       "         0.5227719 ],\n",
       "       [ 0.21534878, -0.25768617, -0.38564634, -0.36204278,  0.11349446,\n",
       "         0.52887076, -0.10753459,  0.5063252 , -0.42211396,  0.49865323,\n",
       "        -0.24673381,  0.5088232 ,  0.31772524, -0.02914631, -0.28651106,\n",
       "        -0.46684897]], dtype=float32)>"
      ]
     },
     "execution_count": 53,
     "metadata": {},
     "output_type": "execute_result"
    }
   ],
   "source": [
    "model2.trainable_weights[0]"
   ]
  },
  {
   "cell_type": "markdown",
   "metadata": {},
   "source": [
    "## **Customized Loss Function**\n",
    "若有特別的loss funciton (可能配合特別的model)需要客製化時，可以就用普通的function來寫"
   ]
  },
  {
   "cell_type": "code",
   "execution_count": 7,
   "metadata": {},
   "outputs": [],
   "source": [
    "def custom_loss(y_true, y_pred):\n",
    "    \"\"\"\n",
    "    參數:\n",
    "        y_true: 真值\n",
    "        y_pred: 預測值\n",
    "\n",
    "    計算 loss\n",
    "    \"\"\"\n",
    "    return loss"
   ]
  },
  {
   "cell_type": "markdown",
   "metadata": {},
   "source": [
    "### 建構一個 categoricl cross entropy function"
   ]
  },
  {
   "cell_type": "markdown",
   "metadata": {},
   "source": [
    "### **Method 1 (使用 Tensorflow 高階 API)**"
   ]
  },
  {
   "cell_type": "code",
   "execution_count": 113,
   "metadata": {},
   "outputs": [],
   "source": [
    "cce=tf.keras.losses.CategoricalCrossentropy()"
   ]
  },
  {
   "cell_type": "code",
   "execution_count": 114,
   "metadata": {},
   "outputs": [
    {
     "data": {
      "text/plain": [
       "<tf.Tensor: shape=(), dtype=float32, numpy=1.2039728>"
      ]
     },
     "execution_count": 114,
     "metadata": {},
     "output_type": "execute_result"
    }
   ],
   "source": [
    "cce(tf.constant([0.5,0.5]),tf.constant([0.9,0.1]))"
   ]
  },
  {
   "cell_type": "code",
   "execution_count": 115,
   "metadata": {},
   "outputs": [
    {
     "data": {
      "text/plain": [
       "<tf.Tensor: shape=(), dtype=float32, numpy=nan>"
      ]
     },
     "execution_count": 115,
     "metadata": {},
     "output_type": "execute_result"
    }
   ],
   "source": [
    "cce(tf.ones((4,3)),tf.zeros((4,3)))"
   ]
  },
  {
   "cell_type": "markdown",
   "metadata": {},
   "source": [
    "原本碰上log(0)就算不出來"
   ]
  },
  {
   "cell_type": "markdown",
   "metadata": {},
   "source": [
    "### **Method2 (客製化 Loss API)**"
   ]
  },
  {
   "cell_type": "code",
   "execution_count": 116,
   "metadata": {},
   "outputs": [],
   "source": [
    "\n",
    "def custom_cce(y_true, y_pred):\n",
    "    x = tf.reduce_mean(\n",
    "            -tf.reduce_sum(y_true * tf.math.log(y_pred+1e-10), axis=-1))\n",
    "    return x"
   ]
  },
  {
   "cell_type": "code",
   "execution_count": 117,
   "metadata": {},
   "outputs": [
    {
     "data": {
      "text/plain": [
       "<tf.Tensor: shape=(), dtype=float32, numpy=1.2039728>"
      ]
     },
     "execution_count": 117,
     "metadata": {},
     "output_type": "execute_result"
    }
   ],
   "source": [
    "custom_cce(tf.constant([0.5,0.5]),tf.constant([0.9,0.1]))"
   ]
  },
  {
   "cell_type": "code",
   "execution_count": 118,
   "metadata": {},
   "outputs": [
    {
     "data": {
      "text/plain": [
       "<tf.Tensor: shape=(), dtype=float32, numpy=69.07755>"
      ]
     },
     "execution_count": 118,
     "metadata": {},
     "output_type": "execute_result"
    }
   ],
   "source": [
    "custom_cce(tf.ones((4,3)),tf.zeros((4,3)))"
   ]
  },
  {
   "cell_type": "markdown",
   "metadata": {},
   "source": [
    "這邊嘗試在log上一定補一個極小的值，讓他每次都算得出來"
   ]
  }
 ],
 "metadata": {
  "kernelspec": {
   "display_name": "Python 3",
   "language": "python",
   "name": "python3"
  },
  "language_info": {
   "codemirror_mode": {
    "name": "ipython",
    "version": 3
   },
   "file_extension": ".py",
   "mimetype": "text/x-python",
   "name": "python",
   "nbconvert_exporter": "python",
   "pygments_lexer": "ipython3",
   "version": "3.7.6"
  }
 },
 "nbformat": 4,
 "nbformat_minor": 4
}
